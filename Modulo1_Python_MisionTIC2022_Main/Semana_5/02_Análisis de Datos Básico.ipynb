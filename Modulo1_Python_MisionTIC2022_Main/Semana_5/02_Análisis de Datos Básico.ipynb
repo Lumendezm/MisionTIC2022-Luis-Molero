{
 "cells": [
  {
   "cell_type": "markdown",
   "metadata": {},
   "source": [
    "# matplotlib.pyplot\n",
    "\n",
    "Colección de python con funciones que hacen que matplotlib funcione como MATLAB\n",
    "\n",
    "https://matplotlib.org/3.5.0/tutorials/introductory/pyplot.html"
   ]
  },
  {
   "cell_type": "code",
   "execution_count": null,
   "metadata": {},
   "outputs": [],
   "source": [
    "# Para iniciar con pyplot, debemos importar la clase\n",
    "\n",
    "import matplotlib.pyplot as plt"
   ]
  },
  {
   "cell_type": "markdown",
   "metadata": {},
   "source": [
    "## Grafico usando listas"
   ]
  },
  {
   "cell_type": "code",
   "execution_count": null,
   "metadata": {},
   "outputs": [],
   "source": [
    "import matplotlib.pyplot as plt\n",
    "\n",
    "x1 = [2,5,6,14]\n",
    "y1 = [11,22,33,44]\n",
    "\n",
    "x2 = [2,5,6,15]\n",
    "y2 = [4,12,18,45]"
   ]
  },
  {
   "cell_type": "code",
   "execution_count": null,
   "metadata": {},
   "outputs": [],
   "source": [
    "# plot(): Plotea 'y' versus 'x' como líneas y/o marcadores\n",
    "\n",
    "# matplotlib.pyplot.plot(*args, scalex=True, scaley=True, data=None, **kwargs)\n",
    "# https://matplotlib.org/stable/api/_as_gen/matplotlib.pyplot.plot.html\n",
    "\n",
    "# Graficar 2 lineas en la misma grid\n",
    "\n",
    "plt.plot(x1,y1, color=\"blue\", linewidth = 3, label = 'Linea 1')\n",
    "plt.plot(x2,y2, color=\"green\", linewidth = 3, label = 'Linea 2')\n",
    "\n",
    "plt.title('Dos Graficas juntas')\n",
    "plt.xlabel('Eje X')\n",
    "plt.ylabel('Eje Y')\n",
    "plt.legend()\n",
    "plt.grid()\n",
    "plt.show() # opcional solo para notebook de python"
   ]
  },
  {
   "cell_type": "code",
   "execution_count": null,
   "metadata": {},
   "outputs": [],
   "source": [
    "# bar(): Plotea grafica de barras \n",
    "\n",
    "# matplotlib.pyplot.bar(x, height, width=0.8, bottom=None, *, align='center', data=None, **kwargs)\n",
    "# https://matplotlib.org/stable/api/_as_gen/matplotlib.pyplot.bar.html?highlight=bar#matplotlib.pyplot.bar\n",
    "\n",
    "# Grafico de barras. Cuando coinciden la misma X, las apila\n",
    "\n",
    "plt.bar(x1,y1, color=\"blue\", width=0.8, label = 'Barra 1')\n",
    "plt.bar(x2,y2, color=\"green\", width=0.8, label = 'Barra 2')\n",
    "\n",
    "plt.title('Dos Barras juntas')\n",
    "plt.xlabel('Eje X')\n",
    "plt.ylabel('Eje Y')\n",
    "plt.legend()\n",
    "plt.grid()\n",
    "plt.show() # opcional solo para notebook de python"
   ]
  },
  {
   "cell_type": "code",
   "execution_count": null,
   "metadata": {},
   "outputs": [],
   "source": [
    "# hist(): Calcula y dibuja el histograma de x\n",
    "\n",
    "# matplotlib.pyplot.hist(x, bins=None, range=None, density=False, weights=None, cumulative=False, bottom=None, histtype='bar', align='mid', orientation='vertical', rwidth=None, log=False, color=None, label=None, stacked=False, *, data=None, **kwargs)\n",
    "# https://matplotlib.org/stable/api/_as_gen/matplotlib.pyplot.hist.html?highlight=hist#matplotlib.pyplot.hist\n",
    "\n",
    "# Grafica el histograma de 'Datos'\n",
    "\n",
    "Datos = [20,22,21,20,23,25,28,40,22,23,22,15,16,18,18,19,21,22,24,4,12,17,17,22,30,]\n",
    "Intervalos=[0,10,20,20,30,40]\n",
    "\n",
    "plt.hist(Datos, Intervalos, histtype='bar', rwidth=0.8, color='lightgreen')\n",
    "\n",
    "plt.title('Histograma')\n",
    "plt.xlabel('Eje X')\n",
    "plt.ylabel('Eje Y')\n",
    "plt.grid()\n",
    "plt.show() # opcional solo para notebook de python"
   ]
  },
  {
   "cell_type": "code",
   "execution_count": null,
   "metadata": {},
   "outputs": [],
   "source": [
    "import matplotlib.pyplot as plt\n",
    "\n",
    "edades = [12, 15, 13, 12, 18, 20, 19, 20, 13, 12, 13, 17, 15, 16, 13, 14, 13, 17, 19]\n",
    "intervalos = range(min(edades), max(edades) + 2)\n",
    "#print(intervalos) # calculamos los extremos de los intervalos\n",
    "\n",
    "plt.hist(edades, intervalos, color='lightgreen', rwidth=0.5)\n",
    "plt.title('Histograma de edades')\n",
    "plt.xlabel('Edades')\n",
    "plt.ylabel('Frecuencia')\n",
    "plt.xticks(intervalos)\n",
    "\n",
    "plt.show() #dibujamos el histograma"
   ]
  },
  {
   "cell_type": "code",
   "execution_count": null,
   "metadata": {},
   "outputs": [],
   "source": [
    "# scatter(): Genera un gráfico de dispersión de 'y' frente a 'x' con diferentes tamaños y/o colores de marcador.\n",
    "\n",
    "# matplotlib.pyplot.scatter(x, y, s=None, c=None, marker=None, cmap=None, norm=None, vmin=None, vmax=None, alpha=None, linewidths=None, *, edgecolors=None, plotnonfinite=False, data=None, **kwargs)\n",
    "# https://matplotlib.org/stable/api/_as_gen/matplotlib.pyplot.scatter.html?highlight=scatter#matplotlib.pyplot.scatter\n",
    "\n",
    "# colores matplotlib:\n",
    "# https://matplotlib.org/2.0.1/api/colors_api.html\n",
    "\n",
    "# Gráfica de dispersión\n",
    "\n",
    "import matplotlib.pyplot as plt\n",
    "\n",
    "x1 = [2,5,6,14]\n",
    "y1 = [11,22,33,44]\n",
    "\n",
    "plt.scatter(x1,y1, color=\"orange\", label = 'Puntos 1')\n",
    "\n",
    "plt.title('Dos Graficas juntas')\n",
    "plt.xlabel('Eje X')\n",
    "plt.ylabel('Eje Y')\n",
    "plt.legend()\n",
    "plt.grid()\n",
    "plt.show() # opcional"
   ]
  },
  {
   "cell_type": "code",
   "execution_count": null,
   "metadata": {},
   "outputs": [],
   "source": [
    "# pie(): Ploeta una gráfica de pie.\n",
    "\n",
    "# matplotlib.pyplot.pie(x, explode=None, labels=None, colors=None, autopct=None, pctdistance=0.6, shadow=False, labeldistance=1.1, startangle=0, radius=1, counterclock=True, wedgeprops=None, textprops=None, center=(0, 0), frame=False, rotatelabels=False, *, normalize=True, data=None)\n",
    "# https://matplotlib.org/stable/api/_as_gen/matplotlib.pyplot.pie.html?highlight=pie#matplotlib.pyplot.pie\n",
    "\n",
    "# Grafica tipo Pie\n",
    "valores_pie = [20,40,60,80] # valores de la torta\n",
    "matrizFraccionRadio_pie = (0.1,0,0,0) # \n",
    "etiquetas_pie = ['Prekinder', 'kinder', 'primaria', 'secundaria'] # etiquetas de la torta\n",
    "colores_pie = ['red','purple','blue','orange'] # colores de la torta\n",
    "parametro_autopct_pie = '%1.1f%%' # formato de etiquetas\n",
    "parametro_shadow_pie = True # sombra on/off\n",
    "parametro_startangle_pie = 45 # angulo de inicio de la torta\n",
    "\n",
    "plt.pie(valores_pie, matrizFraccionRadio_pie, etiquetas_pie, colores_pie, autopct = parametro_autopct_pie, shadow = parametro_shadow_pie, startangle = parametro_startangle_pie)\n",
    "plt.title('Grafico circular')\n",
    "plt.show()"
   ]
  },
  {
   "cell_type": "markdown",
   "metadata": {},
   "source": [
    "# Grafico usando Dataframes a Series"
   ]
  },
  {
   "cell_type": "code",
   "execution_count": null,
   "metadata": {},
   "outputs": [],
   "source": [
    "# Carga dataset del Titanic\n",
    "import pandas as pd\n",
    "import matplotlib.pyplot as plt"
   ]
  },
  {
   "cell_type": "code",
   "execution_count": null,
   "metadata": {},
   "outputs": [],
   "source": [
    "df = pd.read_csv('titanic3.csv')"
   ]
  },
  {
   "cell_type": "code",
   "execution_count": null,
   "metadata": {},
   "outputs": [],
   "source": [
    "df.head(2)"
   ]
  },
  {
   "cell_type": "code",
   "execution_count": null,
   "metadata": {},
   "outputs": [],
   "source": [
    "print(type(df.survived.value_counts()))\n",
    "\n",
    "cantidades = df.survived.value_counts()\n",
    "cantidades"
   ]
  },
  {
   "cell_type": "code",
   "execution_count": null,
   "metadata": {},
   "outputs": [],
   "source": [
    "# matplotlib.pyplot.figure(): Crea una figura nueva o activa una ya existente\n",
    "\n",
    "# matplotlib.pyplot.figure(num=None, figsize=None, dpi=None, facecolor=None, edgecolor=None, frameon=True, FigureClass=<class 'matplotlib.figure.Figure'>, clear=False, **kwargs)\n",
    "# https://matplotlib.org/stable/api/_as_gen/matplotlib.pyplot.figure.html?highlight=figure#matplotlib.pyplot.figure\n",
    "\n",
    "# Crea una figura nueva para ploteo\n",
    "\n",
    "plt.figure(figsize=(30,20))  #tamaño en pulgadas\n",
    "\n",
    "# matplotlib.pyplot.subplot2grid(): Crea una subárea en una ubicación específica dentro de una grilla normal\n",
    "\n",
    "# matplotlib.pyplot.subplot2grid(shape, loc, rowspan=1, colspan=1, fig=None, **kwargs)\n",
    "# https://matplotlib.org/stable/api/_as_gen/matplotlib.pyplot.subplot2grid.html\n",
    "\n",
    "# Se crean 4 subareas de ploteo\n",
    "\n",
    "plt.subplot2grid((2,2),(0,0))\n",
    "plt.subplot2grid((2,2),(1,0))\n",
    "plt.subplot2grid((2,2),(0,1))\n",
    "plt.subplot2grid((2,2),(1,1))"
   ]
  },
  {
   "cell_type": "code",
   "execution_count": null,
   "metadata": {},
   "outputs": [],
   "source": [
    "#figure: Crea una figura nueva o active una figura existente.\n",
    "\n",
    "plt.figure(figsize=(30,20))  #tamaño en pulgadas\n",
    "\n",
    "\n",
    "plt.subplot2grid((2,2),(0,0))  #Grid de 2x2. primer grafico en la posicion (0,0)\n",
    "df.survived.value_counts().plot(kind='bar', alpha = 1)  #seriexxxx.plot() #alpha: transparencia 0-1\n",
    "plt.title('Sobrevivientes - Cantidad')\n",
    "\n",
    "\n",
    "plt.subplot2grid((2,2),(0,1))\n",
    "df.survived.value_counts(normalize = True).plot(kind='bar', alpha = 1) #Si es True, el objeto devuelto contendrá las frecuencias relativas de los valores únicos.\n",
    "plt.title('Sobrevivientes- Porcentaje')\n",
    "\n",
    "\n",
    "plt.subplot2grid((2,2),(1,0))\n",
    "df.survived.value_counts().plot(kind='bar', alpha = 0.5)\n",
    "plt.title('Sobrevivientes - Cantidad')\n",
    "\n",
    "\n",
    "plt.subplot2grid((2,2),(1,1))\n",
    "plt.bar(cantidades[0],cantidades[1], color=\"red\", alpha = 0.5, linewidth = 1, label = 'Barra 1')\n",
    "\n",
    "plt.title('Dos Barras juntas')\n",
    "plt.xlabel('Eje X')\n",
    "plt.ylabel('Eje Y')\n",
    "plt.legend()\n",
    "plt.grid()\n"
   ]
  },
  {
   "cell_type": "code",
   "execution_count": null,
   "metadata": {},
   "outputs": [],
   "source": [
    "df.head(3)"
   ]
  },
  {
   "cell_type": "code",
   "execution_count": null,
   "metadata": {},
   "outputs": [],
   "source": [
    "# grafica de dispersión\n",
    "df.plot(kind='scatter',x='age',y='pclass',color='red')\n",
    "plt.show()"
   ]
  },
  {
   "cell_type": "code",
   "execution_count": null,
   "metadata": {},
   "outputs": [],
   "source": [
    "df.head(3)"
   ]
  },
  {
   "cell_type": "code",
   "execution_count": null,
   "metadata": {},
   "outputs": [],
   "source": [
    "# histograma\n",
    "df.age.hist(color='red')\n",
    "plt.show()"
   ]
  },
  {
   "cell_type": "markdown",
   "metadata": {},
   "source": [
    "# otro dataframe"
   ]
  },
  {
   "cell_type": "markdown",
   "metadata": {},
   "source": [
    "https://queirozf.com/entries/pandas-dataframe-plot-examples-with-matplotlib-pyplot"
   ]
  },
  {
   "cell_type": "code",
   "execution_count": null,
   "metadata": {},
   "outputs": [],
   "source": [
    "import pandas as pd\n",
    "\n",
    "datos = {\n",
    "    'name':['john','mary','peter','jeff','bill','lisa','jose'],\n",
    "    'age':[23,78,22,19,45,33,20],\n",
    "    'gender':['M','F','M','M','M','F','M'],\n",
    "    'state':['california','dc','california','dc','california','texas','texas'],\n",
    "    'num_children':[2,0,0,3,2,1,4],\n",
    "    'num_pets':[5,1,0,5,2,2,3]\n",
    "}\n",
    "\n",
    "df = pd.DataFrame(datos)"
   ]
  },
  {
   "cell_type": "code",
   "execution_count": null,
   "metadata": {},
   "outputs": [],
   "source": [
    "df.head(3)"
   ]
  },
  {
   "cell_type": "code",
   "execution_count": null,
   "metadata": {},
   "outputs": [],
   "source": [
    "df.plot(kind='scatter',x='num_children',y='num_pets',color='lightblue')\n",
    "plt.show()"
   ]
  },
  {
   "cell_type": "code",
   "execution_count": null,
   "metadata": {},
   "outputs": [],
   "source": [
    "df.head(3)"
   ]
  },
  {
   "cell_type": "code",
   "execution_count": null,
   "metadata": {},
   "outputs": [],
   "source": [
    "df.plot(kind='bar',x='name',y='age', color='blue')"
   ]
  },
  {
   "cell_type": "code",
   "execution_count": null,
   "metadata": {},
   "outputs": [],
   "source": [
    "df.head(3)"
   ]
  },
  {
   "cell_type": "code",
   "execution_count": null,
   "metadata": {},
   "outputs": [],
   "source": [
    "# gca stands for 'get current axis'\n",
    "ax = plt.gca() # gca significa 'obtener eje actual'\n",
    "\n",
    "df.plot(kind='line',x='name',y='num_children',ax = ax)\n",
    "df.plot(kind='line',x='name',y='num_pets', color='red', ax = ax)\n",
    "\n",
    "plt.show()"
   ]
  },
  {
   "cell_type": "markdown",
   "metadata": {},
   "source": [
    "# pandas.Series.groupby\n",
    "\n",
    "Una operación groupby implica alguna combinación de dividir el objeto, aplicar una función y combinar los resultados. Esto se puede usar para agrupar grandes cantidades de datos y calcular operaciones en estos grupos.\n",
    "\n",
    "https://pandas.pydata.org/docs/reference/api/pandas.Series.groupby.html?highlight=groupby#pandas.Series.groupby"
   ]
  },
  {
   "cell_type": "code",
   "execution_count": null,
   "metadata": {},
   "outputs": [],
   "source": [
    "import pandas as pd\n",
    "\n",
    "datos = {\n",
    "    'name':['john','mary','peter','jeff','bill','lisa','jose'],\n",
    "    'age':[23,78,22,19,45,33,20],\n",
    "    'gender':['M','F','M','M','M','F','M'],\n",
    "    'state':['california','dc','california','dc','california','texas','texas'],\n",
    "    'num_children':[2,0,0,3,2,1,4],\n",
    "    'num_pets':[5,1,0,5,2,2,3]\n",
    "}\n",
    "\n",
    "df = pd.DataFrame(datos)\n"
   ]
  },
  {
   "cell_type": "code",
   "execution_count": null,
   "metadata": {},
   "outputs": [],
   "source": [
    "df.head(3)"
   ]
  },
  {
   "cell_type": "code",
   "execution_count": null,
   "metadata": {},
   "outputs": [],
   "source": [
    "#Serie cuyo indice es el estado, y valor es la cantidad de unicos\n",
    "#nunique, devuelve la serie con el número de observaciones distintas sobre el eje solicitado.\n",
    "\n",
    "import matplotlib.pyplot as plt\n",
    "\n",
    "print(type(df.groupby('state')['name'].nunique())) \n",
    "df.groupby('state')['name'].nunique().plot(kind='bar')\n",
    "plt.show()\n"
   ]
  },
  {
   "cell_type": "code",
   "execution_count": null,
   "metadata": {},
   "outputs": [],
   "source": [
    "print(type(df['state']))\n",
    "print(type(df[['state','age']]))\n",
    "print(type(df.groupby('state')))\n",
    "print(type(df.groupby('state')['name']))\n",
    "print(type(df.groupby('state')['name'].nunique()))\n"
   ]
  },
  {
   "cell_type": "code",
   "execution_count": null,
   "metadata": {},
   "outputs": [],
   "source": [
    "print(type(df.groupby(['state','gender']).size()))\n",
    "df.groupby(['state','gender']).size()"
   ]
  },
  {
   "cell_type": "code",
   "execution_count": null,
   "metadata": {},
   "outputs": [],
   "source": [
    "df.head(3)"
   ]
  },
  {
   "cell_type": "code",
   "execution_count": null,
   "metadata": {},
   "outputs": [],
   "source": [
    "df.groupby(['state','gender']).size().plot(kind='bar')\n",
    "plt.show()"
   ]
  },
  {
   "cell_type": "code",
   "execution_count": null,
   "metadata": {},
   "outputs": [],
   "source": [
    "#Desapila, también conocido como pivote, Series con MultiIndex para producir DataFrame.\n",
    "df.groupby(['state','gender']).size().unstack().plot(kind='bar',stacked=True)\n",
    "plt.show()"
   ]
  },
  {
   "cell_type": "code",
   "execution_count": null,
   "metadata": {},
   "outputs": [],
   "source": [
    "df.groupby(['gender','state']).size().unstack().plot(kind='bar',stacked=True)\n",
    "plt.show()"
   ]
  },
  {
   "cell_type": "code",
   "execution_count": null,
   "metadata": {},
   "outputs": [],
   "source": [
    "#.ticket: ajuste de escala automático de los límites de vista en función de los límites de datos.\n",
    "import matplotlib.ticker as mtick\n",
    "\n",
    "df.groupby(['gender','state']).size().groupby(level=0).apply(lambda x: 100 * x / x.sum()).unstack().plot(kind='bar',stacked=True)\n",
    "\n",
    "plt.gca().yaxis.set_major_formatter(mtick.PercentFormatter())\n",
    "plt.show()"
   ]
  },
  {
   "cell_type": "code",
   "execution_count": null,
   "metadata": {},
   "outputs": [],
   "source": [
    "df[['age']].plot(kind='hist',bins=[0,20,40,60,80,100],rwidth=0.8)\n",
    "plt.show()"
   ]
  },
  {
   "cell_type": "markdown",
   "metadata": {},
   "source": [
    "# Dataframe con campo tipo fecha"
   ]
  },
  {
   "cell_type": "code",
   "execution_count": null,
   "metadata": {},
   "outputs": [],
   "source": [
    "import pandas as pd\n",
    "import matplotlib.pyplot as plt\n",
    "\n",
    "#pyplot está diseñado principalmente para gráficos interactivos y casos simples de generación de gráficos programáticos\n",
    "\n",
    "# diccionario usando un formato de fecha arbitrario (m / d / a)\n",
    "diccionario = {\n",
    "    'name':['john','lisa','peter','carl','linda','betty'],\n",
    "    'date_of_birth':['01/21/1988','03/10/1977','07/25/1999','01/22/1977','09/30/1968','09/15/1970']\n",
    "}\n",
    "\n",
    "df = pd.DataFrame(diccionario)"
   ]
  },
  {
   "cell_type": "code",
   "execution_count": null,
   "metadata": {},
   "outputs": [],
   "source": [
    "# pandas.to_datetime(): convierte un objeto escalar, tipo matriz Serieso tipo DataFrame/dict en un objeto de fecha y hora de pandas.\n",
    "# Parametro: infer_datetime_format=True: inferir el formato de las cadenas de fecha y hora en las columnas\n",
    "# Matplotlib.pyplot.clf(): Borra la figura actual si existe.\n",
    "\n",
    "df['date_of_birth'] = pd.to_datetime(df['date_of_birth'], infer_datetime_format=True)\n",
    "\n",
    "plt.clf()\n",
    "df['date_of_birth'].map(lambda d: d.month).plot(kind='hist')\n",
    "plt.show()"
   ]
  },
  {
   "cell_type": "code",
   "execution_count": null,
   "metadata": {},
   "outputs": [],
   "source": [
    "import matplotlib.pyplot as plt\n",
    "from matplotlib.dates import date2num #Convertir objetos de fecha y hora en fechas de Matplotlib\n",
    "import datetime #Formato de fecha en analitica de datos\n",
    "\n",
    "x = [\n",
    "    #Atributos: year, month, day, hour, minute, second, microsecond, tzinfo.\n",
    "    datetime.datetime(2011, 1, 4, 0, 0),\n",
    "    datetime.datetime(2011, 1, 5, 0, 0),\n",
    "    datetime.datetime(2011, 1, 6, 0, 0)\n",
    "]\n",
    "x = date2num(x)\n",
    "\n",
    "y = [4, 9, 2]\n",
    "z = [1, 2, 3]\n",
    "k = [11, 12, 13]\n",
    "\n",
    "# crea una figura y una cuadrícula de subtramas con una sola llamada\n",
    "ax = plt.subplot(111)\n",
    "\n",
    "ax.bar(x-0.2, y, width=0.2, color='b', align='center')\n",
    "ax.bar(x, z, width=0.2, color='g', align='center')\n",
    "ax.bar(x+0.2, k, width=0.2, color='r', align='center')\n",
    "ax.xaxis_date()\n",
    "\n",
    "plt.show()"
   ]
  },
  {
   "cell_type": "code",
   "execution_count": null,
   "metadata": {},
   "outputs": [],
   "source": [
    "diccionario = {\n",
    "    'idcolision':[1,2,3],\n",
    "    'f1':['A','X','M'],\n",
    "    'f2':['B','A','N'],\n",
    "    'f3':['A','Z','A'],\n",
    "}\n",
    "df = pd.DataFrame(diccionario)"
   ]
  },
  {
   "cell_type": "code",
   "execution_count": null,
   "metadata": {},
   "outputs": [],
   "source": [
    "print(type(df))\n",
    "df"
   ]
  },
  {
   "cell_type": "code",
   "execution_count": null,
   "metadata": {},
   "outputs": [],
   "source": [
    "columnas = ['idcolision', 'Factor']\n",
    "df2 = pd.DataFrame(columns=columnas)\n",
    "df2"
   ]
  },
  {
   "cell_type": "code",
   "execution_count": null,
   "metadata": {},
   "outputs": [],
   "source": [
    "dfTemp = df[['idcolision','f1']]\n",
    "dfTemp= dfTemp.rename(columns = {'f1':'Factor'})\n",
    "df2 = dfTemp\n",
    "\n",
    "dfTemp = df[['idcolision','f2']]\n",
    "dfTemp= dfTemp.rename(columns = {'f2':'Factor'})\n",
    "df2= pd.concat([df2, dfTemp])\n",
    "\n",
    "dfTemp = df[['idcolision','f3']]\n",
    "dfTemp= dfTemp.rename(columns = {'f3':'Factor'})\n",
    "df2=pd.concat([df2, dfTemp]).reset_index() # reinicia el indice\n",
    "\n",
    "df2= df2.drop(columns=['index'])\n",
    "df2= df2.drop_duplicates() # Return DataFrame with duplicate rows removed.\n",
    "df2"
   ]
  },
  {
   "cell_type": "code",
   "execution_count": null,
   "metadata": {},
   "outputs": [],
   "source": [
    "df3 = pd.DataFrame({\"A\": [1, 2, 3], \"B\": [4, 5, 6]})\n",
    "df3.rename(columns={\"A\": \"a\", \"B\": \"c\"})"
   ]
  },
  {
   "cell_type": "code",
   "execution_count": null,
   "metadata": {},
   "outputs": [],
   "source": [
    "df2.append(df[['idcolision','f2']])"
   ]
  }
 ],
 "metadata": {
  "interpreter": {
   "hash": "ad2bdc8ecc057115af97d19610ffacc2b4e99fae6737bb82f5d7fb13d2f2c186"
  },
  "kernelspec": {
   "display_name": "Python 3.9.7 ('base')",
   "language": "python",
   "name": "python3"
  },
  "language_info": {
   "codemirror_mode": {
    "name": "ipython",
    "version": 3
   },
   "file_extension": ".py",
   "mimetype": "text/x-python",
   "name": "python",
   "nbconvert_exporter": "python",
   "pygments_lexer": "ipython3",
   "version": "3.9.7"
  }
 },
 "nbformat": 4,
 "nbformat_minor": 2
}
