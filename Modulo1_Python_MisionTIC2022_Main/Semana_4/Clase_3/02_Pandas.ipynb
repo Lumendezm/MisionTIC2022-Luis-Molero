{
 "cells": [
  {
   "cell_type": "markdown",
   "metadata": {},
   "source": [
    "# ¿Qué es el Data Science?\n",
    "\n",
    "El Data Science es un campo interdisciplinario que involucra métodos científicos, procesos y sistemas para extraer conocimiento o un mejor entendimiento de datos en sus diferentes formas, ya sea estructurados o no estructurados, lo cual es una continuación de algunos campos de análisis de datos como:\n",
    "\n",
    "* La estadística\n",
    "* La minería de datos\n",
    "* El aprendizaje automático\n",
    "* La analítica predictiva.\n",
    "\n",
    "El Data Science combina:\n",
    "\n",
    "* Software\n",
    "* Estadística\n",
    "* Matemática\n",
    "* Programación y visualización\n",
    "\n",
    "Finalmente, su objetivo es extraer datos suceptible de interpretarse e incluso crear nueva información. Las conclusiones que se obtienen permiten desarrollar productos demandados en el mercado o generar oportunidades de negocio de una empresa.\n",
    "\n",
    "\n",
    "# ¿Qué es pandas?\n",
    "\n",
    "Es la herramienta más importante a disposición de los científicos y analistas de datos que trabajan en Python en la actualidad. Las poderosas herramientas de aprendizaje automático y visualización glamorosa pueden llamar toda la atención, pero pandas es la columna vertebral de la mayoría de los proyectos de datos.\n",
    "\n",
    "En Computación y Ciencia de datos, pandas es una biblioteca de software escrita como extensión de Numpy para manipulación y análisis de datos para el lenguaje de programación Python. Esta librería ofrece dos de las estructuras más usadas en Data Science: la estructura Series y el DataFrame.\n",
    "\n",
    "# Las características de la biblioteca son:\n",
    "\n",
    "* El tipo de datos DataFrame para manipulación de datos con indexación integrada. Tiene herramientas para leer y escribir datos entre estructuras de datos en memoria y formatos de archivos variados\n",
    "* Permite la alineación de datos y manejo integrado de datos faltantes, la reestructuración y segmentación de conjuntos de datos, la segmentación vertical basada en etiquetas, indexación elegante, y segmentación horizontal de grandes conjuntos de datos, la inserción y eliminación de columnas en estructuras de datos.\n",
    "* Puedes realizar cadenas de operaciones, dividir, aplicar y combinar sobre conjuntos de datos, la mezcla y unión de datos.\n",
    "* Permite realizar indexación jerárquica de ejes para trabajar con datos de altas dimensiones en estructuras de datos de menor dimensión, la funcionalidad de series de tiempo: generación de rangos de fechas y conversión de frecuencias, desplazamiento de ventanas estadísticas y de regresiones lineales, desplazamiento de fechas y retrasos."
   ]
  },
  {
   "cell_type": "markdown",
   "metadata": {},
   "source": [
    "# Primeros pasos de Pandas\n",
    "\n",
    "## Instalar e importar\n",
    "\n",
    "Pandas es un paquete fácil de instalar. Abra su programa de terminal (para usuarios de Mac) o línea de comandos (para usuarios de PC) e instálelo usando cualquiera de los siguientes comandos:\n",
    "\n",
    "**conda install pandas**\n",
    "\n",
    "ó\n",
    "\n",
    "**pip install pandas**"
   ]
  },
  {
   "cell_type": "markdown",
   "metadata": {},
   "source": [
    "Desde un cuaderno de Jupyter"
   ]
  },
  {
   "cell_type": "code",
   "execution_count": null,
   "metadata": {},
   "outputs": [],
   "source": [
    "# El \"!\" al principio ejecuta las celdas como si estuvieran en una terminal\n",
    "! pip install pandas"
   ]
  },
  {
   "cell_type": "code",
   "execution_count": null,
   "metadata": {},
   "outputs": [],
   "source": [
    "# El \"!\" al principio ejecuta las celdas como si estuvieran en una terminal\n",
    "! conda install pandas"
   ]
  },
  {
   "cell_type": "code",
   "execution_count": null,
   "metadata": {},
   "outputs": [],
   "source": [
    "# Para importar pandas, generalmente lo importamos con un nombre más corto ya que se usa mucho\n",
    "\n",
    "import pandas as pd"
   ]
  },
  {
   "cell_type": "markdown",
   "metadata": {},
   "source": [
    "# Componentes principales de pandas: Series y DataFrames\n",
    "\n",
    "Los dos componentes principales de los pandas son Series y DataFrame.\n",
    "\n",
    "Una Series es esencialmente una columna y un DataFrame es una tabla multidimensional formada por una \"colección de Series\".\n",
    "\n",
    "<img src=\"https://storage.googleapis.com/lds-media/images/series-and-dataframe.width-1200.png\">\n",
    "\n",
    "\n",
    "# Series\n",
    "\n",
    "Las series son estructuras unidimensionales conteniendo un array de datos (de cualquier tipo \"soportado por NumPy\") y un array de etiquetas que van asociadas a los datos, llamado índice (index en la literatura en inglés):"
   ]
  },
  {
   "cell_type": "markdown",
   "metadata": {},
   "source": [
    "**Clase pandas.Series ( datos = Ninguno , índice = Ninguno , dtype = Ninguno , nombre = Ninguno , copia = Falso , fastpath = Falso )**\n",
    "\n",
    "Parámetros\n",
    "\n",
    "* valor de tipo matriz de datos , iterable, dictado o escalar:  Contiene datos almacenados en Series. Si los datos son un dictado, se mantiene el orden de los argumentos.\n",
    "\n",
    "* índice similar a una matriz o índice (1d):  Los valores deben ser hash y tener la misma longitud que los datos . Se permiten valores de índice no únicos. El valor predeterminado será RangeIndex (0, 1, 2,…, n) si no se proporciona. Si los datos son similares a un dictado y el índice es Ninguno, las claves de los datos se utilizan como índice. Si el índice no es Ninguno, la Serie resultante se vuelve a indexar con los valores del índice.\n",
    "\n",
    "* dtype str, numpy.dtype o ExtensionDtype, opcional:  Tipo de datos para la serie de salida. Si no se especifica, esto se deducirá de los datos . Consulte la guía del usuario para conocer más usos.\n",
    "\n",
    "* nombre str, opcional:  El nombre para darle a la Serie.\n",
    "\n",
    "* copy bool: predeterminado Falso. Copie los datos de entrada."
   ]
  },
  {
   "cell_type": "code",
   "execution_count": null,
   "metadata": {},
   "outputs": [],
   "source": [
    "import pandas as pd\n",
    "d = [2, 3, 4, 5]\n",
    "#indices = ['Numero1','Numero2','Numero3','Numero4',]\n",
    "\n",
    "primerEjemplo = pd.Series(d)\n",
    "primerEjemplo\n"
   ]
  },
  {
   "cell_type": "code",
   "execution_count": null,
   "metadata": {},
   "outputs": [],
   "source": [
    "import pandas as pd\n",
    "\n",
    "d = {\n",
    "    'a': 1, \n",
    "    'b': 2, \n",
    "    'c': 3\n",
    "}\n",
    "\n",
    "# class pandas.Series(data=None, index=None, dtype=None, name=None, copy=False, fastpath=False)\n",
    "ser = pd.Series(d)\n",
    "\n",
    "# Llamado de la serie\n",
    "ser"
   ]
  },
  {
   "cell_type": "code",
   "execution_count": null,
   "metadata": {},
   "outputs": [],
   "source": [
    "Lista = [15,12,21]\n",
    "indice = [\"Ene\", \"Feb\", \"Mar\"]\n",
    "\n",
    "ventas1 = pd.Series(Lista) # c/indice implicito\n",
    "print(ventas1,'\\n')\n",
    "\n",
    "ventas = pd.Series(Lista, indice) # c/indice explicito\n",
    "\n",
    "# Llamado de la serie\n",
    "print(ventas)"
   ]
  },
  {
   "cell_type": "markdown",
   "metadata": {},
   "source": [
    "Los elementos de la serie pueden extraerse con el nombre de la serie y, entre corchetes, el índice (posición) del elemento:"
   ]
  },
  {
   "cell_type": "code",
   "execution_count": null,
   "metadata": {},
   "outputs": [],
   "source": [
    "# mostrar a traves del valor implicito (indice)\n",
    "print(ventas)\n",
    "\n",
    "ventas[0] "
   ]
  },
  {
   "cell_type": "markdown",
   "metadata": {},
   "source": [
    "o con su etiqueta, si la tiene: "
   ]
  },
  {
   "cell_type": "code",
   "execution_count": null,
   "metadata": {},
   "outputs": [],
   "source": [
    "# mostrar a traves del valor explicito (etiqueta)\n",
    "print(ventas)\n",
    "\n",
    "ventas[\"Ene\"]"
   ]
  },
  {
   "cell_type": "markdown",
   "metadata": {},
   "source": [
    "Las etiquetas que forman el índice no necesitan ser diferentes. Pueden ser de cualquier tipo (numérico, textos, tuplas...) siempre que sea posible aplicar la función hash sobre ellas.\n",
    "\n",
    "hash : https://www.interactivechaos.com/python/function/hash\n",
    "\n",
    "* Es de destacar que el lazo entre una etiqueta y un valor se mantendrá salvo que lo modifiquemos explícitamente. \n",
    "\n",
    "* Algo importante es la inmutabilidad del índice de etiquetas: Se puede asignar un indice a una serie, pero no se puede pretender cambiar individualmente alguna de ellas, dará ERROR.\n",
    "\n",
    "* Al igual que ocurre con el array NumPy, una serie pandas solo puede contener datos de un mismo tipo."
   ]
  },
  {
   "cell_type": "code",
   "execution_count": null,
   "metadata": {},
   "outputs": [],
   "source": [
    "# muestra el tipo de datos de \"ventas\"\n",
    "print(ventas.dtype)\n",
    "\n",
    "print(type(ventas))"
   ]
  },
  {
   "cell_type": "markdown",
   "metadata": {},
   "source": [
    "Podemos acceder a los objetos que contienen los **índices** y los **valores** a través de los atributos: \n",
    "* index\n",
    "* values"
   ]
  },
  {
   "cell_type": "code",
   "execution_count": null,
   "metadata": {},
   "outputs": [],
   "source": [
    "print(ventas)\n",
    "\n",
    "ventas.index"
   ]
  },
  {
   "cell_type": "code",
   "execution_count": null,
   "metadata": {},
   "outputs": [],
   "source": [
    "print(ventas)\n",
    "\n",
    "ventas.values"
   ]
  },
  {
   "cell_type": "markdown",
   "metadata": {},
   "source": [
    "La serie tiene, además, un atributo **name** e **index**. Una vez fijado, se muestran junto a la estructura al imprimir la serie"
   ]
  },
  {
   "cell_type": "code",
   "execution_count": null,
   "metadata": {},
   "outputs": [],
   "source": [
    "# atributo name\n",
    "NombreSerie = ventas.name = \"Ventas 2020\"\n",
    "print(ventas)"
   ]
  },
  {
   "cell_type": "code",
   "execution_count": null,
   "metadata": {},
   "outputs": [],
   "source": [
    "# atributo index.name\n",
    "ventas.index.name = \"Meses\""
   ]
  },
  {
   "cell_type": "markdown",
   "metadata": {},
   "source": [
    "Ahora, en la salida, tanto la serie como el índice se muestran con su respectivo nombre"
   ]
  },
  {
   "cell_type": "code",
   "execution_count": null,
   "metadata": {},
   "outputs": [],
   "source": [
    "# Llamado de la serie.\n",
    "ventas"
   ]
  },
  {
   "cell_type": "markdown",
   "metadata": {},
   "source": [
    "El atributo **axes** nos da acceso a una lista con los ejes de la serie (solo contiene un elemento al tratarse de una estructura unidimensional):"
   ]
  },
  {
   "cell_type": "code",
   "execution_count": null,
   "metadata": {},
   "outputs": [],
   "source": [
    "# atributo axes\n",
    "ventas.axes"
   ]
  },
  {
   "cell_type": "markdown",
   "metadata": {},
   "source": [
    "El atributo **shape** nos devuelve el tamaño de la serie:"
   ]
  },
  {
   "cell_type": "code",
   "execution_count": null,
   "metadata": {},
   "outputs": [],
   "source": [
    "# atributo shape\n",
    "ventas.shape"
   ]
  },
  {
   "cell_type": "markdown",
   "metadata": {},
   "source": [
    "Para conocer mas acerca de los atributos de las Series, consulte los siguientes enlaces:\n",
    "\n",
    "https://pandas.pydata.org/pandas-docs/stable/reference/series.html\n",
    "\n",
    "https://pandas.pydata.org/docs/reference/api/pandas.Series.html"
   ]
  },
  {
   "cell_type": "markdown",
   "metadata": {},
   "source": [
    "# DataFrames \n",
    "\n",
    "Crear DataFrames directamente en Python y es bastante útil cuando se prueban nuevos métodos y funciones que se encuentran en los documentos de pandas. En consecuencia, los dataframes son datos tabulares bidimensionales, de tamaño mutable y potencialmente heterogéneos.\n",
    "\n",
    "Por otro lado, La estructura de datos también contiene ejes etiquetados (filas y columnas). Las operaciones aritméticas se alinean en las etiquetas de fila y columna. Se puede considerar como un contenedor similar a un dict para los objetos de la serie. La estructura de datos primaria de los pandas.\n",
    "\n",
    "Finalmente, hay muchas formas de crear un DataFrame desde cero, pero una gran opción es hacer uso de un simple **diccionario**."
   ]
  },
  {
   "cell_type": "code",
   "execution_count": null,
   "metadata": {},
   "outputs": [],
   "source": [
    "# Diccionario\n",
    "datos = { \n",
    "    'manzanas' : [ 3 , 2 , 0 , 1 ], \n",
    "    'naranjas' : [ 0 , 3 , 7 , 2 ], \n",
    "    'peras' : [ 0 , 3 , 7 , 2 ], \n",
    "    'mango' : [ 0 , 3 , 7 , 2 ], \n",
    "    'maracuya' : [ 0 , 3 , 7 , 2 ], \n",
    "    'piña' : [ 0 , 3 , 7 , 2 ]\n",
    "}"
   ]
  },
  {
   "cell_type": "markdown",
   "metadata": {},
   "source": [
    "Y luego se pasa al constructor de Pandas DataFrame:"
   ]
  },
  {
   "cell_type": "code",
   "execution_count": null,
   "metadata": {},
   "outputs": [],
   "source": [
    "# class pandas.DataFrame(data=None, index=None, columns=None, dtype=None, copy=False)\n",
    "\n",
    "compras = pd.DataFrame(datos)\n",
    "compras"
   ]
  },
  {
   "cell_type": "markdown",
   "metadata": {},
   "source": [
    "### ¿Cómo funcionó eso?\n",
    "\n",
    "Cada elemento (clave, valor) en \"datos\" corresponde a una columna en el DataFrame resultante.\n",
    "\n",
    "El índice de este DataFrame se nos dio en la creación como los números 0-3, pero también podríamos crear el nuestro cuando inicializamos el DataFrame.\n",
    "\n",
    "Tengamos nombres de clientes como nuestro índice:"
   ]
  },
  {
   "cell_type": "code",
   "execution_count": null,
   "metadata": {},
   "outputs": [],
   "source": [
    "# Diccionario\n",
    "datos = {\n",
    "    'manzanas' : [ 3 , 2 , 0 , 1 ], \n",
    "    'naranjas' : [ 0 , 3 , 7 , 2 ]\n",
    "    }\n",
    "\n",
    "indice = [ 'Luis' , 'Roberto' , 'Liliana' , 'David' ]\n",
    "# class pandas.DataFrame(data=None, index=None, columns=None, dtype=None, copy=False)\n",
    "\n",
    "compras = pd.DataFrame(datos, indice)   \n",
    "\n",
    "#llamado del dataframe\n",
    "compras"
   ]
  },
  {
   "cell_type": "markdown",
   "metadata": {},
   "source": [
    "Las etiquetas de filas y de columnas (indices) son accesibles a través de los atributos \n",
    "* index\n",
    "* columns"
   ]
  },
  {
   "cell_type": "code",
   "execution_count": null,
   "metadata": {},
   "outputs": [],
   "source": [
    "# atributo index (indice de filas, denominado index)\n",
    "compras.index"
   ]
  },
  {
   "cell_type": "code",
   "execution_count": null,
   "metadata": {},
   "outputs": [],
   "source": [
    "# atributo columns (indice de columnas, denominado columns)\n",
    "compras.columns"
   ]
  },
  {
   "cell_type": "markdown",
   "metadata": {},
   "source": [
    "El eje 0 es el correspondiente al índice de filas (eje vertical) y el eje 1 al índice de columnas (eje horizontal).\n",
    "\n",
    "El atributo **axes** devuelve una lista con los ejes de la estructura (dos, al tratarse de una estructura bidimensional):"
   ]
  },
  {
   "cell_type": "code",
   "execution_count": null,
   "metadata": {},
   "outputs": [],
   "source": [
    "# atributo axes\n",
    "compras.axes"
   ]
  },
  {
   "cell_type": "markdown",
   "metadata": {},
   "source": [
    "Al igual que ocurría con las series, los índices de filas y columnas son inmutables. \n",
    "\n",
    "Tanto el índice de filas como el de columnas poseen el atributo **name**."
   ]
  },
  {
   "cell_type": "code",
   "execution_count": null,
   "metadata": {},
   "outputs": [],
   "source": [
    "# Adiciona un nombre para el indice vertical (clientes)\n",
    "compras.index.name = \"Clientes\"\n",
    "\n",
    "compras"
   ]
  },
  {
   "cell_type": "code",
   "execution_count": null,
   "metadata": {},
   "outputs": [],
   "source": [
    "# Adiciona un nombre para el indice horizontal (columns - manzanas y naranjas)\n",
    "compras.columns.name = \"Frutas\"\n",
    "\n",
    "compras"
   ]
  },
  {
   "cell_type": "markdown",
   "metadata": {},
   "source": [
    "Similar a las series, el atributo **values** de un dataframe permite acceder a los valores del dataframe, con formato array NumPy 2d:"
   ]
  },
  {
   "cell_type": "code",
   "execution_count": null,
   "metadata": {},
   "outputs": [],
   "source": [
    "# atributo values\n",
    "compras.values"
   ]
  },
  {
   "cell_type": "markdown",
   "metadata": {},
   "source": [
    "Asimismo, un dataframe también tiene un atributo **shape** que informa de su dimensionalidad y número de elementos en cada dimensión."
   ]
  },
  {
   "cell_type": "code",
   "execution_count": null,
   "metadata": {},
   "outputs": [],
   "source": [
    "# atributo shape\n",
    "compras.shape"
   ]
  },
  {
   "cell_type": "markdown",
   "metadata": {},
   "source": [
    "Para ver más información sobre DataFrame se puede consultar la documentación de pandas: https://pandas.pydata.org/pandas-docs/stable/reference/frame.html"
   ]
  },
  {
   "cell_type": "markdown",
   "metadata": {},
   "source": [
    "# Creación de series\n",
    "\n",
    "El constructor para la creación de una serie pandas es *pandas.Series*. \n",
    "\n",
    "Este constructor acepta tres parámetros principales:\n",
    "\n",
    "- data: estructura de datos tipo array, iterable, diccionario o valor escalar que contendrá los valores a introducir en la serie.\n",
    "- index: estructura tipo array con la misma longitud que los datos. Si este argumento no se añade al crear la serie, se agregará un índice por defecto formado por números enteros desde 0 hasta n-1, siendo n el número de datos.\n",
    "- dtype: tipo de datos para la serie. Si no se especifica, se inferirá a partir de los datos.\n",
    "\n",
    "Los valores del índice, como ya se ha comentado anteriormente, no tienen que ser necesariamente distintos aunque ciertas operaciones pueden generar un error si no soportan la posibilidad de tener índices duplicados.\n",
    "\n",
    "\n",
    "### Utilizando una lista "
   ]
  },
  {
   "cell_type": "code",
   "execution_count": null,
   "metadata": {},
   "outputs": [],
   "source": [
    "import pandas as pd\n",
    "\n",
    "# crear una instancia de Series\n",
    "Lista = [7,5,3]\n",
    "\n",
    "s = pd.Series(Lista)\n",
    "\n",
    "# mostrar la serie\n",
    "s"
   ]
  },
  {
   "cell_type": "markdown",
   "metadata": {},
   "source": [
    "Al no haberse especificado un índice, se asigna uno automáticamente con los valores 0, 1 y 2."
   ]
  },
  {
   "cell_type": "markdown",
   "metadata": {},
   "source": [
    "Si repetimos esta instrucción especificando un índice:"
   ]
  },
  {
   "cell_type": "code",
   "execution_count": null,
   "metadata": {},
   "outputs": [],
   "source": [
    "# se crea una instancia de Series indicando el valor de los indices desde una secuencia\n",
    "lista = [7,5,3]\n",
    "indice = [\"Ene\", \"Feb\", \"Mar\"]\n",
    "\n",
    "s = pd.Series(lista, indice)\n",
    "\n",
    "# mostrar la serie\n",
    "print(s)"
   ]
  },
  {
   "cell_type": "markdown",
   "metadata": {},
   "source": [
    "### Utilizando un diccionario"
   ]
  },
  {
   "cell_type": "code",
   "execution_count": null,
   "metadata": {},
   "outputs": [],
   "source": [
    "d = {\n",
    "    \"Ene\":7, \n",
    "    \"Feb\":5, \n",
    "    \"Mar\":3\n",
    "    }\n",
    "\n",
    "# se crea una Serie (con el constructor) a partir de un diccionaro\n",
    "s = pd.Series(d)\n",
    "\n",
    "# mostrar la serie\n",
    "s"
   ]
  },
  {
   "cell_type": "markdown",
   "metadata": {},
   "source": [
    "Aquí vemos cómo: \n",
    "* las claves del diccionario son etiquetas del índice\n",
    "* los valores del diccionario son los valores de la serie.\n",
    "\n",
    "Si incluimos el índice explícitamente en el constructor, los valores en la serie se tomarán en el orden en el que estén en el índice explícito. Además, si en éste hay valores que no pertenecen al conjunto de claves del diccionario, se añaden a la serie con un valor NaN:"
   ]
  },
  {
   "cell_type": "code",
   "execution_count": null,
   "metadata": {},
   "outputs": [],
   "source": [
    "# datos\n",
    "diccionario = {\n",
    "    \"Ene\":7, \n",
    "    \"Feb\":5, \n",
    "    \"Mar\":3\n",
    "    }\n",
    "\n",
    "# indices\n",
    "meses = [\"Abr\", \"Mar\", \"Feb\", \"Ene\"] \n",
    "\n",
    "s = pd.Series(diccionario, meses, dtype=int)\n",
    "\n",
    "# mostrar la serie\n",
    "s #NaN"
   ]
  },
  {
   "cell_type": "markdown",
   "metadata": {},
   "source": [
    "### Utilizando un escalar"
   ]
  },
  {
   "cell_type": "markdown",
   "metadata": {},
   "source": [
    "Si los datos se reducen a un único escalar será necesario crear el índice explícitamente. En esre caso, el número de elementos de la serie coincidirá con el número de elementos del índice."
   ]
  },
  {
   "cell_type": "code",
   "execution_count": null,
   "metadata": {},
   "outputs": [],
   "source": [
    "# indices\n",
    "meses = [\"Ene\", \"Feb\", \"Mar\"]\n",
    "\n",
    "# serie\n",
    "s = pd.Series(7,meses)\n",
    "\n",
    "# mostrar la serie\n",
    "s"
   ]
  },
  {
   "cell_type": "markdown",
   "metadata": {},
   "source": [
    "# Creación de dataframes\n",
    "\n",
    "El constructor de dataframes es *pandas.DataFrame*\n",
    "\n",
    "Acepta cuatro parámetros principales:\n",
    "\n",
    "* data: estructura de datos ndarray (array NumPy), diccionario u otro dataframe.\n",
    "* index: índice a aplicar a las filas. Puede ser implicito o explicito.\n",
    "* columns: índice de las columnas. Puede ser implicito o explicito.\n",
    "* dtype: Tipo de datos que se asignan a los elementos del dataframe. Se puede asignar de forma explicita o por defecto según el tipo de datos.\n",
    "\n",
    "Los valores de los índices de filas y columnas no tienen por qué ser necesariamente distintos."
   ]
  },
  {
   "cell_type": "code",
   "execution_count": null,
   "metadata": {},
   "outputs": [],
   "source": [
    "import pandas as pd\n",
    "\n",
    "lista1 = [1,2,3]\n",
    "lista2 = [1,2,3]\n",
    "lista3 = [1,2,3]\n",
    "indices = ['frutas','verduras','carnes']\n",
    "columnas = ['enero', 'febrero', 'marzo']\n",
    "\n",
    "primerEjemplo = pd.DataFrame([lista1,lista2,lista3], indices,columns=columnas)\n",
    "\n",
    "primerEjemplo"
   ]
  },
  {
   "cell_type": "markdown",
   "metadata": {},
   "source": [
    "### Dataframe a partir de un diccionario"
   ]
  },
  {
   "cell_type": "code",
   "execution_count": null,
   "metadata": {},
   "outputs": [],
   "source": [
    "import pandas as pd\n",
    "\n",
    "elementos = { \n",
    "    \"Numero atómico\":[1, 6, 47, 88],\n",
    "    \"Masa atómica\":[1.008, 12.011, 107.87, 226],\n",
    "    \"Familia\":[\"No metal\", \"No metal\", \"Metal\", \"Metal\"]\n",
    "}\n",
    "\n",
    "# mostar el diccionario\n",
    "print(elementos)\n",
    "\n",
    "#se crea un dataframe a partir del diccionario\n",
    "tabla_periodica = pd.DataFrame(elementos)\n",
    "\n",
    "# mostrar el dataframe\n",
    "tabla_periodica\n"
   ]
  },
  {
   "cell_type": "markdown",
   "metadata": {},
   "source": [
    "A continuación repetimos la misma operación especificando las etiquetas tanto para filas como para columnas, utilizando los parámetros index y columns, respectivamente:"
   ]
  },
  {
   "cell_type": "code",
   "execution_count": null,
   "metadata": {},
   "outputs": [],
   "source": [
    "elementos = { \n",
    "    \"Numero atómico\":[1, 6, 47, 88],\n",
    "    \"Masa atómica\":[1.008, 12.011, 107.87, 226],\n",
    "    \"Familia\":[\"No metal\", \"No metal\", \"Metal\", \"Metal\"]\n",
    "}\n",
    "indice = [\"H\", \"C\", \"Ag\", \"Ra\"]\n",
    "columnas = [\"Familia\", \"Numero atómico\", \"Masa atómica\"]\n",
    "\n",
    "tabla_periodica = pd.DataFrame(elementos, indice, columnas)\n",
    "# mostrar el dataframe\n",
    "tabla_periodica"
   ]
  },
  {
   "cell_type": "markdown",
   "metadata": {},
   "source": [
    "Con el parámetro columns podemos:\n",
    "* Especificar el orden de como se mostrarán las columnas o incluso filtrar éstas, pero no cambiar sus nombres. \n",
    "* Si una nueva etiqueta no esta incluida en el diccionario, se crea la nueva columna con todos sus valores en NaN.\n",
    "* Si, en lugar de listas de datos como valores del diccionario hubiese sido arrays NumPy o series, el procedimiento es el mismo.\n",
    "\n",
    "### Utilizando un array Numpy\n",
    "\n",
    "En este caso, si no se especifican explicitamente las etiquetas de filas y columnas del array NumPy, se asignan las etiquetas por defecto (implicitas)"
   ]
  },
  {
   "cell_type": "code",
   "execution_count": null,
   "metadata": {},
   "outputs": [],
   "source": [
    "import numpy as np\n",
    "\n",
    "arreglo = [[2, 5, 3, 2],\n",
    "           [4, 6, 7, 2],\n",
    "           [3, 2, 4, 1]\n",
    "           ]\n",
    "\n",
    "unidades_Datos = np.array(arreglo)\n",
    "\n",
    "# se muestra el numpy array\n",
    "print(unidades_Datos)"
   ]
  },
  {
   "cell_type": "markdown",
   "metadata": {},
   "source": [
    "Ahora, se crea un dataframe a partir de un numpy array"
   ]
  },
  {
   "cell_type": "code",
   "execution_count": null,
   "metadata": {},
   "outputs": [],
   "source": [
    "# se crea un dataframe a partir de un numpy array\n",
    "indice = ['Enero','Febrero','Marzo']\n",
    "columnas = ['Pera','Manzana','Banano','Limon']\n",
    "\n",
    "unidades = pd.DataFrame(unidades_Datos, indice, columnas)\n",
    "\n",
    "unidades.index.name = 'Meses'\n",
    "unidades.columns.name = 'Frutas'\n",
    "\n",
    "# se muestra el dataframe\n",
    "unidades"
   ]
  },
  {
   "cell_type": "markdown",
   "metadata": {},
   "source": [
    "Las filas del *array NumPy* siguen siendo interpretadas como filas del dataframe.  Si especificamos las etiquetas de filas y columnas, el resultado es diferente:"
   ]
  },
  {
   "cell_type": "code",
   "execution_count": null,
   "metadata": {},
   "outputs": [],
   "source": [
    "# indice del dataframe\n",
    "indice = [2015, 2016, 2017]\n",
    "\n",
    "# columna del dataframe\n",
    "columna = [\"Ag\", \"Au\", \"Cu\", \"Pt\"]\n",
    "\n",
    "# creación del dataframe\n",
    "unidades = pd.DataFrame(unidades_Datos, indice, columna)\n",
    "\n",
    "# mostrar el dataframe\n",
    "unidades"
   ]
  },
  {
   "cell_type": "markdown",
   "metadata": {},
   "source": [
    "### Utilizando diferentes diccionarios\n",
    "\n",
    "También podemos partir de un conjunto de diccionarios, cada uno definiendo el contenido de lo que será una fila del dataframe:"
   ]
  },
  {
   "cell_type": "code",
   "execution_count": null,
   "metadata": {},
   "outputs": [],
   "source": [
    "# diccionarios de datos\n",
    "unidades_2015 = {\n",
    "    \"Ag\":2, \n",
    "    \"Au\":5, \n",
    "    \"Cu\":3, \n",
    "    \"Pt\":2\n",
    "    }\n",
    "unidades_2016 = {\n",
    "    \"Ag\":4, \n",
    "    \"Au\":6, \n",
    "    \"Cu\":7, \n",
    "    \"Pt\":2\n",
    "    }\n",
    "unidades_2017 = {\n",
    "    \"Ag\":3, \n",
    "    \"Au\":2, \n",
    "    \"Cu\":4, \n",
    "    \"Pt\":1\n",
    "    }\n",
    "\n",
    "# se crean los indices a partir de una lista\n",
    "indices = [2015, 2016, 2017]\n",
    "\n",
    "# creación del dataframe\n",
    "unidades = pd.DataFrame([unidades_2015, unidades_2016, unidades_2017], indices)\n",
    "\n",
    "# mostrar el dataframe\n",
    "unidades"
   ]
  },
  {
   "cell_type": "markdown",
   "metadata": {},
   "source": [
    "Los diccionarios deberán compartir el mismo conjunto de claves que se interpretarán como etiquetas de columnas. Si las etiquetas no coinciden, se crearán todas las columnas pero se asignarán NaN a los valores desconocidos:"
   ]
  },
  {
   "cell_type": "code",
   "execution_count": null,
   "metadata": {},
   "outputs": [],
   "source": [
    "unidades_2015 = {\n",
    "    \"Ag\":2, \n",
    "    \"Au\":5, \n",
    "    \"Cu\":3, \n",
    "    \"Pt\":2\n",
    "    }\n",
    "unidades_2016 = {\n",
    "    \"Ag\":4, \n",
    "    \"Au\":6, \n",
    "    \"Cu\":7, \n",
    "    \"Al\":2 # <- valor nuevo, solo disponible en esete diccionario\n",
    "    }\n",
    "unidades_2017 = {\n",
    "    \"Ag\":3, \n",
    "    \"Pb\":2, # <- valor nuevo, solo disponible en esete diccionario\n",
    "    \"Cu\":4, \n",
    "    \"Pt\":1\n",
    "    }\n",
    "\n",
    "indices = [2015, 2016, 2017]\n",
    "\n",
    "# creación del dataframe\n",
    "unidades = pd.DataFrame([unidades_2015, unidades_2016, unidades_2017], indices)\n",
    "\n",
    "# mostrar el dataframe\n",
    "unidades"
   ]
  },
  {
   "cell_type": "markdown",
   "metadata": {},
   "source": [
    "# Otros metodos de contrucción\n",
    "\n",
    "- **pandas.DataFrame.from_dict**, crea un dataframe a partir de un diccionario de diccionarios o de secuencias tipo array:\n",
    "https://pandas.pydata.org/pandas-docs/stable/reference/api/pandas.DataFrame.from_dict.html\n",
    "\n",
    "- **pandas.DataFrame.from_records**, que parte de una lista de tuplas o de arrays NumPy con un tipo estructurado:\n",
    "https://pandas.pydata.org/pandas-docs/stable/reference/api/pandas.DataFrame.from_records.html"
   ]
  },
  {
   "cell_type": "markdown",
   "metadata": {},
   "source": [
    "# Inspección de la información \n",
    "\n",
    "Normalmente, una vez hemos cargado un bloque de datos en una serie o un dataframe, lo primero que haremos será inspeccionarlo para confirmar que los datos cargados son los esperados y que la lectura se ha realizado correctamente. Para esto tenemos los métodos **head**, **tail** y **sample**, con un comportamiento semejante en series y dataframes, que nos muestran un subconjunto de los datos cargados. Además, los métodos **describe** e **info** nos proporcionan información adicional sobre los datos. Veamos estos métodos por separado."
   ]
  },
  {
   "cell_type": "markdown",
   "metadata": {},
   "source": [
    "# El método head\n",
    "\n",
    "* Disponible *pandas.Series.head* para *series* y *pandas.DataFrame.head* para *dataframes*\n",
    "* Devuelve los primeros 5 elementos de la estructura \n",
    "* Se puede especificar el número de elementos a mostrar, satisfaciendo su argumento con un entero"
   ]
  },
  {
   "cell_type": "code",
   "execution_count": null,
   "metadata": {},
   "outputs": [],
   "source": [
    "import pandas as pd\n",
    "\n",
    "# declaracion de valores de la seria \"entrada\"\n",
    "ListaEntrada = [11, 18, 12, 16, 9, 16, 22, 28, 31, 29, 30, 12]\n",
    "\n",
    "# definiendo indices \"entrada\"\n",
    "indiceEntrada = [\"ene\", \"feb\", \"mar\", \"abr\", \"may\", \"jun\", \"jul\", \"ago\", \"sep\", \"oct\", \"nov\", \"dic\"]\n",
    "\n",
    "# creación de la seria\n",
    "entradas = pd.Series(ListaEntrada,indiceEntrada)\n",
    "\n",
    "# se muestra la serie \"entrada\"\n",
    "entradas"
   ]
  },
  {
   "cell_type": "code",
   "execution_count": null,
   "metadata": {},
   "outputs": [],
   "source": [
    "# declaracion de valores de la seria \"salida\"\n",
    "ListaSalida = [9, 26, 18, 15, 6, 22, 19, 25, 34, 22, 21, 14]\n",
    "\n",
    "# definiendo indices \"salida\"\n",
    "indiceSalida = [\"ene\", \"feb\", \"mar\", \"abr\", \"may\", \"jun\", \"jul\", \"ago\", \"sep\", \"oct\", \"nov\", \"dic\"]\n",
    "\n",
    "# creación de la seria\n",
    "salidas = pd.Series(ListaSalida, indiceSalida)\n",
    "\n",
    "# se muestra la serie \"salida\"\n",
    "salidas"
   ]
  },
  {
   "cell_type": "code",
   "execution_count": null,
   "metadata": {},
   "outputs": [],
   "source": [
    "# declaracion de valores del dataframe \"almacen\" a partir de un diccionario\n",
    "datosEntradaSalida = {\n",
    "    \"entradas\": entradas, \n",
    "    \"salidas\": salidas\n",
    "    }\n",
    "\n",
    "almacen = pd.DataFrame(datosEntradaSalida)\n",
    "\n",
    "# se crea una nueva columna llamada \"neto\", que calcula la diferencia de entradas - salidas\n",
    "almacen[\"neto\"] = almacen.entradas - almacen.salidas"
   ]
  },
  {
   "cell_type": "markdown",
   "metadata": {},
   "source": [
    "En este ejemplo es posible mostrar todos los valores, en contraste, en un caso real, podrian ser miles o millones.\n",
    "\n",
    "Ahora, para mostrar apenas los primeros elementos de la estructura, ejecutamos el método head:"
   ]
  },
  {
   "cell_type": "code",
   "execution_count": null,
   "metadata": {},
   "outputs": [],
   "source": [
    "# se muestra el dataframe resultante\n",
    "print('Almacen actualizado')\n",
    "\n",
    "# se imprime el cuerpo del dataframe resultante de \"almacen\"\n",
    "print(f'\\nCuerpo del dataframe: {almacen.shape}')\n",
    "\n",
    "# se imprime el dataframe almacen\n",
    "almacen"
   ]
  },
  {
   "cell_type": "code",
   "execution_count": null,
   "metadata": {},
   "outputs": [],
   "source": [
    "entradas.head()"
   ]
  },
  {
   "cell_type": "code",
   "execution_count": null,
   "metadata": {},
   "outputs": [],
   "source": [
    "salidas.head(3)"
   ]
  },
  {
   "cell_type": "code",
   "execution_count": null,
   "metadata": {},
   "outputs": [],
   "source": [
    "almacen.head(7)"
   ]
  },
  {
   "cell_type": "markdown",
   "metadata": {},
   "source": [
    "# El método tail \n",
    "\n",
    "* Disponible para *pandas.Series.tail* y *pandas.DataFrame.tail* \n",
    "* Solo muestran los últimos 5 elementos de la estructura.\n",
    "* Se puede especificar el número de elementos a mostrar, satisfaciendo su argumento con un entero"
   ]
  },
  {
   "cell_type": "code",
   "execution_count": null,
   "metadata": {},
   "outputs": [],
   "source": [
    "entradas.tail()"
   ]
  },
  {
   "cell_type": "code",
   "execution_count": null,
   "metadata": {},
   "outputs": [],
   "source": [
    "salidas.tail(2)"
   ]
  },
  {
   "cell_type": "code",
   "execution_count": null,
   "metadata": {},
   "outputs": [],
   "source": [
    "almacen.tail(2)"
   ]
  },
  {
   "cell_type": "markdown",
   "metadata": {},
   "source": [
    "# El método sample\n",
    "\n",
    "* Disponible para *pandas.Series.sample*  y *pandas.DataFrame.sample*\n",
    "* Permite ver datos aleatorios de nuestra estructura\n",
    "* Solo muestra 1 elemento de la estructura.\n",
    "* Se puede especificar el número de elementos a mostrar, satisfaciendo su argumento con un entero"
   ]
  },
  {
   "cell_type": "code",
   "execution_count": null,
   "metadata": {},
   "outputs": [],
   "source": [
    "entradas.sample()"
   ]
  },
  {
   "cell_type": "code",
   "execution_count": null,
   "metadata": {},
   "outputs": [],
   "source": [
    "salidas.sample(2)"
   ]
  },
  {
   "cell_type": "code",
   "execution_count": null,
   "metadata": {},
   "outputs": [],
   "source": [
    "almacen.sample(5)"
   ]
  },
  {
   "cell_type": "markdown",
   "metadata": {},
   "source": [
    "# El método describe\n",
    "\n",
    "* Genera estadísticas descriptivas\n",
    "\n",
    "| No | Función    | Descripción                        |\n",
    "|----|------------|------------------------------------|\n",
    "| 1  | recuento() | Número de observaciones no nulas   |\n",
    "| 2  | suma ()    | Suma de valores                    |\n",
    "| 3  | media ()   | Media de valores                   |\n",
    "| 4  | mediana () | Mediana de valores                 |\n",
    "| 5  | modo ()    | Modo de valores                    |\n",
    "| 6  | std ()     | Desviación estándar de los valores |\n",
    "| 7  | min ()     | Valor mínimo                       |\n",
    "| 8  | max ()     | Valor máximo                       |\n",
    "| 9  | abs ()     | Valor absoluto                     |\n",
    "| 10 | prod ()    | Producto de valores                |\n",
    "| 11 | cumsum ()  | Suma acumulada                     |\n",
    "| 12 | cumprod () | Producto acumulativo               |\n",
    "\n",
    "Formato:\n",
    "DataFrame.describe(percentiles=None, include=None, exclude=None, datetime_is_numeric=False)"
   ]
  },
  {
   "cell_type": "code",
   "execution_count": null,
   "metadata": {},
   "outputs": [],
   "source": [
    "import pandas as pd\n",
    "\n",
    "# declaracion de valores de la seria \"entrada\"\n",
    "ListaEntrada = [11, 18, 12, 16, 9, 16, 22, 28, 31, 29, 30, 12]\n",
    "# definiendo indices \"entrada\"\n",
    "indiceEntrada = [\"ene\", \"feb\", \"mar\", \"abr\", \"may\", \"jun\", \"jul\", \"ago\", \"sep\", \"oct\", \"nov\", \"dic\"]\n",
    "# creación de la seria\n",
    "entradas = pd.Series(ListaEntrada,indiceEntrada)\n",
    "\n",
    "# declaracion de valores de la seria \"salida\"\n",
    "ListaSalida = [9, 26, 18, 15, 6, 22, 19, 25, 34, 22, 21, 14]\n",
    "# definiendo indices \"salida\"\n",
    "indiceSalida = [\"ene\", \"feb\", \"mar\", \"abr\", \"may\", \"jun\", \"jul\", \"ago\", \"sep\", \"oct\", \"nov\", \"dic\"]\n",
    "# creación de la seria\n",
    "salidas = pd.Series(ListaSalida,indiceSalida)\n",
    "\n",
    "# declaracion de valores del dataframe \"almacen\" a partir de un diccionario\n",
    "datosEntradaSalida = {\n",
    "    \"entradas\": entradas, \n",
    "    \"salidas\": salidas\n",
    "    }\n",
    "\n",
    "almacen = pd.DataFrame(datosEntradaSalida)\n",
    "# se crea una nueva columna llamada \"neto\", que calcula la diferencia de entradas - salidas\n",
    "almacen[\"neto\"] = almacen.entradas - almacen.salidas"
   ]
  },
  {
   "cell_type": "code",
   "execution_count": null,
   "metadata": {},
   "outputs": [],
   "source": [
    "entradas.describe()"
   ]
  },
  {
   "cell_type": "code",
   "execution_count": null,
   "metadata": {},
   "outputs": [],
   "source": [
    "salidas.describe()"
   ]
  },
  {
   "cell_type": "code",
   "execution_count": null,
   "metadata": {},
   "outputs": [],
   "source": [
    "almacen.describe()"
   ]
  },
  {
   "cell_type": "markdown",
   "metadata": {},
   "source": [
    "# El método info\n",
    "\n",
    "* Muestra un resumen de un dataframe\n",
    "* Incluye información sobre el tipo de los índices de filas y columnas, los valores no nulos y la memoria usada\n",
    "* Solo los dataframes tienen implementado este método."
   ]
  },
  {
   "cell_type": "code",
   "execution_count": null,
   "metadata": {},
   "outputs": [],
   "source": [
    "almacen.info()"
   ]
  },
  {
   "cell_type": "markdown",
   "metadata": {},
   "source": [
    "# El método pandas.Series.value_counts\n",
    "\n",
    "* Método de la series pandas\n",
    "* Devuelve una estructura que contiene los valores presentes en la serie y el número de ocurrencias de cada uno. Estos valores se muestran en orden decreciente"
   ]
  },
  {
   "cell_type": "code",
   "execution_count": null,
   "metadata": {},
   "outputs": [],
   "source": [
    "import numpy as np\n",
    "\n",
    "# Se define la lista de valores\n",
    "Lista = [3, 1, 2, 1, 1, 4, 1, 2, None, None]\n",
    "\n",
    "# Se crea la serie\n",
    "s = pd.Series(Lista)\n",
    "\n",
    "# Se imprime la seria\n",
    "print(s)\n",
    "\n",
    "# Se muestra el número de ocurrencias de la serie\n",
    "s.value_counts()"
   ]
  },
  {
   "cell_type": "markdown",
   "metadata": {},
   "source": [
    "El parametro **dropna** de **pandas.Series.value_counts** permite mostrar los valores NaN (Nulos) de la serie"
   ]
  },
  {
   "cell_type": "code",
   "execution_count": null,
   "metadata": {},
   "outputs": [],
   "source": [
    "s.value_counts(dropna = False)"
   ]
  },
  {
   "cell_type": "markdown",
   "metadata": {},
   "source": [
    "El parametro **bins** de **pandas.Series.value_counts** permite agrupar los datos dentro rangos (bins). Su valor, indica el ambito de rangos para la serie"
   ]
  },
  {
   "cell_type": "code",
   "execution_count": null,
   "metadata": {},
   "outputs": [],
   "source": [
    "s.value_counts(bins = 6)"
   ]
  },
  {
   "cell_type": "markdown",
   "metadata": {},
   "source": [
    "Vemos que se han creados los dos bins, el primero conteniendo los valores entre 0.996 y 2.5 (intervalo abierto por la izquierda y cerrado por la derecha), bin en el que hay 6 valores, y el segundo conteniendo los valores entre 2.5 y 4 (intervalo también abierto por la izquierda y cerrado por la derecha), bin en el que hay 2 valores."
   ]
  },
  {
   "cell_type": "markdown",
   "metadata": {},
   "source": [
    "# Selección de datos en Series\n",
    "\n",
    "Podemos seleccionar los valores haciendo referencia al índice asignado con la misma notación que en un diccionario (la llamada \"notación corchetes\" o \"square bracket notation\"):"
   ]
  },
  {
   "cell_type": "code",
   "execution_count": null,
   "metadata": {},
   "outputs": [],
   "source": [
    "import pandas as pd\n",
    "\n",
    "# se define una lista de valores\n",
    "Lista = [10, 20, 30, 40]\n",
    "s = pd.Series(Lista)\n",
    "\n",
    "# se muestra la serie\n",
    "print(s)\n",
    "# seleccionamos algunos valores de la serie\n",
    "print(s[0])\n",
    "print(s[2])"
   ]
  },
  {
   "cell_type": "markdown",
   "metadata": {},
   "source": [
    "Usando esta sintaxis, si no se ha especificado un índice explícito, los índices negativos no están permitidos.\n",
    "\n",
    "Si se asignan índices de forma explícita:"
   ]
  },
  {
   "cell_type": "code",
   "execution_count": null,
   "metadata": {},
   "outputs": [],
   "source": [
    "# se define una lista de valores\n",
    "Lista = [10, 20, 30, 40]\n",
    "# se definen los indices\n",
    "Indices = [\"a\", \"b\", \"c\", \"d\"]\n",
    "# se define la serie\n",
    "s = pd.Series(Lista, Indices)\n",
    "# se muestra la serie\n",
    "s"
   ]
  },
  {
   "cell_type": "markdown",
   "metadata": {},
   "source": [
    "Ahora, podemnos seleccionar los elementos usando el índice **explícito** o el **implícito**"
   ]
  },
  {
   "cell_type": "code",
   "execution_count": null,
   "metadata": {},
   "outputs": [],
   "source": [
    "print(s[\"a\"],s[0])"
   ]
  },
  {
   "cell_type": "code",
   "execution_count": null,
   "metadata": {},
   "outputs": [],
   "source": [
    "print(s[\"d\"],s[3])"
   ]
  },
  {
   "cell_type": "markdown",
   "metadata": {},
   "source": [
    "Con la siguiente sintaxis, sí está permitido hacer uso de índices negativos para referirnos a los elementos desde el final de la estructura. Si los índices asignados son números enteros (al igual que las etiquetas del índice implícito), el índice implícito queda desactivado:"
   ]
  },
  {
   "cell_type": "code",
   "execution_count": null,
   "metadata": {},
   "outputs": [],
   "source": [
    "# se define una lista de valores\n",
    "Lista = [10, 20, 30, 40]\n",
    "# se definen los indices\n",
    "Indices = [3, 2, 1, 0]\n",
    "# se define la serie\n",
    "s = pd.Series(Lista,Indices)\n",
    "# se muestra la serie\n",
    "s"
   ]
  },
  {
   "cell_type": "code",
   "execution_count": null,
   "metadata": {},
   "outputs": [],
   "source": [
    "# se imprime el valor a traves de un hash\n",
    "s[3]"
   ]
  },
  {
   "cell_type": "markdown",
   "metadata": {},
   "source": [
    "# Uso de rangos\n",
    "\n",
    "Es posible seleccionar rangos de valores. De esta forma, si usamos un rango numérico en una serie en la que hemos definido un índice explícito:"
   ]
  },
  {
   "cell_type": "code",
   "execution_count": null,
   "metadata": {},
   "outputs": [],
   "source": [
    "# se define una lista de valores\n",
    "Lista = [10, 20, 30, 40]\n",
    "# se definen los indices\n",
    "Indices = [\"a\", \"b\", \"c\", \"d\"]\n",
    "# se define la serie\n",
    "s = pd.Series(Lista,Indices)\n",
    "# se muestra la serie\n",
    "s"
   ]
  },
  {
   "cell_type": "code",
   "execution_count": null,
   "metadata": {},
   "outputs": [],
   "source": [
    "# se imprime una rebanada (rango) de la serie\n",
    "s[1:3]"
   ]
  },
  {
   "cell_type": "markdown",
   "metadata": {},
   "source": [
    "Si no se incluye alguno de los límites, se aplica el comportamiento natural de Python"
   ]
  },
  {
   "cell_type": "code",
   "execution_count": null,
   "metadata": {},
   "outputs": [],
   "source": [
    "s[1:]"
   ]
  },
  {
   "cell_type": "code",
   "execution_count": null,
   "metadata": {},
   "outputs": [],
   "source": [
    "s[:3]"
   ]
  },
  {
   "cell_type": "markdown",
   "metadata": {},
   "source": [
    "Si se utilizan los índices explícitos en el rango, el comportamiento es ligeramente diferente:"
   ]
  },
  {
   "cell_type": "code",
   "execution_count": null,
   "metadata": {},
   "outputs": [],
   "source": [
    "s"
   ]
  },
  {
   "cell_type": "code",
   "execution_count": null,
   "metadata": {},
   "outputs": [],
   "source": [
    "s[\"a\":\"c\"]  # [0:2] = [:2]"
   ]
  },
  {
   "cell_type": "code",
   "execution_count": null,
   "metadata": {},
   "outputs": [],
   "source": [
    "s[:\"c\"]"
   ]
  },
  {
   "cell_type": "code",
   "execution_count": null,
   "metadata": {},
   "outputs": [],
   "source": [
    "s[\"b\":]"
   ]
  },
  {
   "cell_type": "markdown",
   "metadata": {},
   "source": [
    "Una posible fuente de confusión viene derivada del hecho de que, usando rangos, es posible hacer referencia tanto a las etiquetas como a los índices numéricos: si utilizamos etiquetas, hacemos referencia a las etiquetas (por supuesto):"
   ]
  },
  {
   "cell_type": "code",
   "execution_count": null,
   "metadata": {},
   "outputs": [],
   "source": [
    "# se define una lista de valores\n",
    "Lista = [10, 20, 30, 40]\n",
    "# se definen los indices\n",
    "Indices = [\"a\", \"b\", \"c\", \"d\"]\n",
    "# se define la serie\n",
    "s = pd.Series(Lista, index = Indices)"
   ]
  },
  {
   "cell_type": "code",
   "execution_count": null,
   "metadata": {},
   "outputs": [],
   "source": [
    "s[\"b\":\"d\"]"
   ]
  },
  {
   "cell_type": "markdown",
   "metadata": {},
   "source": [
    "y, por tanto, si utilizamos números, hacemos referencia a los índices numéricos (¿por supuesto...?):"
   ]
  },
  {
   "cell_type": "code",
   "execution_count": null,
   "metadata": {},
   "outputs": [],
   "source": [
    "s[1:3]"
   ]
  },
  {
   "cell_type": "markdown",
   "metadata": {},
   "source": [
    "Ahora, si tenemos etiquetas numéricas, python omite las etiquetas y hace uso de los indices implicitos"
   ]
  },
  {
   "cell_type": "code",
   "execution_count": null,
   "metadata": {},
   "outputs": [],
   "source": [
    "# se define una lista de valores\n",
    "Lista = [10, 20, 30, 40]\n",
    "# se definen los indices\n",
    "Indices = [3, 2, 1, 0]\n",
    "# se define la serie\n",
    "s = pd.Series(Lista, index = Indices)\n",
    "# se imprime la seria\n",
    "s"
   ]
  },
  {
   "cell_type": "code",
   "execution_count": null,
   "metadata": {},
   "outputs": [],
   "source": [
    "s[1:3]"
   ]
  },
  {
   "cell_type": "markdown",
   "metadata": {},
   "source": [
    "Sin embargo, en el siguiente ejemplo devolverá el valor cuya etiqueta es 1 (si existe):"
   ]
  },
  {
   "cell_type": "code",
   "execution_count": null,
   "metadata": {},
   "outputs": [],
   "source": [
    "s[1]"
   ]
  },
  {
   "cell_type": "markdown",
   "metadata": {},
   "source": [
    "Es debido a esto que existen los métodos **loc** e **iloc** \n",
    "\n",
    "Dichos métodos hacen una referencia explícita a etiquetas o posiciones, respectivamente, eliminando cualquier duda al respecto de su interpretación.\n",
    "\n",
    "Al igual que con los array NumPy, es posible indicar, no un elemento simple ni un rango, sino una lista de valores. "
   ]
  },
  {
   "cell_type": "code",
   "execution_count": null,
   "metadata": {},
   "outputs": [],
   "source": [
    "# se define una lista de valores\n",
    "Lista = [10, 20, 30, 40]\n",
    "# se definen los indices\n",
    "Indices = [\"a\", \"b\", \"c\", \"d\"]\n",
    "# se define la serie\n",
    "# pandas.Series(data, index, dtype)\n",
    "s = pd.Series(Lista, index = Indices, dtype = \"int32\")\n",
    "# se imprime la serie\n",
    "s"
   ]
  },
  {
   "cell_type": "markdown",
   "metadata": {},
   "source": [
    "En el siguiente ejemplo, la lista contiene los números 3 y 1, y son los valores correspondientes a estos índices -y en el orden especificado- los devueltos por la instrucción.\n",
    "\n",
    "Asi, con esta notación, en el caso de que la serie tenga un índice explícito numérico, los valores de la lista se interpretan como haciendo referencia al índice explícito."
   ]
  },
  {
   "cell_type": "code",
   "execution_count": null,
   "metadata": {},
   "outputs": [],
   "source": [
    "segmento = s[[3, 1]]\n",
    "\n",
    "# se imprime los valores 3 y 1\n",
    "print(segmento)\n",
    "\n",
    "# se imprime el tipo de datos del segmento\n",
    "print(f'\\nTipo de datos: {type(segmento)}')"
   ]
  },
  {
   "cell_type": "markdown",
   "metadata": {},
   "source": [
    "# Metodo get\n",
    "\n",
    "Retorna el valor dado su indice como argumento"
   ]
  },
  {
   "cell_type": "code",
   "execution_count": null,
   "metadata": {},
   "outputs": [],
   "source": [
    "# se define una lista de valores\n",
    "Lista = [10, 20, 30, 40]\n",
    "# se definen los indices\n",
    "Indices = [\"a\", \"b\", \"c\", \"d\"]\n",
    "# se define la serie\n",
    "s = pd.Series(Lista, index = Indices)\n",
    "# se imprime la serie\n",
    "print(s)\n",
    "\n",
    "# capturar el valor del indice 1\n",
    "print(f'\\nDesde el indice: {s.get(1)}')\n",
    "\n",
    "# De otra forma, captura el valor del indice \"b\"\n",
    "print(f'Desde la etiqueta: {s.get(\"b\")}')"
   ]
  },
  {
   "cell_type": "markdown",
   "metadata": {},
   "source": [
    "# Método loc \n",
    "\n",
    "El método **pandas.Series.loc** permite seleccionar un grupo de elementos por etiquetas. Como argumento de este método puede utilizarse una única etiqueta\n",
    "\n",
    "Asimismo, No tolera valores de indices, solo de etiquetas"
   ]
  },
  {
   "cell_type": "code",
   "execution_count": null,
   "metadata": {},
   "outputs": [],
   "source": [
    "# se define una lista de valores\n",
    "Lista = [10, 20, 30, 40]\n",
    "# se definen los indices\n",
    "Indices = [\"a\", \"b\", \"c\", \"d\"]\n",
    "# se define la serie\n",
    "s = pd.Series(Lista, index = Indices)\n",
    "# se imprime la serie\n",
    "print(s)"
   ]
  },
  {
   "cell_type": "markdown",
   "metadata": {},
   "source": [
    "Con etiquetas"
   ]
  },
  {
   "cell_type": "code",
   "execution_count": null,
   "metadata": {},
   "outputs": [],
   "source": [
    "s.loc[\"b\"]"
   ]
  },
  {
   "cell_type": "markdown",
   "metadata": {},
   "source": [
    "Otro ejemplo"
   ]
  },
  {
   "cell_type": "code",
   "execution_count": null,
   "metadata": {},
   "outputs": [],
   "source": [
    "s.loc[[\"d\",\"a\"]]"
   ]
  },
  {
   "cell_type": "markdown",
   "metadata": {},
   "source": [
    "Ahora, con un **rango de valores** en vez de **valores únicos**"
   ]
  },
  {
   "cell_type": "code",
   "execution_count": null,
   "metadata": {},
   "outputs": [],
   "source": [
    "s[\"b\":\"d\"]"
   ]
  },
  {
   "cell_type": "markdown",
   "metadata": {},
   "source": [
    "Con valores en vez de indices"
   ]
  },
  {
   "cell_type": "code",
   "execution_count": null,
   "metadata": {},
   "outputs": [],
   "source": [
    "s.loc[1]"
   ]
  },
  {
   "cell_type": "markdown",
   "metadata": {},
   "source": [
    "# Método iloc\n",
    "\n",
    "El método **pandas.Series.iloc** permite extraer datos de la serie a partir de los índices implícitos que éstos tienen asignados. La opción más simple es utilizar como argumento un simple número entero.\n",
    "\n",
    "Asimismo, No tolera etiquetas, solo indices"
   ]
  },
  {
   "cell_type": "code",
   "execution_count": null,
   "metadata": {},
   "outputs": [],
   "source": [
    "# se define una lista de valores\n",
    "Lista = [10, 20, 30, 40]\n",
    "# se definen los indices\n",
    "Indices = [\"a\", \"b\", \"c\", \"d\"]\n",
    "# se define la serie\n",
    "s = pd.Series(Lista, index = Indices)\n",
    "# se imprime la serie\n",
    "print(s)"
   ]
  },
  {
   "cell_type": "markdown",
   "metadata": {},
   "source": [
    "Con indices"
   ]
  },
  {
   "cell_type": "code",
   "execution_count": null,
   "metadata": {},
   "outputs": [],
   "source": [
    "print(s.iloc[1])\n",
    "\n",
    "print(s.iloc[0])\n",
    "\n",
    "print(s.iloc[3])\n",
    "\n",
    "# último elemento de la serie\n",
    "print(s.iloc[-1]) # -> Si el número es negativo, hace referencia al final de la serie.\n",
    "\n",
    "# primer elemento de la serie\n",
    "print(s.iloc[-4])"
   ]
  },
  {
   "cell_type": "markdown",
   "metadata": {},
   "source": [
    "Imprimiendo valores únicos de la serie"
   ]
  },
  {
   "cell_type": "code",
   "execution_count": null,
   "metadata": {},
   "outputs": [],
   "source": [
    "print(s)\n",
    "\n",
    "s.iloc[[2, 0]]"
   ]
  },
  {
   "cell_type": "markdown",
   "metadata": {},
   "source": [
    "También podemos incluir en esta lista números negativos, con la funcionalidad ya comentada:"
   ]
  },
  {
   "cell_type": "code",
   "execution_count": null,
   "metadata": {},
   "outputs": [],
   "source": [
    "# se define una lista de valores\n",
    "Lista = [10, 20, 30, 40]\n",
    "# se definen los indices\n",
    "Indices = [\"a\", \"b\", \"c\", \"d\"]\n",
    "# se define la serie\n",
    "s = pd.Series(Lista, index = Indices)\n",
    "\n",
    "# se imprime valores únicos\n",
    "print(s.iloc[[-1]])\n",
    "s.iloc[[-2, 0]]"
   ]
  },
  {
   "cell_type": "markdown",
   "metadata": {},
   "source": [
    "Una tercera opción es usar como argumento un rango de números:"
   ]
  },
  {
   "cell_type": "code",
   "execution_count": null,
   "metadata": {},
   "outputs": [],
   "source": [
    "# se define una lista de valores\n",
    "Lista = [10, 20, 30, 40]\n",
    "# se definen los indices\n",
    "Indices = [\"a\", \"b\", \"c\", \"d\"]\n",
    "# se define la serie\n",
    "s = pd.Series(Lista, index = Indices)\n",
    "\n",
    "print(s)\n",
    "\n",
    "# se imprime rebanada\n",
    "print(s.iloc[1:3])\n",
    "\n",
    "# se imprime rebanada\n",
    "print(s.iloc[:3])\n",
    "\n",
    "# se imprime rebanada\n",
    "print(s.iloc[2:])\n",
    "\n",
    "# se imprime rebanada\n",
    "print(s.iloc[1:-1])"
   ]
  },
  {
   "cell_type": "markdown",
   "metadata": {},
   "source": [
    "Con etiquetas"
   ]
  },
  {
   "cell_type": "code",
   "execution_count": null,
   "metadata": {},
   "outputs": [],
   "source": [
    "print(s.iloc[\"b\":\"d\"])"
   ]
  },
  {
   "cell_type": "markdown",
   "metadata": {},
   "source": [
    "# Uso de arrays booleanos\n",
    "\n",
    "Una muy interesante opción para seleccionar elementos de una serie pandas es usar arrays booleanos. Por ejemplo, partimos de la siguiente serie:"
   ]
  },
  {
   "cell_type": "code",
   "execution_count": null,
   "metadata": {},
   "outputs": [],
   "source": [
    "# se define una lista de valores\n",
    "Lista = [5, 2, -3, 7, 8, 4]\n",
    "# se define la serie\n",
    "s = pd.Series(Lista)\n",
    "# se imprime la serie\n",
    "s"
   ]
  },
  {
   "cell_type": "markdown",
   "metadata": {},
   "source": [
    "Podemos seleccionar un conjunto de valores únicos de la serie a partir de un **valor de verdad**"
   ]
  },
  {
   "cell_type": "code",
   "execution_count": null,
   "metadata": {},
   "outputs": [],
   "source": [
    "print(s[[True, False, False, True, True, False]])"
   ]
  },
  {
   "cell_type": "markdown",
   "metadata": {},
   "source": [
    "Ahora, a partir de una condición de verdad, mostrara todos los elementos incluyendo el valor de verdad de acuerdo a la condición"
   ]
  },
  {
   "cell_type": "code",
   "execution_count": null,
   "metadata": {},
   "outputs": [],
   "source": [
    "print(s > 2)"
   ]
  },
  {
   "cell_type": "markdown",
   "metadata": {},
   "source": [
    "Asimismo, podemos entonces usar este resultado para extraer valores de la serie s (valores que serán aquellos mayores que 2):"
   ]
  },
  {
   "cell_type": "code",
   "execution_count": null,
   "metadata": {},
   "outputs": [],
   "source": [
    "import pandas as pd\n",
    "\n",
    "# se define una lista de valores\n",
    "Lista = [5, 2, -3, 7, 8, 4]\n",
    "\n",
    "print(s[s>2])"
   ]
  },
  {
   "cell_type": "markdown",
   "metadata": {},
   "source": [
    "Este mismo enfoque puede ser usado con los métodos **pandas.Series.loc** y **pandas.Series.iloc**\n",
    "\n",
    "El método **loc** puede ser usado en un array explícito de booleanos, de la forma:"
   ]
  },
  {
   "cell_type": "code",
   "execution_count": null,
   "metadata": {},
   "outputs": [],
   "source": [
    "print(s.loc[[True, False, False, True, True, True]])"
   ]
  },
  {
   "cell_type": "markdown",
   "metadata": {},
   "source": [
    "También puede ser utilizado con una proposición"
   ]
  },
  {
   "cell_type": "code",
   "execution_count": null,
   "metadata": {},
   "outputs": [],
   "source": [
    "print(s.loc[s>2])"
   ]
  },
  {
   "cell_type": "markdown",
   "metadata": {},
   "source": [
    "Un enfoque ligeramente se puede apreciar cuando se usa con los métodos **iloc**\n",
    "\n",
    "En un array explícito de booleanos, de la forma:"
   ]
  },
  {
   "cell_type": "code",
   "execution_count": null,
   "metadata": {},
   "outputs": [],
   "source": [
    "s.iloc[[True, False, False, True, True, True]]"
   ]
  },
  {
   "cell_type": "markdown",
   "metadata": {},
   "source": [
    "Pero desde una proposición"
   ]
  },
  {
   "cell_type": "code",
   "execution_count": null,
   "metadata": {},
   "outputs": [],
   "source": [
    "s.iloc[s>2]"
   ]
  },
  {
   "cell_type": "markdown",
   "metadata": {},
   "source": [
    "Si el objeto que está generando la estructura de booleanos (s, en s > 2) fuese un array NumPy en lugar de tratarse de una serie pandas, sí sería posible usar el método .iloc. De esta forma, la expresión s > 2 genera, como hemos visto, una serie pandas, pero podemos extraer los valores con el atributo values, que genera un array numpy:"
   ]
  },
  {
   "cell_type": "code",
   "execution_count": null,
   "metadata": {},
   "outputs": [],
   "source": [
    "type((s>2).values)"
   ]
  },
  {
   "cell_type": "code",
   "execution_count": null,
   "metadata": {},
   "outputs": [],
   "source": [
    "(s>2).values"
   ]
  },
  {
   "cell_type": "markdown",
   "metadata": {},
   "source": [
    "Si usamos esta expresión para realizar la selección en la serie original \"s\", el resultado es ahora el correcto:"
   ]
  },
  {
   "cell_type": "code",
   "execution_count": null,
   "metadata": {},
   "outputs": [],
   "source": [
    "s.iloc[(s>2).values]"
   ]
  },
  {
   "cell_type": "markdown",
   "metadata": {},
   "source": [
    "Es por ello que pandas recomienda usar el método loc cuando trabajemos con selección basada en booleanos."
   ]
  },
  {
   "cell_type": "markdown",
   "metadata": {},
   "source": [
    "# Selección aleatoria\n",
    "\n",
    "El método **pandas.Series.sample** permite \n",
    "\n",
    "* Especificar o bien el número de elementos a extraer o bien la fracción del número total de elementos a extraer (parámetros **n** y **frac**, \n",
    "* Especificar si la extracción se realiza con reemplazo o no (parámetro **replace**)\n",
    "* Especificar los pesos a aplicar a cada elemento para realizar una extracción aleatoria ponderada (parámetro **weights**)\n",
    "* Finalmente, una semilla para el generador de números aleatorios que asegure la reproducibilidad de la extracción (parámetro **random_state**)."
   ]
  },
  {
   "cell_type": "code",
   "execution_count": null,
   "metadata": {},
   "outputs": [],
   "source": [
    "# se define una lista de valores\n",
    "Lista = [10, 20, 30, 40]\n",
    "# se definen los indices\n",
    "Indices = [\"a\", \"b\", \"c\", \"s\"]\n",
    "# se define la serie\n",
    "s = pd.Series(Lista, index = Indices)"
   ]
  },
  {
   "cell_type": "code",
   "execution_count": null,
   "metadata": {},
   "outputs": [],
   "source": [
    "# Series.sample(n=None, frac=None, replace=False, weights=None, random_state=None, axis=None, ignore_index=False)\n",
    "s.sample(2, random_state = 18)"
   ]
  },
  {
   "cell_type": "markdown",
   "metadata": {},
   "source": [
    "Hemos extraído 3 elementos, por defecto sin reemplazo, aplicando el valor 18 como semilla del generador de números aleatorios."
   ]
  },
  {
   "cell_type": "code",
   "execution_count": null,
   "metadata": {},
   "outputs": [],
   "source": [
    "# Series.sample(n=None, frac=None, replace=False, weights=None, random_state=None, axis=None, ignore_index=False)\n",
    "s.sample(frac = 0.7, random_state = 18) # -> se extrae el 70% de los valores de la serie original haciendo uso del parámetro frac."
   ]
  },
  {
   "cell_type": "markdown",
   "metadata": {},
   "source": [
    "Asimismo, si no hay reemplazo, el número máximo de elementos que podemos extraer coincide con la longitud de la serie. \n",
    "\n",
    "Por el contrario, si la extracción la realizamos con reemplazo, podemos especificar cualquier número de elementos, como en el siguiente ejemplo"
   ]
  },
  {
   "cell_type": "code",
   "execution_count": null,
   "metadata": {},
   "outputs": [],
   "source": [
    "# Series.sample(n=None, frac=None, replace=False, weights=None, random_state=None, axis=None, ignore_index=False)\n",
    "s.sample(10, random_state = 18, replace = True) # -> Se especifica número mayor de elementos ya que es con reemplazo"
   ]
  },
  {
   "cell_type": "markdown",
   "metadata": {},
   "source": [
    "# Método pop\n",
    "\n",
    "* El método **pandas.Series.pop** extrae y elimina un elemento de una serie cuyo índice se indica como argumento\n",
    "* Devuelve error en caso de que no exista"
   ]
  },
  {
   "cell_type": "code",
   "execution_count": null,
   "metadata": {},
   "outputs": [],
   "source": [
    "# se define una lista de valores\n",
    "Lista = [10, 20, 30, 40]\n",
    "# se define la serie\n",
    "s = pd.Series(Lista)\n",
    "# se irmprime la serie\n",
    "s"
   ]
  },
  {
   "cell_type": "code",
   "execution_count": null,
   "metadata": {},
   "outputs": [],
   "source": [
    "# se elimina el elemento 1 de la serie\n",
    "print(Lista.pop(1))\n",
    "\n",
    "# se imprime la serie resultante\n",
    "Lista"
   ]
  },
  {
   "cell_type": "code",
   "execution_count": null,
   "metadata": {},
   "outputs": [],
   "source": [
    "# se define una lista de valores\n",
    "Lista = [10, 20, 30, 40]\n",
    "# se define la serie\n",
    "s = pd.Series(Lista)\n",
    "\n",
    "# usando el manejo de excepciones\n",
    "try:\n",
    "    # se irmprime la serie\n",
    "    print(f'Serie original \\n{s}')\n",
    "    # se muestra y elemina el elemento\n",
    "    print(f'\\nElemento eliminado:  {s.pop(2)}')\n",
    "    # se muestra la serie actualizada\n",
    "    print(f'\\nSerie actualizada \\n{s}')\n",
    "except:\n",
    "    # mensaje que captura la excepción en caso de que el indice no se encuentre en la serie\n",
    "    print(\"\\nError, no existe el indice\")"
   ]
  },
  {
   "cell_type": "markdown",
   "metadata": {},
   "source": [
    "Si la serie tiene un índice explícito, el argumento de pop hará referencia a este índice:"
   ]
  },
  {
   "cell_type": "code",
   "execution_count": null,
   "metadata": {},
   "outputs": [],
   "source": [
    "# se define una lista de valores\n",
    "Lista = [10, 20, 30, 40]\n",
    "# se definen los indices\n",
    "Indices = [\"a\", \"b\", \"c\", \"s\"]\n",
    "# se define la serie\n",
    "s = pd.Series(Lista, index = Indices)\n",
    "# se irmprime la serie\n",
    "print(f'Serie original \\n{s}')"
   ]
  },
  {
   "cell_type": "code",
   "execution_count": null,
   "metadata": {},
   "outputs": [],
   "source": [
    "# se elimina el elemento ubicado a traves de la etiqueta\n",
    "print(f'\\nElemento eliminado:  {s.pop(\"a\")}')"
   ]
  },
  {
   "cell_type": "code",
   "execution_count": null,
   "metadata": {},
   "outputs": [],
   "source": [
    "# se muestra la serie actualizada\n",
    "print(f'\\nSerie actualizada \\n{s}')"
   ]
  },
  {
   "cell_type": "markdown",
   "metadata": {},
   "source": [
    "y no al implícito, lo que devolvería un error:"
   ]
  },
  {
   "cell_type": "code",
   "execution_count": null,
   "metadata": {},
   "outputs": [],
   "source": [
    "print(f'Serie original \\n{s}')\n",
    "\n",
    "try:\n",
    "    # se muestra y elemina el elemento\n",
    "    print(f'\\nElemento eliminado:  {s.pop(2)}')\n",
    "    # se muestra la serie actualizada\n",
    "    print(f'\\nSerie actualizada \\n{s}')\n",
    "except:\n",
    "    # mensaje que captura la excepción en caso de que el indice no se encuentre en la serie\n",
    "    print(\"\\nError, no existe el indice\")"
   ]
  },
  {
   "cell_type": "markdown",
   "metadata": {},
   "source": [
    "# Selección de datos en DataFrames\n",
    "\n",
    "Desde un punto de vista semántico, un dataframe puede ser considerado semejante a un diccionario de series, en el que las claves son los nombres de las columnas y los valores, las columnas (que son series pandas)."
   ]
  },
  {
   "cell_type": "code",
   "execution_count": null,
   "metadata": {},
   "outputs": [],
   "source": [
    "import pandas as pd\n",
    "# diccionario para las series -> Claves = nombres/columnas; valores = series pandas\n",
    "\n",
    "diccionario = {\n",
    "    \"Entradas\":[41, 32, 56, 18],\n",
    "    \"Salidas\":[17, 54, 6, 78],\n",
    "    \"Valoración\": [66, 54, 49, 66],\n",
    "    \"Límite\": [\"No\", \"Si\", \"No\", \"No\"],\n",
    "    \"Cambio\": [1.43, 1.16, -0.67, 0.77]\n",
    "    }\n",
    "\n",
    "# indices del dataframe\n",
    "indices = [\"Ene\", \"Feb\", \"Mar\", \"Abr\"]\n",
    "\n",
    "# se crea el dataframes\n",
    "ventas = pd.DataFrame(diccionario,indices)\n",
    "\n",
    "# se imprime el dataframe\n",
    "ventas"
   ]
  },
  {
   "cell_type": "markdown",
   "metadata": {},
   "source": [
    "Podemos utilizar la sintaxis de los diccionarios para seleccionar la columna Entradas. Puede verse en el ejemplo siguiente cómo dicha columna es extraída con tipo de serie pandas:"
   ]
  },
  {
   "cell_type": "code",
   "execution_count": null,
   "metadata": {},
   "outputs": [],
   "source": [
    "# mostramos la clave \"entrada\" con sus valores de serie panda\n",
    "ventas[\"Entradas\"]"
   ]
  },
  {
   "cell_type": "markdown",
   "metadata": {},
   "source": [
    "Esto significa que podemos realizar una selección en dicho resultado para, por ejemplo, extraer el valor correspondiente a febrero:"
   ]
  },
  {
   "cell_type": "code",
   "execution_count": null,
   "metadata": {},
   "outputs": [],
   "source": [
    "# mostramos de la columna \"entradas\" el valor de la serie para febrero\n",
    "ventas[\"Entradas\"][\"Feb\"]"
   ]
  },
  {
   "cell_type": "markdown",
   "metadata": {},
   "source": [
    "Sin embargo, la más que razonable opción de eliminar los corchetes que separan ambos índices y sustituirlos por una coma no funciona:"
   ]
  },
  {
   "cell_type": "code",
   "execution_count": null,
   "metadata": {},
   "outputs": [],
   "source": [
    "ventas[\"Entradas\",\"Feb\"] #Error"
   ]
  },
  {
   "cell_type": "markdown",
   "metadata": {},
   "source": [
    "Si, una vez seleccionada una columna, le asignamos una lista o array (o serie) de valores de la misma longitud, estamos modificando dicha columna del dataframe:"
   ]
  },
  {
   "cell_type": "code",
   "execution_count": null,
   "metadata": {},
   "outputs": [],
   "source": [
    "# diccionario para las series -> Claves = nombres/columnas; valores = series pandas\n",
    "diccionario = {\n",
    "    \"Entradas\":[41, 32, 56, 18],\n",
    "    \"Salidas\":[17, 54, 6, 78],\n",
    "    \"Valoración\": [66, 54, 49, 66],\n",
    "    \"Límite\": [\"No\", \"Si\", \"No\", \"No\"],\n",
    "    \"Cambio\": [1.43, 1.16, -0.67, 0.77]\n",
    "    }\n",
    "\n",
    "# indices del dataframe\n",
    "indices = [\"Ene\", \"Feb\", \"Mar\", \"Abr\"]\n",
    "\n",
    "# se crea el dataframes\n",
    "ventas = pd.DataFrame(diccionario, indices)\n",
    "\n",
    "# se imprime la columna \"entradas\"\n",
    "print(f'Entradas :\\n{ventas.Entradas}')\n",
    "\n",
    "# modificamos los valores actuales de la columna \"entradas\"\n",
    "ventas[\"Entradas\"] = [0, 0, 0, 0]\n",
    "# se imprime el dataframe\n",
    "ventas"
   ]
  },
  {
   "cell_type": "markdown",
   "metadata": {},
   "source": [
    "Si asignamos un único valor escalar, este se propaga por toda la columna:"
   ]
  },
  {
   "cell_type": "code",
   "execution_count": null,
   "metadata": {},
   "outputs": [],
   "source": [
    "# diccionario para las series -> Claves = nombres/columnas; valores = series pandas\n",
    "diccionario = {\n",
    "    \"Entradas\":[41, 32, 56, 18],\n",
    "    \"Salidas\":[17, 54, 6, 78],\n",
    "    \"Valoración\": [66, 54, 49, 66],\n",
    "    \"Límite\": [\"No\", \"Si\", \"No\", \"No\"],\n",
    "    \"Cambio\": [1.43, 1.16, -0.67, 0.77]\n",
    "    }\n",
    "\n",
    "# indices del dataframe\n",
    "indices = [\"Ene\", \"Feb\", \"Mar\", \"Abr\"]\n",
    "\n",
    "# se crea el dataframes\n",
    "ventas = pd.DataFrame(diccionario, index = indices)\n",
    "\n",
    "# se imprime la columna \"salidas\"\n",
    "print(f'Salidas :\\n{ventas.Salidas}')\n",
    "\n",
    "# modificamos las \"salidas\"\n",
    "ventas[\"Salidas\"] = 1\n",
    "# se imprime el dataframe\n",
    "ventas"
   ]
  },
  {
   "cell_type": "markdown",
   "metadata": {},
   "source": [
    "## Importante\n",
    "\n",
    "* Si un array no coincide con la lonjitud de la columna, obtendríamos un error."
   ]
  },
  {
   "cell_type": "code",
   "execution_count": null,
   "metadata": {},
   "outputs": [],
   "source": [
    "# diccionario para las series -> Claves = nombres/columnas; valores = series pandas\n",
    "diccionario = {\n",
    "    \"Entradas\":[41, 32, 56, 18],\n",
    "    \"Salidas\":[17, 54, 6, 78],\n",
    "    \"Valoración\": [66, 54, 49, 66],\n",
    "    \"Límite\": [\"No\", \"Si\", \"No\", \"No\"],\n",
    "    \"Cambio\": [1.43, 1.16, -0.67, 0.77]\n",
    "    }\n",
    "\n",
    "# indices del dataframe\n",
    "indices = [\"Ene\", \"Feb\", \"Mar\", \"Abr\"]\n",
    "\n",
    "# se crea el dataframes\n",
    "ventas = pd.DataFrame(diccionario, index = indices)\n",
    "\n",
    "# se imprime el dataframe\n",
    "ventas"
   ]
  },
  {
   "cell_type": "markdown",
   "metadata": {},
   "source": [
    "En el siguiente ejemplo, estamos añadiendo una serie cuyos índices son \"Ene\", \"Mar\", \"Abr\" y \"May\". Es decir, la serie no tiene un valor para el índice \"Feb\" que sí se encuentra en el dataframe (se asigna un NaN), e incluye el índice \"May\" que no se encuentra en el dataframe y se descarta:"
   ]
  },
  {
   "cell_type": "code",
   "execution_count": null,
   "metadata": {},
   "outputs": [],
   "source": [
    "# se crea una nueva serie con un indice cuyo mes no existe en la serie anterior\n",
    "lista = [5, 4, 6, 8]\n",
    "indice = [\"Ene\", \"Mar\", \"Abr\", \"May\"]\n",
    "\n",
    "ventas[\"Pérdidas\"] = pd.Series(lista,indice)\n",
    "# se imprime el dataframe\n",
    "ventas"
   ]
  },
  {
   "cell_type": "markdown",
   "metadata": {},
   "source": [
    "Asimismo, los valores asignados pueden proceder del propio dataframe:"
   ]
  },
  {
   "cell_type": "code",
   "execution_count": null,
   "metadata": {},
   "outputs": [],
   "source": [
    "ventas[\"Ganancias\"] = (ventas[\"Entradas\"]*2) - (ventas[\"Valoración\"]/10)\n",
    "# se imprime el dataframe\n",
    "ventas"
   ]
  },
  {
   "cell_type": "markdown",
   "metadata": {},
   "source": [
    "También podemos acceder a una columna con la llamada \"notación punto\":"
   ]
  },
  {
   "cell_type": "code",
   "execution_count": null,
   "metadata": {},
   "outputs": [],
   "source": [
    "# se imprime la columna \"ganancias\"\n",
    "ventas.Ganancias"
   ]
  },
  {
   "cell_type": "markdown",
   "metadata": {},
   "source": [
    "Deberemos tener en cuenta que con esta notación no es posible crear nuevas columnas ni eliminarlas con la función del y que solo funcionará si el nombre de la columna no incluye espacios en blanco y no coincide con ninguna palabra reservada de Python."
   ]
  },
  {
   "cell_type": "markdown",
   "metadata": {},
   "source": [
    "### Uso de rangos\n",
    "\n",
    "El uso de un rango numérico entre los corchetes realiza una selección de filas, lo que puede parecer una cierta incoherencia:"
   ]
  },
  {
   "cell_type": "code",
   "execution_count": null,
   "metadata": {},
   "outputs": [],
   "source": [
    "#Crear un arreglo con indice, columnas y valores de 0 - 17 y cuerpo de 6x3\n",
    "import numpy as np\n",
    "import pandas as pd\n",
    "\n",
    "# se crea el contenido del dataframe\n",
    "contenido = np.arange(18).reshape([6, 3])\n",
    "\n",
    "# se crea el indice del dataframe\n",
    "indice = [\"a\", \"b\", \"c\", \"d\", \"e\", \"f\"]\n",
    "\n",
    "# se crean las columnas del dataframe\n",
    "columnas = [\"A\", \"B\", \"C\"]\n",
    "\n",
    "# se crea el dataframe\n",
    "df = pd.DataFrame(contenido, indice, columnas)\n",
    "\n",
    "# se imprime el dataframe\n",
    "df"
   ]
  },
  {
   "cell_type": "code",
   "execution_count": null,
   "metadata": {},
   "outputs": [],
   "source": [
    "# se imprime un subconjunto del dataframe\n",
    "df[2:5]"
   ]
  },
  {
   "cell_type": "markdown",
   "metadata": {},
   "source": [
    "El equipo de pandas lo justifica diciendo que esta sintaxis resulta extremadamente conveniente al tratarse de un tipo de selección frecuentemente usada. Esto es cierto, pero el hecho de que selecciones aparentemente semejantes (df[1,2], df[[1, 2]], df[1:3, 5], etc.) devuelvan un error no facilita su comprensión.\n",
    "\n",
    "En todo caso, vemos en el ejemplo anterior que se devuelven las filas entre el primer valor del rango (incluido) y el último (sin incluir). También podríamos haber usado las etiquetas del índice:"
   ]
  },
  {
   "cell_type": "code",
   "execution_count": null,
   "metadata": {},
   "outputs": [],
   "source": [
    "# se imprime un subconjunto formado por las filas con etiqueta del b-d\n",
    "df[\"b\":\"e\"]"
   ]
  },
  {
   "cell_type": "code",
   "execution_count": null,
   "metadata": {},
   "outputs": [],
   "source": [
    "# se imprime un subconjunto formado por las filas con indice del 0-2\n",
    "df[:2]"
   ]
  },
  {
   "cell_type": "code",
   "execution_count": null,
   "metadata": {},
   "outputs": [],
   "source": [
    "# se imprime un subconjunto formado por las filas con etiqueta desde \"a\"-\"c\"\n",
    "df[:\"c\"]"
   ]
  },
  {
   "cell_type": "code",
   "execution_count": null,
   "metadata": {},
   "outputs": [],
   "source": [
    "# se imprime un subconjunto formado por las columnas con etiqueta desde \"C-\"A\"\n",
    "df[[\"C\",\"A\"]]"
   ]
  },
  {
   "cell_type": "markdown",
   "metadata": {},
   "source": [
    "Ahora, usando el método **pandas.DataFrame.get** "
   ]
  },
  {
   "cell_type": "code",
   "execution_count": null,
   "metadata": {},
   "outputs": [],
   "source": [
    "df.get(\"A\")"
   ]
  },
  {
   "cell_type": "code",
   "execution_count": null,
   "metadata": {},
   "outputs": [],
   "source": [
    "df.get(\"E\") # -> no muestra nada, ya que la etiqueta \"E\" no existe en el dataframe"
   ]
  },
  {
   "cell_type": "markdown",
   "metadata": {},
   "source": [
    "# El método LOC\n",
    "\n",
    "Al igual que ocurre con las series, el método pandas.DataFrame.loc permite seleccionar un conjunto de filas y columnas por etiquetas. Este método acepta diferentes argumentos. Para probarlos, partamos del siguiente dataframe:"
   ]
  },
  {
   "cell_type": "code",
   "execution_count": null,
   "metadata": {},
   "outputs": [],
   "source": [
    "#Crear un arreglo con indice, columnas y valores de 0 - 17 y cuerpo de 6x3\n",
    "import numpy as np\n",
    "import pandas as pd\n",
    "\n",
    "# se crea el contenido del dataframe\n",
    "contenido = np.arange(18).reshape([6, 3])\n",
    "\n",
    "# se crea el indice del dataframe\n",
    "indice = [\"a\", \"b\", \"c\", \"d\", \"d\", \"f\"]\n",
    "\n",
    "# se crean las columnas del dataframe\n",
    "columnas = [\"A\", \"B\", \"C\"]\n",
    "\n",
    "# se crea el dataframe\n",
    "df = pd.DataFrame(contenido, index = indice, columns = columnas)\n",
    "\n",
    "# se imprime el dataframe\n",
    "df"
   ]
  },
  {
   "cell_type": "markdown",
   "metadata": {},
   "source": [
    "### Uso con etiqueta simple\n",
    "\n",
    "El primer escenario lo encontramos cuando usamos este método indicando una única etiqueta. En este caso estamos seleccionando la fila cuya etiqueta se indique:"
   ]
  },
  {
   "cell_type": "code",
   "execution_count": null,
   "metadata": {},
   "outputs": [],
   "source": [
    "df.loc[\"c\"]"
   ]
  },
  {
   "cell_type": "markdown",
   "metadata": {},
   "source": [
    "El resultado es una serie pandas con las etiquetas de columnas del dataframe original como índice.\n",
    "\n",
    "Es necesario mencionar que el argumento será siempre interpretado como etiqueta, aun cuando pueda estar representando un índice válido: "
   ]
  },
  {
   "cell_type": "code",
   "execution_count": null,
   "metadata": {},
   "outputs": [],
   "source": [
    "#Crear un arreglo con indice, columnas y valores de 0 - 17 y cuerpo de 6x3\n",
    "import numpy as np\n",
    "import pandas as pd\n",
    "\n",
    "# se crea el contenido del dataframe\n",
    "contenido = np.arange(12).reshape([4, 3])\n",
    "\n",
    "# se crea el indice del dataframe\n",
    "indice = [1, 3, 0, 4]\n",
    "\n",
    "# se crean las columnas del dataframe\n",
    "columnas = [\"A\", \"B\", \"C\"]\n",
    "\n",
    "# se crea el dataframe\n",
    "df = pd.DataFrame(contenido, indice,columnas)\n",
    "\n",
    "# se imprime el dataframe\n",
    "df"
   ]
  },
  {
   "cell_type": "code",
   "execution_count": null,
   "metadata": {},
   "outputs": [],
   "source": [
    "df.loc[0]"
   ]
  },
  {
   "cell_type": "markdown",
   "metadata": {},
   "source": [
    "Por supuesto, si dicha etiqueta no existe, se devuelve un error\n",
    "\n",
    "Ahora, si pasamos a loc una lista de etiquetas, estaremos extrayendo las filas cuyas etiquetas no se indican, y en el orden en el que aparezcan en la lista"
   ]
  },
  {
   "cell_type": "code",
   "execution_count": null,
   "metadata": {},
   "outputs": [],
   "source": [
    "#Crear un arreglo con indice, columnas y valores de 0 - 17 y cuerpo de 6x3\n",
    "import numpy as np\n",
    "import pandas as pd\n",
    "\n",
    "# se crea el contenido del dataframe\n",
    "contenido = np.arange(18).reshape([6, 3])\n",
    "\n",
    "# se crea el indice del dataframe\n",
    "indice = [\"a\", \"b\", \"c\", \"d\", \"e\", \"f\"]\n",
    "\n",
    "# se crean las columnas del dataframe\n",
    "columnas = [\"A\", \"B\", \"C\"]\n",
    "\n",
    "# se crea el dataframe\n",
    "df = pd.DataFrame(contenido, indice,columnas)\n",
    "\n",
    "# se imprime el dataframe\n",
    "df"
   ]
  },
  {
   "cell_type": "code",
   "execution_count": null,
   "metadata": {},
   "outputs": [],
   "source": [
    "# se imprime un subconjunto de indices cuyas etiquetas fueron seleccionadas de forma arbitraria\n",
    "df.loc[[\"c\",\"a\",\"e\"]]\n"
   ]
  },
  {
   "cell_type": "code",
   "execution_count": null,
   "metadata": {},
   "outputs": [],
   "source": [
    "# se imprime un subconjunto de un solo indice cuya etiqueta fue seleccionada de forma arbitraria\n",
    "df.loc[[\"c\"]]"
   ]
  },
  {
   "cell_type": "markdown",
   "metadata": {},
   "source": [
    "Otra opción es utilizar rangos limitados por etiquetas. De esta forma, si continuamos con el mismo ejemplo:"
   ]
  },
  {
   "cell_type": "code",
   "execution_count": null,
   "metadata": {},
   "outputs": [],
   "source": [
    "# se imprime un subconjunto a partir de un rango de etiquetas \n",
    "df.loc[\"b\":\"d\"]"
   ]
  },
  {
   "cell_type": "markdown",
   "metadata": {},
   "source": [
    "# Extracción de filas y columnas"
   ]
  },
  {
   "cell_type": "code",
   "execution_count": null,
   "metadata": {},
   "outputs": [],
   "source": [
    "#Crear un arreglo con indice, columnas y valores de 0 - 17 y cuerpo de 6x3\n",
    "import numpy as np\n",
    "import pandas as pd\n",
    "\n",
    "# se crea el contenido del dataframe\n",
    "contenido = np.arange(18).reshape([6, 3])\n",
    "\n",
    "# se crea el indice del dataframe\n",
    "indice = [\"a\", \"b\", \"c\", \"d\", \"e\", \"f\"]\n",
    "\n",
    "# se crean las columnas del dataframe\n",
    "columnas = [\"A\", \"B\", \"C\"]\n",
    "\n",
    "# se crea el dataframe\n",
    "df = pd.DataFrame(contenido,indice,columnas)\n",
    "\n",
    "# se imprime el dataframe\n",
    "df"
   ]
  },
  {
   "cell_type": "code",
   "execution_count": null,
   "metadata": {},
   "outputs": [],
   "source": [
    "# se imprime un subconjunto a partir de un indice \"a\" y una columna (serie) \"C\"\n",
    "df.loc[\"a\", \"C\"]"
   ]
  },
  {
   "cell_type": "markdown",
   "metadata": {},
   "source": [
    "Podemos sustituir una de las dos etiquetas por el símbolo de dos puntos (:), lo que supondrá seleccionar todos los elementos de ese eje:"
   ]
  },
  {
   "cell_type": "code",
   "execution_count": null,
   "metadata": {},
   "outputs": [],
   "source": [
    "# se imprime un subconjunto de todos los indices del dataframe para la columna (seria) \"A\"\n",
    "df.loc[: ,\"A\"] # -> F:F, C,C"
   ]
  },
  {
   "cell_type": "markdown",
   "metadata": {},
   "source": [
    "Esto supone que, por ejemplo, las dos expresiones siguientes devuelven el mismo resultado:"
   ]
  },
  {
   "cell_type": "code",
   "execution_count": null,
   "metadata": {},
   "outputs": [],
   "source": [
    "# se imprime el indice \"b\" en todas las columnas (series)\n",
    "df.loc[\"b\"]"
   ]
  },
  {
   "cell_type": "code",
   "execution_count": null,
   "metadata": {},
   "outputs": [],
   "source": [
    "# desde otra sintaxis, se imprime el indice \"b\" en todas las columnas (series)\n",
    "df.loc[\"b\", :]"
   ]
  },
  {
   "cell_type": "markdown",
   "metadata": {},
   "source": [
    "Los métodos vistos pueden combinarse. Podemos, por ejemplo, seleccionar la intersección de las filas e y c (en este orden) y la columna B:"
   ]
  },
  {
   "cell_type": "code",
   "execution_count": null,
   "metadata": {},
   "outputs": [],
   "source": [
    "# se imprime un subconjunto con los indices \"e\" y \"c\" que se interceptan con la columna (serie) \"B\"\n",
    "print(df)\n",
    "\n",
    "df.loc[[\"e\", \"c\"], \"B\"]"
   ]
  },
  {
   "cell_type": "markdown",
   "metadata": {},
   "source": [
    "# El método iloc\n",
    "\n",
    "El método **pandas.DataFrame.iloc** permite realizar selecciones por posición. Tal y como cabría esperar, pueden utilizarse diferentes tipos de argumentos que determinan qué elementos se están extrayendo.\n",
    "\n",
    "En este primer caso cuando hacemos uso un número entero estamos seleccionando la fila cuyo índice se indica"
   ]
  },
  {
   "cell_type": "code",
   "execution_count": null,
   "metadata": {},
   "outputs": [],
   "source": [
    "#Crear un arreglo con indice, columnas y valores de 0 - 17 y cuerpo de 6x3\n",
    "import numpy as np\n",
    "import pandas as pd\n",
    "\n",
    "# se crea el contenido del dataframe\n",
    "contenido = np.random.randint(0, 10, 18).reshape([6, 3])\n",
    "\n",
    "# se crea el indice del dataframe\n",
    "indice = [\"a\", \"b\", \"c\", \"d\", \"e\", \"f\"]\n",
    "\n",
    "# se crean las columnas del dataframe\n",
    "columnas = [\"A\", \"B\", \"C\"]\n",
    "\n",
    "# se crea el dataframe\n",
    "df = pd.DataFrame(contenido,indice,columnas)\n",
    "             \n",
    "# se imprime el dataframe\n",
    "df"
   ]
  },
  {
   "cell_type": "code",
   "execution_count": null,
   "metadata": {},
   "outputs": [],
   "source": [
    "# se imprime un subconjunto a partir de los elementos del indice 2 en todas las columnas (series)\n",
    "df.iloc[2]"
   ]
  },
  {
   "cell_type": "markdown",
   "metadata": {},
   "source": [
    "El número indicado siempre será tratado como posición, y no como etiqueta:"
   ]
  },
  {
   "cell_type": "code",
   "execution_count": null,
   "metadata": {},
   "outputs": [],
   "source": [
    "#Crear un arreglo con indice, columnas y valores de 0 - 17 y cuerpo de 6x3\n",
    "import numpy as np\n",
    "import pandas as pd\n",
    "\n",
    "# se crea el contenido del dataframe\n",
    "contenido = np.arange(12).reshape([4, 3])\n",
    "\n",
    "# se crea el indice del dataframe\n",
    "indice = [3, 2, 1, 0]\n",
    "\n",
    "# se crean las columnas del dataframe\n",
    "columnas = [\"A\", \"B\", \"C\"]\n",
    "\n",
    "# se crea el dataframe\n",
    "df = pd.DataFrame(contenido,indice,columnas)\n",
    "             \n",
    "# se imprime el dataframe\n",
    "df"
   ]
  },
  {
   "cell_type": "code",
   "execution_count": null,
   "metadata": {},
   "outputs": [],
   "source": [
    "# se imprime un subconjunto a partir de los elementos del indice 3 en todas las columnas (series), omitiendo las etiquetas\n",
    "df.iloc[3]"
   ]
  },
  {
   "cell_type": "markdown",
   "metadata": {},
   "source": [
    "Si el número es negativo, hace referencia al final del dataframe. Así, siguiendo con este último ejemplo:"
   ]
  },
  {
   "cell_type": "code",
   "execution_count": null,
   "metadata": {},
   "outputs": [],
   "source": [
    "# se imprime un subconjunto a partir de los elementos del indice -1 (último) en todas las columnas (series), omitiendo las etiquetas\n",
    "df.iloc[-1]"
   ]
  },
  {
   "cell_type": "markdown",
   "metadata": {},
   "source": [
    "Si utilizamos como argumento una lista o array de números, estamos extrayendo las filas cuyos índices son los elementos del mismo, y en el orden en el que aparecen en él:"
   ]
  },
  {
   "cell_type": "code",
   "execution_count": null,
   "metadata": {},
   "outputs": [],
   "source": [
    "# se imprime un subconjunto a partir de los elementos de los indice 3 y 1 en todas las columnas (series), omitiendo las etiquetas\n",
    "print(df)\n",
    "\n",
    "df.iloc[[3, 1]]"
   ]
  },
  {
   "cell_type": "markdown",
   "metadata": {},
   "source": [
    "En el ejemplo anterior, estamos extrayendo las filas cuyos índices son 3 y 1, y extrayéndolas en este mismo orden.\n",
    "\n",
    "Si alguno de los índices es negativo, hará referencia al final de la lista."
   ]
  },
  {
   "cell_type": "markdown",
   "metadata": {},
   "source": [
    "Si utilizamos un rango de números, como en el siguiente ejemplo en el que indicamos como argumento 2:4, estamos extrayendo las filas cuyos índices van de la primera cifra del rango incluida (2 en el ejemplo) hasta la última cifra sin incluir (4 en el ejemplo):"
   ]
  },
  {
   "cell_type": "code",
   "execution_count": null,
   "metadata": {},
   "outputs": [],
   "source": [
    "# se imprime el dataframe\n",
    "df"
   ]
  },
  {
   "cell_type": "code",
   "execution_count": null,
   "metadata": {},
   "outputs": [],
   "source": [
    "# se imprime un subconjunto a partir de los elementos del indice 2 hasta el 4 en todas las columnas (series), omitiendo las etiquetas\n",
    "df.iloc[2:]"
   ]
  },
  {
   "cell_type": "markdown",
   "metadata": {},
   "source": [
    "Como suele ser habitual, si no se especifica el primer valor, se consideran las filas desde la primera. Y si no se especifica el último valor, se consideran las filas hasta la última (incluida):"
   ]
  },
  {
   "cell_type": "code",
   "execution_count": null,
   "metadata": {},
   "outputs": [],
   "source": [
    "# se imprime un subconjunto hasta el indice 3 en todas las columnas (series), omitiendo las etiquetas\n",
    "df.iloc[:3]"
   ]
  },
  {
   "cell_type": "code",
   "execution_count": null,
   "metadata": {},
   "outputs": [],
   "source": [
    "# se imprime un subconjunto desde el indice 3 en todas las columnas (series), omitiendo las etiquetas\n",
    "df.iloc[3:]"
   ]
  },
  {
   "cell_type": "markdown",
   "metadata": {},
   "source": [
    "También pueden usarse valores negativos para especificar el comienzo o el final del rango."
   ]
  },
  {
   "cell_type": "markdown",
   "metadata": {},
   "source": [
    "# Extracción de filas y columnas\n",
    "\n",
    "Si añadimos un segundo argumento, estaremos haciendo referencia al índice de columna:"
   ]
  },
  {
   "cell_type": "code",
   "execution_count": null,
   "metadata": {},
   "outputs": [],
   "source": [
    "#Crear un arreglo con indice, columnas y valores de 0 - 17 y cuerpo de 6x3\n",
    "import numpy as np\n",
    "import pandas as pd\n",
    "\n",
    "# se crea el contenido del dataframe\n",
    "contenido = np.random.randint(0, 10, 18).reshape([6, 3])\n",
    "\n",
    "# se crea el indice del dataframe\n",
    "indice = [\"a\", \"b\", \"c\", \"d\", \"e\", \"f\"]\n",
    "\n",
    "# se crean las columnas del dataframe\n",
    "columnas = [\"A\", \"B\", \"C\"]\n",
    "\n",
    "# se crea el dataframe\n",
    "df = pd.DataFrame(contenido,indice, columnas)\n",
    "             \n",
    "# se imprime el dataframe\n",
    "df"
   ]
  },
  {
   "cell_type": "code",
   "execution_count": null,
   "metadata": {},
   "outputs": [],
   "source": [
    "# se imprime el valor correspondiente a la fila cuyo índice es 3 y a la columna (serie) cuyo índice es 1.\n",
    "df.iloc[3, 1] #[F,C]"
   ]
  },
  {
   "cell_type": "markdown",
   "metadata": {},
   "source": [
    "#  Selección con índices y etiquetas simultáneamente\n",
    "\n",
    "En ocasiones nos encontraremos con que resultaría de utilidad poder realizar selecciones mezclando etiquetas e índices, y los métodos vistos, loc e iloc, solo permiten el uso de etiquetas o de índices, respectivamente. Para poder mezclar ambos tipos de referencias podemos recurrir a los métodos pandas.Index.get_loc y pandas.Index.get_indexer, métodos asociados a los índices de un dataframe:\n",
    "\n",
    "El primero, get_loc, devuelve el índice de la etiqueta que se adjunte como parámetro. El segundo, get_indexer, devuelve un array con los índices de las etiquetas que se adjunten en forma de lista como parámetro. Por ejemplo, partimos del siguiente dataframe:"
   ]
  },
  {
   "cell_type": "code",
   "execution_count": null,
   "metadata": {},
   "outputs": [],
   "source": [
    "#Crear un arreglo con indice, columnas y valores de 0 - 17 y cuerpo de 6x3\n",
    "import numpy as np\n",
    "import pandas as pd\n",
    "\n",
    "# se crea el contenido del dataframe\n",
    "contenido = np.arange(18).reshape([6, 3])\n",
    "\n",
    "# se crea el indice del dataframe\n",
    "indice = [\"a\", \"b\", \"c\", \"d\", \"e\", \"f\"]\n",
    "\n",
    "# se crean las columnas del dataframe\n",
    "columnas = [\"A\", \"B\", \"C\"]\n",
    "\n",
    "# se crea el dataframe\n",
    "df = pd.DataFrame(contenido, index = indice, columns = columnas)\n",
    "             \n",
    "# se imprime el dataframe\n",
    "df"
   ]
  },
  {
   "cell_type": "markdown",
   "metadata": {},
   "source": [
    "### Método **pandas.columns.get_loc**"
   ]
  },
  {
   "cell_type": "code",
   "execution_count": null,
   "metadata": {},
   "outputs": [],
   "source": [
    "# se imprime el dataframe\n",
    "print(df)\n",
    "\n",
    "# se imprime el indice de la columna (serie) \"B\" solicitado\n",
    "df.columns.get_loc(\"B\")"
   ]
  },
  {
   "cell_type": "markdown",
   "metadata": {},
   "source": [
    "### Método **pandas.columns.get_indexer**"
   ]
  },
  {
   "cell_type": "code",
   "execution_count": null,
   "metadata": {},
   "outputs": [],
   "source": [
    "# se imprime el dataframe\n",
    "print(df)\n",
    "\n",
    "# se imprime un arreglo con los indices de las columnas (serie) \"A\" y \"C\" solicitados\n",
    "df.columns.get_indexer([\"A\", \"C\"])"
   ]
  },
  {
   "cell_type": "markdown",
   "metadata": {},
   "source": [
    "### Método **pandas.index.get_loc**"
   ]
  },
  {
   "cell_type": "code",
   "execution_count": null,
   "metadata": {},
   "outputs": [],
   "source": [
    "# se imprime el dataframe\n",
    "print(df)\n",
    "\n",
    "# se imprime el indice de la fila \"c\" solicitado\n",
    "df.index.get_loc(\"c\")"
   ]
  },
  {
   "cell_type": "markdown",
   "metadata": {},
   "source": [
    "### Método **pandas.index.get_indexer**"
   ]
  },
  {
   "cell_type": "code",
   "execution_count": null,
   "metadata": {},
   "outputs": [],
   "source": [
    "# se imprime el dataframe\n",
    "print(df)\n",
    "\n",
    "# se imprime un arreglo con los indices de las flias \"c\" y \"e\" solicitados\n",
    "df.index.get_indexer([\"c\", \"e\"])"
   ]
  },
  {
   "cell_type": "markdown",
   "metadata": {},
   "source": [
    "Otros ejemplos son:"
   ]
  },
  {
   "cell_type": "code",
   "execution_count": null,
   "metadata": {},
   "outputs": [],
   "source": [
    "# se imprime el dataframe\n",
    "print(df)\n",
    "\n",
    "# se imprime el elemento de la fila \"c\"  y columna (serie) 2 solicitado. Este valor es equivalente a escribir df.iloc[2,2]\n",
    "df.iloc[df.index.get_loc(\"c\"), 2]"
   ]
  },
  {
   "cell_type": "code",
   "execution_count": null,
   "metadata": {},
   "outputs": [],
   "source": [
    "# se imprime el dataframe de las filas 5 y 3 (en este orden) los valores correspondientes a las columnas C y A (en este orden)\n",
    "print(df)\n",
    "\n",
    "# se imprime \n",
    "df.iloc[[5, 3], df.columns.get_indexer([\"C\", \"A\"])] #[f,f][c,c]"
   ]
  },
  {
   "cell_type": "markdown",
   "metadata": {},
   "source": [
    "# Uso de listas de booleanos\n",
    "\n",
    "Si partimos del mismo dataframe usado en la sección anterior, podemos crear una lista de booleanos (que, por motivos puramente pedagógicos, asignamos a una variable, mask) y realizar la selección con ella entre los corchetes. Vemos a continuación que este método también selecciona filas del dataframe:"
   ]
  },
  {
   "cell_type": "code",
   "execution_count": null,
   "metadata": {},
   "outputs": [],
   "source": [
    "#Crear un arreglo con indice, columnas y valores de 0 - 17 y cuerpo de 6x3\n",
    "import numpy as np\n",
    "import pandas as pd\n",
    "\n",
    "# se crea el contenido del dataframe\n",
    "contenido = np.arange(18).reshape([6, 3])\n",
    "\n",
    "# se crea el indice del dataframe\n",
    "indice = [\"a\", \"b\", \"c\", \"d\", \"e\", \"f\"]\n",
    "\n",
    "# se crean las columnas del dataframe\n",
    "columnas = [\"A\", \"B\", \"C\"]\n",
    "\n",
    "# se crea el dataframe\n",
    "df = pd.DataFrame(contenido, indice,columnas)\n",
    "             \n",
    "# se imprime el dataframe\n",
    "df"
   ]
  },
  {
   "cell_type": "code",
   "execution_count": null,
   "metadata": {},
   "outputs": [],
   "source": [
    "# se imprime las filas que cumplan con la condición \"True\"\n",
    "mask = [True, False, True, False, False, True]\n",
    "df[mask]"
   ]
  },
  {
   "cell_type": "markdown",
   "metadata": {},
   "source": [
    "El vector de booleanos deberá tener la misma longitud que el índice de filas (es decir, un booleano por fila) y la selección devolverá aquellas filas para las que el elemento correspondiente del vector tome el valor True.\n",
    "\n",
    "La verdadera potencia de este estilo de selección se pone de manifiesto cuando la máscara se genera a partir de los datos del propio dataframe. Por ejemplo, si queremos seleccionar las filas para las que el valor de la columna A sea mayor que 7:"
   ]
  },
  {
   "cell_type": "code",
   "execution_count": null,
   "metadata": {},
   "outputs": [],
   "source": [
    "# se imprime el dataframe\n",
    "print(df)\n",
    "\n",
    "# se imprimen las filas cuyo valor en la columna (serie) \"A\"  cumplan con la proposición solicitada\n",
    "df[df.A > 7]"
   ]
  },
  {
   "cell_type": "markdown",
   "metadata": {},
   "source": [
    "Esta técnica también es compatible con los métodos loc e iloc, con algún matiz adicional:\n",
    "\n",
    "Con loc podemos usar directamente una expresión de comparación"
   ]
  },
  {
   "cell_type": "code",
   "execution_count": null,
   "metadata": {},
   "outputs": [],
   "source": [
    "# se imprime el dataframe\n",
    "print(df)\n",
    "\n",
    "# se imprimen las filas cuyo valor en la columna (serie) \"B\"  cumplan con la proposición solicitada\n",
    "df.loc[df.B > 6]"
   ]
  },
  {
   "cell_type": "markdown",
   "metadata": {},
   "source": [
    "Sin embargo, con iloc nos veremos obligados a extraer los valores del dataframe resultante de la comparación -tal y como ocurría con las series- pues, de otro modo, obtendremos un error:"
   ]
  },
  {
   "cell_type": "code",
   "execution_count": null,
   "metadata": {},
   "outputs": [],
   "source": [
    "# se imprime el dataframe\n",
    "print(df)\n",
    "\n",
    "# se imprimen las filas cuyo valor en la columna (serie) \"B\"  cumplan con la proposición solicitada\n",
    "df.iloc[(df.B > 6 ).values]"
   ]
  },
  {
   "cell_type": "markdown",
   "metadata": {},
   "source": [
    "Evitamos problemas si, tal y como sugiere pandas, utilizamos siempre el método loc."
   ]
  },
  {
   "cell_type": "markdown",
   "metadata": {},
   "source": [
    "# Selección aleatoria\n",
    "\n",
    "El método **pandas.DataFrame.sample**, permite especificar el número de elementos a extraer, a traves de los parametros:\n",
    "\n",
    "* Porcentaje respecto del total, con el parámetros **n** y **frac**\n",
    "* Si la extracción se realiza con reemplazo o no (parámetro **replace**)\n",
    "* Pesos a aplicar a los elementos para realizar una extracción aleatoria ponderada (parámetro **weights**)\n",
    "* Semilla para el generador de números aleatorios que asegure la reproducibilidad de la extracción (parámetro **random_state**)\n",
    "* También es posible indicar el eje a lo largo del cual se desea realizar la extracción (por defecto se extraen filas, correspondiente al eje 0)."
   ]
  },
  {
   "cell_type": "code",
   "execution_count": null,
   "metadata": {},
   "outputs": [],
   "source": [
    "#Crear un arreglo con indice, columnas y valores de 0 - 17 y cuerpo de 6x3\n",
    "import numpy as np\n",
    "import pandas as pd\n",
    "\n",
    "# se crea el contenido del dataframe\n",
    "contenido = np.arange(18).reshape([6, 3])\n",
    "\n",
    "# se crea el indice del dataframe\n",
    "indice = [\"a\", \"b\", \"c\", \"d\", \"e\", \"f\"]\n",
    "\n",
    "# se crean las columnas del dataframe\n",
    "columnas = [\"A\", \"B\", \"C\"]\n",
    "\n",
    "# se crea el dataframe\n",
    "df = pd.DataFrame(contenido,indice,columnas)"
   ]
  },
  {
   "cell_type": "code",
   "execution_count": null,
   "metadata": {},
   "outputs": [],
   "source": [
    "# se imprime el dataframe\n",
    "print(df)\n",
    "\n",
    "# se imprime la extracción de 2 filas de forma aleatoria, sin reemplazo (opción por defecto) y fijando como semilla del generador de números aleatorios el número 18.\n",
    "df.sample(4, random_state = 18) # -> por defecto el axis es cero (filas)"
   ]
  },
  {
   "cell_type": "markdown",
   "metadata": {},
   "source": [
    "Si especificamos como eje el valor 1, estaremos extrayendo columnas:"
   ]
  },
  {
   "cell_type": "code",
   "execution_count": null,
   "metadata": {},
   "outputs": [],
   "source": [
    "# se imprime el dataframe\n",
    "print(df)\n",
    "\n",
    "# se imprime dos columnas (2) (series) (axis = 1)  con una semilla = 18\n",
    "df.sample(2, random_state = 18, axis = 1)"
   ]
  },
  {
   "cell_type": "markdown",
   "metadata": {},
   "source": [
    "Si hacemos uso del parámetro frac, podemos especificar el porcentaje de elementos a extraer:"
   ]
  },
  {
   "cell_type": "code",
   "execution_count": null,
   "metadata": {},
   "outputs": [],
   "source": [
    "# se imprime el dataframe\n",
    "print(df)\n",
    "\n",
    "# se imprime el 60% de las filas del dataframe\n",
    "df.sample(frac = 0.60, random_state = 18)"
   ]
  },
  {
   "cell_type": "markdown",
   "metadata": {},
   "source": [
    "# El método pop\n",
    "\n",
    "Otra forma de extraer datos es la proporcionada por el método pandas.DataFrame.pop, que extrae y elimina una columna de un dataframe:"
   ]
  },
  {
   "cell_type": "code",
   "execution_count": null,
   "metadata": {},
   "outputs": [],
   "source": [
    "#Crear un arreglo con indice, columnas y valores de 0 - 15 y cuerpo de 3x5\n",
    "import numpy as np\n",
    "import pandas as pd\n",
    "\n",
    "# se crea el contenido del dataframe\n",
    "contenido = np.arange(15).reshape([3, 5])\n",
    "\n",
    "# se crea el indice del dataframe\n",
    "indice = [\"a\", \"b\", \"c\"]\n",
    "\n",
    "# se crean las columnas del dataframe\n",
    "columnas = [\"A\", \"B\", \"C\", \"D\", \"E\"]\n",
    "\n",
    "# se crea el dataframe\n",
    "df = pd.DataFrame(contenido, indice, columnas)"
   ]
  },
  {
   "cell_type": "code",
   "execution_count": null,
   "metadata": {},
   "outputs": [],
   "source": [
    "# se imprime el dataframe\n",
    "print(f'Dataframe original \\n\\n{df}')\n",
    "\n",
    "# se selecciona la columna \"B\" para borrarse\n",
    "columna = df.pop(\"B\")\n",
    "\n",
    "# se imprime pop\n",
    "print(f'\\nDatagrama eliminado con el método pop \\n\\n{columna}')\n",
    "\n",
    "# se imprime el dataframe resultante\n",
    "print(print(f'\\nDatagrama actualizado \\n\\n{df}'))"
   ]
  },
  {
   "cell_type": "markdown",
   "metadata": {},
   "source": [
    "# Resumen de tipos de selección \n",
    "\n",
    "La cantidad de posibilidades que nos ofrece la librería pandas a la hora de extraer información de un dataframe puede resultar un tanto abrumadora. Veamos un resumen de las principales técnicas vistas y qué estamos extrayendo con cada una. En la siguiente lista e representa una etiqueta, i un índice y b un booleano:\n",
    "\n",
    "<img src=\"https://i.imgur.com/B0BpStV.png\">\n",
    "\n",
    "No se incluyen en el listado anterior combinaciones de estos métodos ni los métodos para la selección usando índices y etiquetas simultáneamente.\n",
    "\n",
    "Aunque, a primera vista, pueda parecer bastante confuso, es posible destacar algunas reglas básicas:\n",
    "\n",
    "1. Cuando se usan los métodos loc o iloc, el primer argumento siempre hace referencia a filas y el segundo a columnas. Esto significa que si no se incluye el segundo argumento, siempre estaremos extrayendo filas.\n",
    "2. El método get devuelve columnas.\n",
    "3. Sin incluir los métodos loc, iloc y get, solo hay -en el listado anterior- dos formas de extraer columnas: usando como argumento una etiqueta y usando como argumento una lista de etiquetas.\n",
    "4. Del punto anterior extraemos como corolario que cualquier otra notación va a devolver filas (el uso de rangos y el uso de listas de booleanos)\n",
    "\n",
    "Y, de hecho, si de los cuatro puntos anteriores quitamos los dos primeros por obvios, nos quedan dos reglas muy simples:\n",
    "\n",
    "1. El uso de una etiqueta o de una lista de etiquetas devuelve columnas\n",
    "2. En otros casos se devuelven filas (rangos de números o de etiquetas, o listas de booleanos)\n",
    "\n",
    "Y, al respecto del tipo de estructura devuelta (si es un escalar, una serie o un dataframe) también es posible identificar una regla: salvo el caso más obvio en el que estemos extrayendo un valor resultante de la intersección de una fila y una columna, si la nomenclatura que estamos usado permite extraer más de una fila o de una columna (aunque estemos extrayendo solo una en un momento dado) devolverá siempre dataframes y, en caso contrario, series.\n",
    "\n",
    "Por ejemplo, el uso de rangos permite extraer más de una fila (o de una columna), de forma que su uso siempre devuelve un dataframe. Así, df[\"e1\":\"e2\"] siempre devolverá un dataframe, aunque en este ejemplo estemos usando el rango para extraer una única columna.\n",
    "\n",
    "Otro ejemplo: si estamos usando la notación df.loc[:, \"e\"], estamos extrayendo una columna y solo una columna, y con esta notación (dos puntos para las filas y una etiqueta para columnas) nunca podríamos extraer más de una columna, de forma que el resultado de la extracción siempre será una serie."
   ]
  },
  {
   "cell_type": "markdown",
   "metadata": {},
   "source": [
    "# Edición de series \n",
    "\n",
    "Podemos modificar un valor de una serie usando la notación corchetes, y haciendo referencia a índices o a etiquetas:"
   ]
  },
  {
   "cell_type": "code",
   "execution_count": null,
   "metadata": {},
   "outputs": [],
   "source": [
    "import numpy as np\n",
    "import pandas as pd\n",
    "\n",
    "# se crea el contenido del dataframe\n",
    "Lista = [1, 2, 3, 4, 5]\n",
    "\n",
    "# se crea el indice del dataframe\n",
    "indice = [\"a\", \"b\", \"c\", \"d\", \"e\"]\n",
    "\n",
    "# se crea el dataframe\n",
    "s = pd.Series(Lista, indice)\n",
    "\n",
    "# se imprime la serie\n",
    "s"
   ]
  },
  {
   "cell_type": "code",
   "execution_count": null,
   "metadata": {},
   "outputs": [],
   "source": [
    "# se cambia en valor del indice 0 por  -1\n",
    "s[0] = -1\n",
    "\n",
    "# se imprime la serie\n",
    "s"
   ]
  },
  {
   "cell_type": "code",
   "execution_count": null,
   "metadata": {},
   "outputs": [],
   "source": [
    "# se cambia en valor de la etiqueta \"b\" por  -2\n",
    "s[\"b\"] = -2\n",
    "\n",
    "# se imprime la serie\n",
    "s"
   ]
  },
  {
   "cell_type": "markdown",
   "metadata": {},
   "source": [
    "Podemos asignar un valor a un rango, definido éste por índices o por etiquetas, asignándose dicho valor a cada uno de los elementos involucrados en el rango:"
   ]
  },
  {
   "cell_type": "code",
   "execution_count": null,
   "metadata": {},
   "outputs": [],
   "source": [
    "# se cambia el valor del rango 1 a 3 por  0\n",
    "s[1:3] = 0\n",
    "\n",
    "# se imprime la serie\n",
    "s"
   ]
  },
  {
   "cell_type": "code",
   "execution_count": null,
   "metadata": {},
   "outputs": [],
   "source": [
    "# se cambia el valor del rango de \"b\" a \"d\" por -2\n",
    "s[\"b\":\"d\"] = -2 \n",
    "\n",
    "# se imprime la serie\n",
    "s"
   ]
  },
  {
   "cell_type": "markdown",
   "metadata": {},
   "source": [
    "Como ya hemos visto en más de una ocasión, si el rango está delimitado por números (haciendo referencia a la posición de los elementos), el último elemento del rango no se incluye. Por el contrario, si está delimitado por etiquetas, el último elemento sí se incluye.\n",
    "\n",
    "Al rango podemos asignar también una lista de valores, aunque en este caso la lista deberá tener el mismo número de elementos que el rango en cuestión:"
   ]
  },
  {
   "cell_type": "code",
   "execution_count": null,
   "metadata": {},
   "outputs": [],
   "source": [
    "s\n",
    "\n",
    "# se cambia el valor del rango de 1 a 3 por el rango de 0-1 respectivamente\n",
    "s[1:3] = [0, 1] \n",
    "\n",
    "# se imprime la serie\n",
    "s"
   ]
  },
  {
   "cell_type": "code",
   "execution_count": null,
   "metadata": {},
   "outputs": [],
   "source": [
    "s\n",
    "\n",
    "# se cambia el valor del rango de 1 a 3 por el rango de 0-1 respectivamente\n",
    "s[\"b\":\"d\"] = [500, 400, 600] \n",
    "\n",
    "# se imprime la serie\n",
    "s"
   ]
  },
  {
   "cell_type": "code",
   "execution_count": null,
   "metadata": {},
   "outputs": [],
   "source": [
    "import numpy as np\n",
    "import pandas as pd\n",
    "\n",
    "# se crea el contenido del dataframe\n",
    "Lista = [1, 2, 3, 4, 5]\n",
    "\n",
    "# se crea el indice del dataframe\n",
    "indice = [\"a\", \"b\", \"c\", \"d\", \"e\"]\n",
    "\n",
    "# se crea el dataframe\n",
    "s = pd.Series(Lista,indice)\n",
    "\n",
    "# se imprime la serie\n",
    "s"
   ]
  },
  {
   "cell_type": "code",
   "execution_count": null,
   "metadata": {},
   "outputs": [],
   "source": [
    "# se cambia el valor del rango de \"b\" a \"d\" por el rango 10-12 respectivamente\n",
    "s[\"b\":\"d\"] = [10, 11, 12]\n",
    "\n",
    "# se imprime la serie\n",
    "s"
   ]
  },
  {
   "cell_type": "markdown",
   "metadata": {},
   "source": [
    "Si asignamos un valor haciendo referencia a una etiqueta que no existe en el índice, se añade dicha etiqueta al índice y se le asigna el valor:"
   ]
  },
  {
   "cell_type": "code",
   "execution_count": null,
   "metadata": {},
   "outputs": [],
   "source": [
    "# se agrega un nuevo indice con el valor de 0\n",
    "s[\"f\"] = 0\n",
    "\n",
    "# se imprime la serie\n",
    "s"
   ]
  },
  {
   "cell_type": "markdown",
   "metadata": {},
   "source": [
    "Esto solo funciona con etiquetas. Si utilizamos un índice y éste no existe en la serie, se devolverá un error.\n",
    "\n",
    "Si usamos un rango con etiquetas y alguna de las etiquetas no existe, solo se asigna el valor a las existentes:"
   ]
  },
  {
   "cell_type": "code",
   "execution_count": null,
   "metadata": {},
   "outputs": [],
   "source": [
    "# se asigna el valor de 99 a los indices \"f\" y \"h\"\n",
    "s[\"f\":\"h\"] = 99\n",
    "\n",
    "# se imprime la serie\n",
    "s"
   ]
  },
  {
   "cell_type": "markdown",
   "metadata": {},
   "source": [
    "Por último, también podemos usar en la selección una lista -tanto de índices como de etiquetas-, en cuyo caso ya sabemos que estamos seleccionando los valores indicados en el orden indicado. Por ejemplo, podemos usar la lista [\"c\", \"a\"] para asignar a los elementos correspondientes los valores 1 y 2, respectivamente:"
   ]
  },
  {
   "cell_type": "code",
   "execution_count": null,
   "metadata": {},
   "outputs": [],
   "source": [
    "# se asigna los valores de 100 y 200 a los indices \"c\" y \"d\"\n",
    "s[[\"c\", \"d\"]] = [100, 200]\n",
    "\n",
    "# se imprime la serie\n",
    "s"
   ]
  },
  {
   "cell_type": "markdown",
   "metadata": {},
   "source": [
    "Si utilizamos índices, el resultado es semejante:"
   ]
  },
  {
   "cell_type": "code",
   "execution_count": null,
   "metadata": {},
   "outputs": [],
   "source": [
    "# se asigna los valores de 2000 y 3000 a los indices 1 y 0\n",
    "s[[1, 0]] = [2000, 3000]\n",
    "\n",
    "# se imprime la serie\n",
    "s"
   ]
  },
  {
   "cell_type": "markdown",
   "metadata": {},
   "source": [
    "# Eliminación de series con el método drop\n",
    "\n",
    "El método ***pandas.Series.drop*** devuelve una copia de la serie tras eliminar el elemento cuya etiqueta se especifica como argumento"
   ]
  },
  {
   "cell_type": "code",
   "execution_count": null,
   "metadata": {},
   "outputs": [],
   "source": [
    "import numpy as np\n",
    "import pandas as pd\n",
    "\n",
    "# se crea el contenido del dataframe\n",
    "Lista = [1, 2, 3, 4, 5]\n",
    "\n",
    "# se crea el indice del dataframe\n",
    "indice = [\"a\", \"b\", \"c\", \"d\", \"e\"]\n",
    "\n",
    "# se crea el dataframe\n",
    "s = pd.Series(Lista, indice)\n",
    "\n",
    "# se imprime la serie\n",
    "s"
   ]
  },
  {
   "cell_type": "code",
   "execution_count": null,
   "metadata": {},
   "outputs": [],
   "source": [
    "# se imprime una copia de la serie sin el indice \"b\"\n",
    "print(s.drop(\"b\"))"
   ]
  },
  {
   "cell_type": "markdown",
   "metadata": {},
   "source": [
    "En este ejemplo hemos pasado como único argumento la etiqueta del elemento a eliminar, y el método ha devuelto la serie sin dicho elemento. Si la etiqueta no se encontrase en la serie, se devolvería un error.\n",
    "\n",
    "También podemos pasar como argumento no una etiqueta, sino una lista de etiquetas. En este caso se eliminarán todos los elementos con dichas etiquetas:"
   ]
  },
  {
   "cell_type": "code",
   "execution_count": null,
   "metadata": {},
   "outputs": [],
   "source": [
    "s"
   ]
  },
  {
   "cell_type": "code",
   "execution_count": null,
   "metadata": {},
   "outputs": [],
   "source": [
    "# se imprime una copia de la serie sin los indices \"d\" y \"a\"\n",
    "print(f'Uso del drop \\n\\n{s.drop([\"d\", \"a\"])}')\n",
    "\n",
    "# se imprime una copia de la serie sin los indices \"b\" y \"e\"\n",
    "print(f'\\nUso del drop \\n\\n{s.drop([\"b\", \"e\"])}')"
   ]
  },
  {
   "cell_type": "markdown",
   "metadata": {},
   "source": [
    "**Importante**\n",
    "\n",
    "* Obsérvese que las etiquetas no tienen que estar en orden.\n",
    "* Este método exige el uso de etiquetas para seleccionar los elementos a eliminar"
   ]
  },
  {
   "cell_type": "markdown",
   "metadata": {},
   "source": [
    "# Método Where (Buscar - Buscar/Reemplazar)\n",
    "\n",
    "* El método **pandas.Series.where** permite filtrar los valores de una serie de forma que solo los que cumplan cierta condición se mantengan. \n",
    "\n",
    "* Los valores que no la cumplan son sustituidos por un valor (NaN por defecto):"
   ]
  },
  {
   "cell_type": "code",
   "execution_count": null,
   "metadata": {},
   "outputs": [],
   "source": [
    "import numpy as np\n",
    "import pandas as pd\n",
    "\n",
    "# se crea el contenido del dataframe\n",
    "Lista = np.arange(0, 10)\n",
    "\n",
    "# se crea el dataframe\n",
    "s = pd.Series(Lista)\n",
    "\n",
    "# se imprime la serie\n",
    "s"
   ]
  },
  {
   "cell_type": "markdown",
   "metadata": {},
   "source": [
    "Supongamos ahora que queremos filtrar los valores de s que sean pares:"
   ]
  },
  {
   "cell_type": "code",
   "execution_count": null,
   "metadata": {},
   "outputs": [],
   "source": [
    "# se imprime la serie completa, sin embargo, los valores que no cumplan con la proposición aparecen como NaN\n",
    "print(s.where(s % 2 == 0))"
   ]
  },
  {
   "cell_type": "code",
   "execution_count": null,
   "metadata": {},
   "outputs": [],
   "source": [
    "# se imprime la serie completa, sin embargo, los valores que no cumplan con la proposición son cambiados por -1\n",
    "s.where(s % 2 == 0, -1)"
   ]
  },
  {
   "cell_type": "markdown",
   "metadata": {},
   "source": [
    "# Edición de DataFrame\n",
    "\n",
    "Podemos modificar un valor concreto usando los métodos **loc** o **iloc**, en función de que queramos usar sus etiquetas o índices:"
   ]
  },
  {
   "cell_type": "code",
   "execution_count": null,
   "metadata": {},
   "outputs": [],
   "source": [
    "import numpy as np\n",
    "import pandas as pd\n",
    "\n",
    "# se crea el contenido del dataframe\n",
    "contenido = np.arange(12).reshape([4, 3])\n",
    "\n",
    "# se crea el indice del dataframe\n",
    "indice = [\"a\", \"b\", \"c\", \"d\"]\n",
    "\n",
    "# se crea las columnas del dataframe\n",
    "columna = [\"A\", \"B\", \"C\"]\n",
    "\n",
    "# se crea el dataframe\n",
    "df = pd.DataFrame(contenido, index = indice, columns = columna)\n",
    "\n",
    "# se imprime la serie\n",
    "df"
   ]
  },
  {
   "cell_type": "code",
   "execution_count": null,
   "metadata": {},
   "outputs": [],
   "source": [
    "# se imprime el dataframe cambiando el valor del indice [1, 2] con el número -1\n",
    "df.iloc[1, 2] = -1\n",
    "\n",
    "# se imprime la serie\n",
    "df"
   ]
  },
  {
   "cell_type": "markdown",
   "metadata": {},
   "source": [
    "Podemos modificar una columna completa seleccionándola y asignándole, por ejemplo, una lista con los nuevos valores. Si partimos del mismo ejemplo que en el caso anterior..."
   ]
  },
  {
   "cell_type": "code",
   "execution_count": null,
   "metadata": {},
   "outputs": [],
   "source": [
    "# se imprime el dataframe cambiando el valor de toda la columna (serie) \"A\" por los valores de la Lista\n",
    "df[\"A\"] = [10, 20, 30, 40]\n",
    "\n",
    "# se imprime la serie\n",
    "df"
   ]
  },
  {
   "cell_type": "markdown",
   "metadata": {},
   "source": [
    "En este caso, la longitud de la lista conteniendo los valores a insertar deberá coincidir con la longitud de la columna, salvo que en lugar de una lista se esté asignando un único valor, en cuyo caso se propagará a toda la columna.\n",
    "\n",
    "Si la selección es un bloque de datos de un tamaño arbitrario, nos encontramos en el mismo escenario: o bien insertamos datos con el mismo tamaño que la selección, o insertamos un único valor que se propagará a toda la selección. Veamos el primer caso:"
   ]
  },
  {
   "cell_type": "code",
   "execution_count": null,
   "metadata": {},
   "outputs": [],
   "source": [
    "import numpy as np\n",
    "import pandas as pd\n",
    "\n",
    "# se crea el contenido del dataframe\n",
    "contenido = np.arange(12).reshape([4, 3])\n",
    "\n",
    "# se crea el indice del dataframe\n",
    "indice = [\"a\", \"b\", \"c\", \"d\"]\n",
    "\n",
    "# se crea las columnas del dataframe\n",
    "columna = [\"A\", \"B\", \"C\"]\n",
    "\n",
    "# se crea el dataframe\n",
    "df = pd.DataFrame(contenido, index = indice, columns = columna)\n",
    "\n",
    "# se imprime el dataframe\n",
    "df"
   ]
  },
  {
   "cell_type": "code",
   "execution_count": null,
   "metadata": {},
   "outputs": [],
   "source": [
    "# se imprime el dataframe con los nuevos valores de la forma: \"b\"-\"A\" = -1; \"b\"-\"B\" = -2; \"c\"-\"A\" = -3; \"c\"-\"B\" = -4\n",
    "df.loc[\"b\":\"c\", \"A\":\"B\"] = [[-1, -2], [-3, -4]]\n",
    "\n",
    "# se imprime el dataframe\n",
    "df"
   ]
  },
  {
   "cell_type": "markdown",
   "metadata": {},
   "source": [
    "En este ejemplo hemos seleccionado un bloque de 2x2, y hemos insertado datos con una estructura de las mismas dimensiones."
   ]
  },
  {
   "cell_type": "code",
   "execution_count": null,
   "metadata": {},
   "outputs": [],
   "source": [
    "# se imprime el dataframe con el valor -1 de la forma: \"b\"-\"A\" = -1; \"b\"-\"B\" = -; \"c\"-\"A\" = -1; \"c\"-\"B\" = -1\n",
    "df.loc[\"b\":\"c\", \"A\":\"B\"] = -1 \n",
    "\n",
    "# se imprime el dataframe\n",
    "df"
   ]
  },
  {
   "cell_type": "code",
   "execution_count": null,
   "metadata": {},
   "outputs": [],
   "source": [
    "#Se imprime el dataframe con una nueva columna (serie) \"D\"\n",
    "df[\"D\"] = [10, 20, 30, 40] \n",
    "\n",
    "# se imprime el dataframe\n",
    "df"
   ]
  },
  {
   "cell_type": "code",
   "execution_count": null,
   "metadata": {},
   "outputs": [],
   "source": [
    "#Se imprime el dataframe con una nueva fila \"e\"\"\n",
    "df.loc[\"e\"] = [10, 20, 30, 40] \n",
    "\n",
    "# se imprime el dataframe\n",
    "df"
   ]
  },
  {
   "cell_type": "markdown",
   "metadata": {},
   "source": [
    "# El método Where\n",
    "\n",
    "De forma semejante a las series, el método de los dataframes where filtra los valores contenidos en el dataframe de forma que solo los que cumplan cierta condición se mantengan. El resto de valores son sustituidos por un valor que, por defecto, es NaN.\n",
    "\n",
    "Por ejemplo, partimos del siguiente dataframe:"
   ]
  },
  {
   "cell_type": "code",
   "execution_count": null,
   "metadata": {},
   "outputs": [],
   "source": [
    "import numpy as np\n",
    "import pandas as pd\n",
    "\n",
    "# se crea el contenido del dataframe\n",
    "contenido = np.arange(12).reshape(-1, 3)\n",
    "\n",
    "# se crea las columnas del dataframe\n",
    "columna = [\"A\", \"B\", \"C\"]\n",
    "\n",
    "# se crea el dataframe\n",
    "df = pd.DataFrame(contenido, columns = columna)\n",
    "\n",
    "# se imprime el dataframe\n",
    "df"
   ]
  },
  {
   "cell_type": "markdown",
   "metadata": {},
   "source": [
    "Si ahora queremos filtrar los valores múltiplos de 2, por ejemplo, podemos hacerlo de la siguiente forma:"
   ]
  },
  {
   "cell_type": "code",
   "execution_count": null,
   "metadata": {},
   "outputs": [],
   "source": [
    "#se imprime el dataframe con los valores que cumplen con la proposición, mientras que los que no, aparecen como NaN\n",
    "df.where(df % 2 == 0, 111)"
   ]
  },
  {
   "cell_type": "markdown",
   "metadata": {},
   "source": [
    "Todos aquellos valores que no son múltiplo de 2 son sustituidos por NaN. Si, por ejemplo, quisiéramos cambiar de signo a los valores que no cumplen la condición impuesta, lo haríamos así:"
   ]
  },
  {
   "cell_type": "code",
   "execution_count": null,
   "metadata": {},
   "outputs": [],
   "source": [
    "import numpy as np\n",
    "import pandas as pd\n",
    "\n",
    "# se crea el contenido del dataframe\n",
    "contenido = np.arange(12).reshape(-1, 3)\n",
    "\n",
    "# se crea las columnas del dataframe\n",
    "columna = [\"A\", \"B\", \"C\"]\n",
    "\n",
    "# se crea el dataframe\n",
    "df = pd.DataFrame(contenido, columns = columna)\n",
    "\n",
    "# se imprime el dataframe con los valores impares en forma negativa\n",
    "df.where(df % 2 == 0, -df)"
   ]
  },
  {
   "cell_type": "markdown",
   "metadata": {},
   "source": [
    "# Eliminación de elementos \n",
    "\n",
    "El método **pandas.DataFrame.drop** elimina las filas o columnas indicadas y devuelve el resultado, permitiéndose diferentes criterios para especificarlas."
   ]
  },
  {
   "cell_type": "code",
   "execution_count": null,
   "metadata": {},
   "outputs": [],
   "source": [
    "import numpy as np\n",
    "import pandas as pd\n",
    "\n",
    "# se crea el contenido del dataframe\n",
    "contenido = np.arange(16).reshape([4, 4])\n",
    "\n",
    "# se crea los indices del dataframe\n",
    "indice = [\"a\", \"b\", \"c\", \"d\"]\n",
    "\n",
    "# se crea las columnas del dataframe\n",
    "columna = [\"A\", \"B\", \"C\", \"D\"]\n",
    "\n",
    "# se crea el dataframe\n",
    "df = pd.DataFrame(contenido, index = indice, columns = columna)\n",
    "\n",
    "# se imprime el dataframe\n",
    "df"
   ]
  },
  {
   "cell_type": "markdown",
   "metadata": {},
   "source": [
    "Podemos eliminar, por ejemplo, las filas cuyas etiquetas son \"a\" y \"c\" con el siguiente código:"
   ]
  },
  {
   "cell_type": "code",
   "execution_count": null,
   "metadata": {},
   "outputs": [],
   "source": [
    "# se imprime el dataframe sin los indices (axis 0) \"a\" y \"c\"\n",
    "df.drop([\"a\", \"c\"],axis = 0)"
   ]
  },
  {
   "cell_type": "code",
   "execution_count": null,
   "metadata": {},
   "outputs": [],
   "source": [
    "# también de la forma\n",
    "df.drop([\"a\", \"c\"])"
   ]
  },
  {
   "cell_type": "code",
   "execution_count": null,
   "metadata": {},
   "outputs": [],
   "source": [
    "# también de la forma\n",
    "df.drop(index = [\"a\", \"c\"])"
   ]
  },
  {
   "cell_type": "markdown",
   "metadata": {},
   "source": [
    "Para eliminar columnas, habría que indicar el eje correspondiente:"
   ]
  },
  {
   "cell_type": "code",
   "execution_count": null,
   "metadata": {},
   "outputs": [],
   "source": [
    "# se imprime el dataframe sin las columnas (series) (axis 1) \"B\" y \"D\"\n",
    "df.drop([\"B\", \"D\"], axis = 1) #axis 0 Filas, axis 1 columnas"
   ]
  },
  {
   "cell_type": "code",
   "execution_count": null,
   "metadata": {},
   "outputs": [],
   "source": [
    "# también de la forma\n",
    "df.drop(columns = [\"B\", \"D\"])"
   ]
  },
  {
   "cell_type": "markdown",
   "metadata": {},
   "source": [
    "# Unión de series y dataframes\n",
    "\n",
    "Frecuentemente nos encontramos con que los datos a analizar están repartidos entre dos o más bloques de datos, lo que nos obliga a unirlos, bien concatenándolos, o bien realizando un \"join\" entre las estructuras (uniones del mismo tipo que las realizadas en bases de datos). Revisemos las funciones asociadas.\n",
    "\n",
    "# Unión de series\n",
    "\n",
    "Comencemos revisando las opciones disponibles para las series pandas"
   ]
  },
  {
   "cell_type": "markdown",
   "metadata": {},
   "source": [
    "# La función concat"
   ]
  },
  {
   "cell_type": "code",
   "execution_count": null,
   "metadata": {},
   "outputs": [],
   "source": [
    "# definimos la serie s\n",
    "s = pd.Series([1, 2, 3, 4, 5,], index = [\"a\", \"b\", \"c\", \"d\", \"e\"])\n",
    "# definimos la serie r\n",
    "r = pd.Series([10, 11, 12], index = [\"f\", \"g\", \"h\"])\n",
    "\n",
    "# utilizamos el método concat para unir la serie \"s\" y \"r\"\n",
    "t = pd.concat([s, r])\n",
    "\n",
    "# se imprime la nueva serie\n",
    "print(f'La nueva serie \\n{t}')"
   ]
  },
  {
   "cell_type": "markdown",
   "metadata": {},
   "source": [
    "Podemos ver en el ejemplo anterior que el resultado es una serie pandas.\n",
    "\n",
    "Si especificamos como eje de concatenación el eje 1, pandas alineará los valores con idénticas etiquetas. En el siguiente ejemplo, las series a y b tienen algunas etiquetas comunes (y otras no). El resultado incluye todas las etiquetas asignando el valor NaN (\"Not a Number\") a aquellos valores desconocidos:"
   ]
  },
  {
   "cell_type": "code",
   "execution_count": null,
   "metadata": {},
   "outputs": [],
   "source": [
    "# definimos la serie a\n",
    "a = pd.Series([1, 2, 3, 4, 5,], index = [\"a\", \"b\", \"c\", \"d\", \"e\"])\n",
    "# definimos la serie b\n",
    "b = pd.Series([10, 11, 12], index = [\"a\", \"b\", \"f\"])\n",
    "\n",
    "# utilizamos el método concat para unir la serie \"a\" y \"b\". Se crea una serie con los valores donde existan, de resto, aparece NaN\n",
    "x = pd.concat([a, b], axis = 1, sort = True) # sort oculta cierto aviso al respecto de un cambio en la funcionalidad de esta función en versiones futuras de la librería pandas\n",
    "x"
   ]
  },
  {
   "cell_type": "markdown",
   "metadata": {},
   "source": [
    "Por otro lado, ya sabemos que las etiquetas del índice no tienen por qué ser diferentes, de forma que si estuviésemos concatenando series con etiquetas comunes en sus índices, el resultado sería equivalente a los vistos hasta ahora:"
   ]
  },
  {
   "cell_type": "code",
   "execution_count": null,
   "metadata": {},
   "outputs": [],
   "source": [
    "# definimos la serie s\n",
    "s = pd.Series([1, 2, 3, 4], index = [\"a\", \"b\", \"c\", \"d\"])\n",
    "# definimos la serie r\n",
    "r = pd.Series([10, 11, 12], index = [\"a\", \"c\", \"e\"])\n",
    "\n",
    "# se imprime una nueva seria con la union de todos los valores de las listas\n",
    "pd.concat([s, r])"
   ]
  },
  {
   "cell_type": "markdown",
   "metadata": {},
   "source": [
    "# El método append\n",
    "\n",
    "El método **pandas.Series.append** es la versión simplificada de la función **concat**  que devuelve la unión de la serie sobre la que se aplica con otra (u otras) series, pero solo a lo largo del eje 0."
   ]
  },
  {
   "cell_type": "code",
   "execution_count": null,
   "metadata": {},
   "outputs": [],
   "source": [
    "#Version concat simplificada\n",
    "a = pd.Series([1, 2, 3, 4, 5], index = [\"a\", \"b\", \"c\", \"d\", \"e\"])\n",
    "b = pd.Series([10, 11, 12], index = [\"f\", \"g\", \"h\"])\n",
    "\n",
    "c = a.append(b)\n",
    "\n",
    "# se imprime la nueva serie\n",
    "c"
   ]
  },
  {
   "cell_type": "markdown",
   "metadata": {},
   "source": [
    "Si el argumento ignore_index toma el valor True, se ignoran las etiquetas de las series:"
   ]
  },
  {
   "cell_type": "code",
   "execution_count": null,
   "metadata": {},
   "outputs": [],
   "source": [
    "c = a.append(b, ignore_index = True) #Solo valores\n",
    "\n",
    "# se imprime la nueva serie\n",
    "c"
   ]
  },
  {
   "cell_type": "markdown",
   "metadata": {},
   "source": [
    "# Concatenación y unión de dataframes\n",
    "\n",
    "Ésta es otra de las áreas en las que la variedad de opciones puede resultar confusa. A modo de resumen, digamos que pandas ofrece 3 funciones con este objetivo: \n",
    "\n",
    "### **pandas.concat** \n",
    "\n",
    "* La función concat permite concatenar dataframes a lo largo de un determinado eje\n",
    "\n",
    "\n",
    "### **pandas.merge**\n",
    "\n",
    "* La función merge permite realizar uniones (joins) entre dataframes tal y como se realizan en bases de datos. Esta función también está disponible como método: **pandas.DataFrame.merge**\n",
    "\n",
    "### **pandas.DataFrame.append**\n",
    "\n",
    "* Ofrece una funcionalidad semejante a la de la función concat pero reducida. Así, por ejemplo, solo permite realizar concatenaciones a lo largo del eje 0 (es decir, verticalmente)."
   ]
  },
  {
   "cell_type": "code",
   "execution_count": null,
   "metadata": {},
   "outputs": [],
   "source": [
    "import numpy as np\n",
    "\n",
    "lista = np.arange(9).reshape([3, 3])\n",
    "indices = [\"a\", \"b\", \"d\"]\n",
    "columnas = [\"A\", \"B\", \"C\"]\n",
    "\n",
    "df1 = pd.DataFrame(lista,indices,columnas) \n",
    "df1"
   ]
  },
  {
   "cell_type": "code",
   "execution_count": null,
   "metadata": {},
   "outputs": [],
   "source": [
    "lista2 = np.arange(12).reshape([4, 3])\n",
    "indices2 = index = [\"a\", \"b\", \"c\", \"e\"]\n",
    "columnas2 = [\"B\", \"C\", \"D\"]\n",
    "df2 = pd.DataFrame(lista2, indices2, columnas2)\n",
    "df2"
   ]
  },
  {
   "cell_type": "code",
   "execution_count": null,
   "metadata": {},
   "outputs": [],
   "source": [
    "pd.concat([df1, df2], sort = False) "
   ]
  },
  {
   "cell_type": "markdown",
   "metadata": {},
   "source": [
    "Si especificamos que la concatenación se realice a lo largo del eje 1 (eje horizontal), el resultado es el siguiente:"
   ]
  },
  {
   "cell_type": "code",
   "execution_count": null,
   "metadata": {},
   "outputs": [],
   "source": [
    "pd.concat([df1, df2], axis = 1, sort = False)"
   ]
  },
  {
   "cell_type": "markdown",
   "metadata": {},
   "source": [
    "Ahora, si consideramos el argumento **join = \"Inner\"** los resultados pasan a considerar solo las etiquetas comunes incluyendo solo las columnas B y C comunes a ambos dataframes"
   ]
  },
  {
   "cell_type": "code",
   "execution_count": null,
   "metadata": {},
   "outputs": [],
   "source": [
    "pd.concat([df1, df2], join = \"inner\") #Solo muestra etiquetas comunes, por defecto outer."
   ]
  },
  {
   "cell_type": "markdown",
   "metadata": {},
   "source": [
    "Para el segundo ejemplo tenemos que se incluyen solo las filas a y b comunes a ambos dataframes."
   ]
  },
  {
   "cell_type": "code",
   "execution_count": null,
   "metadata": {},
   "outputs": [],
   "source": [
    "pd.concat([df1, df2], axis = 1, join = \"inner\") #Solo muestra etiquetas comunes, por defecto outer."
   ]
  },
  {
   "cell_type": "markdown",
   "metadata": {},
   "source": [
    "El parámetro **ignore_index** controla el índice a asignar al eje a lo largo del cuál se realiza la concatenación. \n",
    "\n",
    "* Si este parámetro es False (por defecto), el eje de concatenación mantiene las etiquetas de los dataframes originales. \n",
    "* Si toma el valor True, se ignoran dichas etiquetas y el resultado de la concatenación recibe un nuevo índice automático numérico."
   ]
  },
  {
   "cell_type": "code",
   "execution_count": null,
   "metadata": {},
   "outputs": [],
   "source": [
    "pd.concat([df1, df2], axis = 1, join = \"inner\", ignore_index = True)"
   ]
  },
  {
   "cell_type": "markdown",
   "metadata": {},
   "source": [
    "# El método append\n",
    "\n",
    "Es un atajo de la función **concat** que ofrece funcionalidad semejante pero limitada: \n",
    "\n",
    "* No permite especificar el eje de concatenación (siempre es el eje 0) ni el tipo de \"join\" (siempre es tipo \"Outer\")."
   ]
  },
  {
   "cell_type": "code",
   "execution_count": null,
   "metadata": {},
   "outputs": [],
   "source": [
    "df1 = pd.DataFrame(np.arange(9).reshape([3, 3]),\n",
    "                  index = [\"a\", \"b\", \"d\"],\n",
    "                  columns = [\"A\", \"B\", \"C\"]) \n",
    "df1"
   ]
  },
  {
   "cell_type": "code",
   "execution_count": null,
   "metadata": {},
   "outputs": [],
   "source": [
    "df2 = pd.DataFrame(np.arange(12).reshape([4, 3]),\n",
    "                  index = [\"a\", \"b\", \"c\", \"e\"],\n",
    "                  columns = [\"B\", \"C\", \"D\"]) \n",
    "df2"
   ]
  },
  {
   "cell_type": "markdown",
   "metadata": {},
   "source": [
    "...podemos ver cuál es el resultado de aplicar este método a df1:"
   ]
  },
  {
   "cell_type": "code",
   "execution_count": null,
   "metadata": {},
   "outputs": [],
   "source": [
    "df1.append(df2, sort = False)"
   ]
  },
  {
   "cell_type": "markdown",
   "metadata": {},
   "source": [
    "Al igual que ocurría con la función concat, el parámetro ignore_index nos permite controlar las etiquetas que recibe el índice del resultado: las de los dataframes originales (con ignore_index = False, opción por defecto), o uno nuevo automático (con ignore_index = True)."
   ]
  },
  {
   "cell_type": "markdown",
   "metadata": {},
   "source": [
    "# Ejercicio"
   ]
  },
  {
   "cell_type": "code",
   "execution_count": 1,
   "metadata": {},
   "outputs": [
    {
     "data": {
      "text/html": [
       "<div>\n",
       "<style scoped>\n",
       "    .dataframe tbody tr th:only-of-type {\n",
       "        vertical-align: middle;\n",
       "    }\n",
       "\n",
       "    .dataframe tbody tr th {\n",
       "        vertical-align: top;\n",
       "    }\n",
       "\n",
       "    .dataframe thead th {\n",
       "        text-align: right;\n",
       "    }\n",
       "</style>\n",
       "<table border=\"1\" class=\"dataframe\">\n",
       "  <thead>\n",
       "    <tr style=\"text-align: right;\">\n",
       "      <th>Letras</th>\n",
       "      <th>A</th>\n",
       "      <th>B</th>\n",
       "      <th>C</th>\n",
       "      <th>D</th>\n",
       "    </tr>\n",
       "    <tr>\n",
       "      <th>caracteres</th>\n",
       "      <th></th>\n",
       "      <th></th>\n",
       "      <th></th>\n",
       "      <th></th>\n",
       "    </tr>\n",
       "  </thead>\n",
       "  <tbody>\n",
       "    <tr>\n",
       "      <th>texto</th>\n",
       "      <td>viendo</td>\n",
       "      <td>clase</td>\n",
       "      <td>de</td>\n",
       "      <td>Python</td>\n",
       "    </tr>\n",
       "    <tr>\n",
       "      <th>números</th>\n",
       "      <td>1</td>\n",
       "      <td>2</td>\n",
       "      <td>3</td>\n",
       "      <td>4</td>\n",
       "    </tr>\n",
       "  </tbody>\n",
       "</table>\n",
       "</div>"
      ],
      "text/plain": [
       "Letras           A      B   C       D\n",
       "caracteres                           \n",
       "texto       viendo  clase  de  Python\n",
       "números          1      2   3       4"
      ]
     },
     "execution_count": 1,
     "metadata": {},
     "output_type": "execute_result"
    }
   ],
   "source": [
    "import pandas as pd\n",
    "\n",
    "\n",
    "def ejercicio(l1, l2):\n",
    "\n",
    "    indices = [\"texto\", \"números\"]\n",
    "    columnas = [\"A\",\"B\",\"C\",\"D\"]\n",
    "    salida = pd.DataFrame([lista1, lista2], indices, columnas)\n",
    "    salida.index.name = \"caracteres\"\n",
    "    salida.columns.name = \"Letras\"\n",
    "    return salida\n",
    "\n",
    "\n",
    "lista1 = ['viendo', 'clase', 'de', 'Python']\n",
    "lista2 = [1, 2, 3, 4]\n",
    "\n",
    "ejercicio(lista1, lista2)"
   ]
  }
 ],
 "metadata": {
  "interpreter": {
   "hash": "ad2bdc8ecc057115af97d19610ffacc2b4e99fae6737bb82f5d7fb13d2f2c186"
  },
  "kernelspec": {
   "display_name": "Python 3.9.7 ('base')",
   "language": "python",
   "name": "python3"
  },
  "language_info": {
   "codemirror_mode": {
    "name": "ipython",
    "version": 3
   },
   "file_extension": ".py",
   "mimetype": "text/x-python",
   "name": "python",
   "nbconvert_exporter": "python",
   "pygments_lexer": "ipython3",
   "version": "3.9.7"
  }
 },
 "nbformat": 4,
 "nbformat_minor": 4
}
