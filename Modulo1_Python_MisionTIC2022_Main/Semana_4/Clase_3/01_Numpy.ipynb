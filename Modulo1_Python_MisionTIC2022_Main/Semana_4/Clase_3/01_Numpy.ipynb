{
 "cells": [
  {
   "cell_type": "markdown",
   "metadata": {},
   "source": [
    "# Numpy\n",
    "\n",
    "**Numpy** es una libreria para la ciencia de los datos en Python. Proporciona un objeto **matriz** multidimensional de alto rendimiento y herramientas para trabajar con estas matrices. \n",
    "\n",
    "https://numpy.org/"
   ]
  },
  {
   "cell_type": "markdown",
   "metadata": {},
   "source": [
    "# Arrays\n",
    "\n",
    "Un array numpy es:\n",
    "\n",
    "    * Numpy es un paquete que provee a Python con arreglos multidimensionales de alta eficiencia y diseñados para cálculo científico.\n",
    "    * Los arreglos de NumPy son de tipo estático y homogéneo.\n",
    "    * Están indexados por una tupla de enteros no negativos. \n",
    "    * El número de dimensiones es el rango de la matriz; la forma de una matriz es una tupla de números enteros que dan el tamaño de la matriz a lo largo de cada dimensión.\n",
    "\n",
    "Podemos inicializar matrices numpy desde listas de Python anidadas y acceder a elementos usando corchetes:\n"
   ]
  },
  {
   "cell_type": "markdown",
   "metadata": {},
   "source": [
    "# Instalar numpy"
   ]
  },
  {
   "cell_type": "code",
   "execution_count": null,
   "metadata": {},
   "outputs": [],
   "source": [
    "! pip install numpy"
   ]
  },
  {
   "cell_type": "code",
   "execution_count": null,
   "metadata": {},
   "outputs": [],
   "source": [
    "! conda install numpy"
   ]
  },
  {
   "cell_type": "code",
   "execution_count": null,
   "metadata": {},
   "outputs": [],
   "source": [
    "from numpy import random as r"
   ]
  },
  {
   "cell_type": "code",
   "execution_count": null,
   "metadata": {},
   "outputs": [],
   "source": [
    "#El método choice() devuelve un elemento seleccionado aleatoriamente de la secuencia especificada.\n",
    "\n",
    "Arreglo = ['Andres','Juan','Pedro','Mateo']\n",
    "print(r.choice(Arreglo))"
   ]
  },
  {
   "cell_type": "code",
   "execution_count": null,
   "metadata": {},
   "outputs": [],
   "source": [
    "import numpy as np\n",
    "\n",
    "# Crear una matriz de rango 1 a partir del constructor \"array\" de numpy\n",
    "Lista = [34, 25, 7]\n",
    "\n",
    "vector = np.array(Lista)\n",
    "print(vector)"
   ]
  },
  {
   "cell_type": "code",
   "execution_count": null,
   "metadata": {},
   "outputs": [],
   "source": [
    "print(type(vector))            # Prints \"<class 'numpy.ndarray'>\""
   ]
  },
  {
   "cell_type": "code",
   "execution_count": null,
   "metadata": {},
   "outputs": [],
   "source": [
    "# se imprime el vector\n",
    "print(f'Vector {vector}')\n",
    "\n",
    "# se imprime el cuerpo del vector\n",
    "print(f'\\nCuerpo del vector: {vector.shape}')"
   ]
  },
  {
   "cell_type": "code",
   "execution_count": null,
   "metadata": {},
   "outputs": [],
   "source": [
    "print(f'Vector {vector}')\n",
    "\n",
    "print(f'Selección {vector[0]} {vector[1]} {vector[2]}')"
   ]
  },
  {
   "cell_type": "code",
   "execution_count": null,
   "metadata": {},
   "outputs": [],
   "source": [
    "print(f'Vector {vector}')\n",
    "\n",
    "# Cambiar un elemento de indice 0 del vector\n",
    "vector[0] = 5\n",
    "\n",
    "print(f'Vector {vector}')"
   ]
  },
  {
   "cell_type": "code",
   "execution_count": null,
   "metadata": {},
   "outputs": [],
   "source": [
    "print(f'Vector {vector}')\n",
    "\n",
    "vector[0] = 34\n",
    "\n",
    "print(f'\\nCuerpo del vector: {vector.shape}')"
   ]
  },
  {
   "cell_type": "code",
   "execution_count": null,
   "metadata": {},
   "outputs": [],
   "source": [
    "Lista = [\n",
    "    [1,2,3],\n",
    "    [4,5,6],\n",
    "    [7,8,9],\n",
    "]    # Crear una matriz de rango 2\n",
    "\n",
    "Matriz = np.array(Lista)\n",
    "\n",
    "print(f'Matriz \\n{Matriz}')"
   ]
  },
  {
   "cell_type": "code",
   "execution_count": null,
   "metadata": {},
   "outputs": [],
   "source": [
    "print(f'\\nCuerpo del matriz: {Matriz.shape}')                   # Prints \"(3, 3)\""
   ]
  },
  {
   "cell_type": "code",
   "execution_count": null,
   "metadata": {},
   "outputs": [],
   "source": [
    "print(f'Vector \\n{Matriz}')\n",
    "\n",
    "print(f'\\nSelección: {Matriz[0, 0]} {Matriz[0, 1]} {Matriz[1, 0]}')"
   ]
  },
  {
   "cell_type": "code",
   "execution_count": null,
   "metadata": {},
   "outputs": [],
   "source": [
    "# creo una matriz a partir de la libreria random y método random\n",
    "matriz = np.random.random((3,3))\n",
    "\n",
    "print(f'Matris \\n{matriz}')\n",
    "\n",
    "print(f'\\nCuerpo del matriz: {matriz.shape}')  "
   ]
  },
  {
   "cell_type": "code",
   "execution_count": null,
   "metadata": {},
   "outputs": [],
   "source": [
    "matriz =  [[10, 20, 30],\n",
    "           [40, 50, 60],\n",
    "           [70, 80 , 90]\n",
    "           ]\n",
    "\n",
    "arreglo = np.array(matriz)\n",
    "\n",
    "print(f'Matriz \\n{arreglo}')\n",
    "\n",
    "print(f'\\nCuerpo de la matriz: {arreglo.shape}')"
   ]
  },
  {
   "cell_type": "markdown",
   "metadata": {},
   "source": [
    "Numpy también proporciona muchas funciones para crear matrices:"
   ]
  },
  {
   "cell_type": "code",
   "execution_count": null,
   "metadata": {},
   "outputs": [],
   "source": [
    "# La función .zero permite rellenar una matriz numpy con valores de \"cero\"\n",
    "matriz = np.zeros((3,3))\n",
    "\n",
    "print(f'Matris \\n{matriz}')\n",
    "\n",
    "print(f'\\nCuerpo de la matriz: {matriz.shape}')"
   ]
  },
  {
   "cell_type": "code",
   "execution_count": null,
   "metadata": {},
   "outputs": [],
   "source": [
    "# # La función .ones permite rellenar una matriz numpy con valores de \"unos\"\n",
    "b = np.ones((5,5))\n",
    "\n",
    "print(f'Matris \\n{b}')\n",
    "\n",
    "print(f'\\nCuerpo de la matriz: {b.shape}')"
   ]
  },
  {
   "cell_type": "code",
   "execution_count": null,
   "metadata": {},
   "outputs": [],
   "source": [
    "# La función .full, devuelve una nueva matriz de forma y tipo dados, es decir, rellena con un valor de relleno\n",
    "c = np.full((4,8), 2022)\n",
    "\n",
    "print(f'Matris \\n{c}')\n",
    "\n",
    "print(f'\\nCuerpo de la matriz: {c.shape}')"
   ]
  },
  {
   "cell_type": "code",
   "execution_count": null,
   "metadata": {},
   "outputs": [],
   "source": [
    "Lista = [1, 2, 78]\n",
    "\n",
    "d = np.full((2, 3), Lista)\n",
    "\n",
    "print(f'Matris \\n{d}')\n",
    "\n",
    "print(f'\\nCuerpo del arreglo: {d.shape}')"
   ]
  },
  {
   "cell_type": "code",
   "execution_count": null,
   "metadata": {},
   "outputs": [],
   "source": [
    "# La función eye devuelve una matriz de identidad nxn, es decir, una matriz donde todos sus elementos son cero excepto la diagonal principal\n",
    "\n",
    "d = np.eye(3)\n",
    "print(f'Matris \\n{d}')"
   ]
  },
  {
   "cell_type": "code",
   "execution_count": null,
   "metadata": {},
   "outputs": [],
   "source": [
    "# Crear una matriz llena de valores aleatorios\n",
    "MatrizNumerosAleatorios = np.random.random((2,2))\n",
    "\n",
    "print(f'Matris \\n{MatrizNumerosAleatorios}')\n",
    "\n",
    "print(f'\\nCuerpo de la matriz: {MatrizNumerosAleatorios.shape}')"
   ]
  },
  {
   "cell_type": "markdown",
   "metadata": {},
   "source": [
    "Puede leer sobre otros métodos de creación de matrices en la documentación de Numpy\n",
    "\n",
    "https://numpy.org/doc/stable/user/basics.creation.html#arrays-creation"
   ]
  },
  {
   "cell_type": "code",
   "execution_count": null,
   "metadata": {},
   "outputs": [],
   "source": [
    "import numpy as np\n",
    "\n",
    "Arreglo = (\n",
    "    [1,3,5,7],\n",
    "    [3,6,1,8],\n",
    "    [6,8,0,3],\n",
    "    [2,43,2,8]\n",
    "    )\n",
    "     \n",
    "ArregloNumpy = np.array(Arreglo)\n",
    "\n",
    "print(f'Matris \\n{ArregloNumpy}')\n",
    "\n",
    "print(f'\\nCuerpo de la matriz: {ArregloNumpy.shape}\\n')\n"
   ]
  },
  {
   "cell_type": "markdown",
   "metadata": {},
   "source": [
    "# Indexación de matrices\n",
    "\n",
    "Numpy ofrece varias formas de indexar en matrices.\n",
    "\n",
    "# Rebanar\n",
    "\n",
    "Similar a las listas de Python, las matrices numpy se pueden cortar. Dado que las matrices pueden ser multidimensionales, debe especificar un segmento para cada dimensión de la matriz:"
   ]
  },
  {
   "cell_type": "code",
   "execution_count": null,
   "metadata": {},
   "outputs": [],
   "source": [
    "import numpy as np\n",
    "\n",
    "Arreglo = [\n",
    "    [1,2,3],\n",
    "    [5,6,7],\n",
    "    [9,10,11]\n",
    "    ]\n",
    "\n",
    "matriz = np.array(Arreglo)\n",
    "\n",
    "print(f'Matris \\n{matriz}')\n",
    "\n",
    "print(f'\\nCuerpo de la matriz: {matriz.shape}')\n",
    "\n",
    "# [fila:fila, columna,columna]\n",
    "matrizRebanada = matriz[:2, 1:] #[Desde la fila 0 hasta la fila 1], [Desde los valores 1 hasta el final de la fila]\n",
    "print('\\nMatriz rebanada \\n', matrizRebanada)\n",
    "\n",
    "ElementoDeMatriz = matriz[0, 1]\n",
    "print(f'\\nElemento de la matriz : {ElementoDeMatriz}')"
   ]
  },
  {
   "cell_type": "code",
   "execution_count": null,
   "metadata": {},
   "outputs": [],
   "source": [
    "# La función fliplr invierte el orden de los elementos a lo largo del eje 1(fila - de izquierda a derecha).\n",
    "print(f'Matriz \\n{matriz}\\n')\n",
    "\n",
    "print(f'Matriz invertida: \\n {np.fliplr(matriz)}')"
   ]
  },
  {
   "cell_type": "code",
   "execution_count": null,
   "metadata": {},
   "outputs": [],
   "source": [
    "# Cambiar valores en el arreglo\n",
    "print(f'Matris \\n{matriz}')\n",
    "\n",
    "matriz[0, 0] = 77 \n",
    "\n",
    "print(f'Matris \\n{matriz}')"
   ]
  },
  {
   "cell_type": "markdown",
   "metadata": {},
   "source": [
    "También puede mezclar la indexación de enteros con la indexación de sectores. Sin embargo, al hacerlo, se obtendrá una matriz de rango más bajo que la matriz original."
   ]
  },
  {
   "cell_type": "code",
   "execution_count": null,
   "metadata": {},
   "outputs": [],
   "source": [
    "# Indexación de enteros con la indexación de sectores en filas\n",
    "\n",
    "import numpy as np\n",
    "\n",
    "Arreglo = [\n",
    "    [1,2,3,4], \n",
    "    [5,6,7,8], \n",
    "    [9,10,11,12]\n",
    "    ]\n",
    "\n",
    "a = np.array(Arreglo)\n",
    "\n",
    "print(f'Matris \\n{a}')\n",
    "print(f'\\nCuerpo de la matriz {a.shape}')\n",
    "\n",
    "# Mezclando la indexación de enteros con rebanadas se obtiene una matriz de rango inferior\n",
    "row_r1 = a[1 , :]    # Vista de rango 1 de la segunda fila\n",
    "print(f'\\nVector resultado : {row_r1} de cuerpo {row_r1.shape}\\n')  # Prints \"[5 6 7 8] (4,)\"\n",
    "\n",
    "# Usando sólo rebanadas se obtiene un conjunto del mismo rango que en la matriz original:\n",
    "row_r2 = a[1:2 , :]  # Vista de rango 2 de la segunda fila\n",
    "print(f'Matriz resultado : {row_r2} de cuerpo {row_r2.shape}')  # Prints [[5 6 7 8]] (1, 4)"
   ]
  },
  {
   "cell_type": "code",
   "execution_count": null,
   "metadata": {},
   "outputs": [],
   "source": [
    "# Indexación de enteros con la indexación de sectores en columnas\n",
    "matriz = np.array(\n",
    "    [[1,2,3,4], \n",
    "     [5,6,7,8], \n",
    "     [9,10,11,12]\n",
    "])\n",
    "\n",
    "print(f'Matris \\n{matriz}')\n",
    "print(f'\\nCuerpo de la matriz {matriz.shape}')\n",
    "\n",
    "col_r1 = a[:,1]\n",
    "print(f'\\nCrea un arreglo con el valor [1] de todas las filas: \\n{col_r1}')\n",
    "print(f'\\nCuerpo del arreglo resultante {col_r1.shape}')\n",
    "\n",
    "col_r2 = a[:, 1:2] #Imprimir solo valores de la columna 1\n",
    "print(f'\\nCrea un arreglo de tres filas y una columna (con el valor de la posición [1] de la matriz): \\n{col_r2}')\n",
    "print(f'\\nCuerpo de la matriz { col_r2.shape}')"
   ]
  },
  {
   "cell_type": "markdown",
   "metadata": {},
   "source": [
    "# Indexación de matrices de enteros: \n",
    "\n",
    "Cuando indexa matrices de números utilizando la división, la vista de matriz resultante siempre será una submatriz de la matriz original. Por el contrario, la indexación de matrices de enteros le permite construir matrices arbitrarias utilizando los datos de otra matriz. Aquí hay un ejemplo:"
   ]
  },
  {
   "cell_type": "code",
   "execution_count": null,
   "metadata": {},
   "outputs": [],
   "source": [
    "import numpy as np\n",
    "\n",
    "matriz = np.array(\n",
    "    [[1, 2], \n",
    "     [3, 4], \n",
    "     [5, 6]\n",
    "])\n",
    "\n",
    "print(f'Matris \\n{matriz}')\n",
    "print(f'\\nCuerpo de la matriz {matriz.shape}')"
   ]
  },
  {
   "cell_type": "code",
   "execution_count": null,
   "metadata": {},
   "outputs": [],
   "source": [
    "# Indexación de arreglos enteros. La matriz devuelta tendrá forma (3,2) \n",
    "print(f'Matris \\n{matriz}')\n",
    "print(f'Vector resultado \\n{matriz[[0, 1, 2], [0, 1, 0]]}') # F  F  F, C  C  C\n",
    "\n",
    "# Lo anterior es un equivalente a esto:\n",
    "mismoEjemploOtraForma = np.array([matriz[0, 0], matriz[1, 1], matriz[2, 0]])\n",
    "print(f'\\nMismo vector otra forma: \\n{mismoEjemploOtraForma}')"
   ]
  },
  {
   "cell_type": "code",
   "execution_count": null,
   "metadata": {},
   "outputs": [],
   "source": [
    "# Cuando se usa la indexación de arreglos enteros, se puede reutilizar el mismo elemento de la matriz de la fuente:\n",
    "print(f'Matris \\n{matriz}')\n",
    "\n",
    "print(f'\\nVector resultado \\n{matriz[[0, 0], [1, 1]]}') # F F C C\n",
    "\n",
    "# Equivalente al ejemplo anterior de indexación de arreglos enteros\n",
    "\n",
    "otroVectorResultado = np.array([a[0, 1], a[0, 1]])\n",
    "print(f'\\nVector resultado \\n{otroVectorResultado}') # F C , F C"
   ]
  },
  {
   "cell_type": "markdown",
   "metadata": {},
   "source": [
    "# Indexación de matriz booleana: \n",
    "\n",
    "La indexación de matriz booleana le permite seleccionar elementos arbitrarios de una matriz. Con frecuencia, este tipo de indexación se utiliza para seleccionar los elementos de una matriz que satisfacen alguna condición. Aquí hay un ejemplo:"
   ]
  },
  {
   "cell_type": "code",
   "execution_count": null,
   "metadata": {},
   "outputs": [],
   "source": [
    "import numpy as np\n",
    "\n",
    "matriz = np.array(\n",
    "    [[1, 2], \n",
    "     [3, 4], \n",
    "     [5, 6],\n",
    "     [1, 1]\n",
    "])\n",
    "\n",
    "print(f'Matris \\n{matriz}')\n",
    "print(f'\\nCuerpo de la matriz {matriz.shape}')\n",
    "\n",
    "# marca como verdaderos aquellos valores mayores a la codición de verdad\n",
    "bool_idx = (matriz > 2)\n",
    "print(f'\\nMatriz de verdad \\n{bool_idx}')\n",
    "\n",
    "# Imprime la matriz resultante\n",
    "print(f'\\nMatriz resultado \\n {matriz[bool_idx]}')\n",
    "\n",
    "# Tambien podemos hacer todo lo anterior en una sola declaración:\n",
    "MayoresADos = matriz[matriz > 2]\n",
    "print(f'\\nMatriz resultado \\n {MayoresADos}')"
   ]
  },
  {
   "cell_type": "markdown",
   "metadata": {},
   "source": [
    "Por brevedad, hemos omitido muchos detalles sobre la indexación de matrices numpy; si quieres saber más debes leer la documentación .  \n",
    "\n",
    "https://numpy.org/doc/stable/reference/arrays.indexing.html"
   ]
  },
  {
   "cell_type": "markdown",
   "metadata": {},
   "source": [
    "# Tipos de datos\n",
    "\n",
    "Cada matriz numpy es una cuadrícula de elementos del mismo tipo. Numpy proporciona un gran conjunto de tipos de datos numéricos que puede utilizar para construir matrices. Numpy intenta adivinar un tipo de datos cuando crea una matriz, pero las funciones que construyen matrices generalmente también incluyen un argumento opcional para especificar explícitamente el tipo de datos. Aquí hay un ejemplo:"
   ]
  },
  {
   "cell_type": "code",
   "execution_count": null,
   "metadata": {},
   "outputs": [],
   "source": [
    "matriz = np.array(\n",
    "    [[1, 2], \n",
    "     [3, 4], \n",
    "     [5, 6],\n",
    "     [1, 1]\n",
    "])\n",
    "x = np.array(matriz)\n",
    "print(f'Matris \\n{matriz}')\n",
    "\n",
    "print(f'\\nTipo de datos de la matriz: {matriz.dtype}')\n",
    "print(type(matriz))"
   ]
  },
  {
   "cell_type": "code",
   "execution_count": null,
   "metadata": {},
   "outputs": [],
   "source": [
    "x = np.array([1., 2.])\n",
    "   \n",
    "print(f'Matris \\n{x}')\n",
    "\n",
    "print(f'\\nTipo de datos de la matriz: {x.dtype}')"
   ]
  },
  {
   "cell_type": "code",
   "execution_count": null,
   "metadata": {},
   "outputs": [],
   "source": [
    "# Fuerza un tipo de datos en particular\n",
    "\n",
    "x = np.array([1, 2], dtype = np.int64)\n",
    "   \n",
    "print(f'Matris \\n{x}')\n",
    "\n",
    "print(f'\\nTipo de datos de la matriz: {x.dtype}')"
   ]
  },
  {
   "cell_type": "markdown",
   "metadata": {},
   "source": [
    "Puede leer todo sobre numerosos tipos de datos en la documentación .\n",
    "\n",
    "https://numpy.org/doc/stable/reference/arrays.dtypes.html"
   ]
  },
  {
   "cell_type": "markdown",
   "metadata": {},
   "source": [
    "# Matemáticas de matriz\n",
    "\n",
    "Las funciones matemáticas básicas operan por elementos en matrices y están disponibles como sobrecargas de operador y como funciones en el módulo numpy:"
   ]
  },
  {
   "cell_type": "code",
   "execution_count": null,
   "metadata": {},
   "outputs": [],
   "source": [
    "import numpy as np\n",
    "\n",
    "matrizA = [\n",
    "    [1,2],\n",
    "    [3,4]\n",
    "    ]\n",
    "\n",
    "x = np.array(matrizA, dtype=np.int32)\n",
    "print(f'Matris X\\n{x}')\n",
    "\n",
    "matrizB = [\n",
    "    [5,6],\n",
    "    [7,8]\n",
    "    ]\n",
    "\n",
    "y = np.array(matrizB, dtype=np.float64)\n",
    "print(f'\\nMatris Y\\n{y}')"
   ]
  },
  {
   "cell_type": "code",
   "execution_count": null,
   "metadata": {},
   "outputs": [],
   "source": [
    "# Suma de elementos; ambos producen la matriz\n",
    "print(f'Matris X\\n{x}')\n",
    "print(f'\\nMatris Y\\n{y}')\n",
    "\n",
    "print(f'Matriz resultado \\n {x + y}')\n",
    "# La función add permite sumar dos matrices\n",
    "print(f'\\nMatriz resultado \\n {np.add(x, y)}')"
   ]
  },
  {
   "cell_type": "code",
   "execution_count": null,
   "metadata": {},
   "outputs": [],
   "source": [
    "# Diferencia de elementos (resta); ambos producen la matriz\n",
    "print(f'Matris X\\n{x}')\n",
    "print(f'\\nMatris Y\\n{y}')\n",
    "\n",
    "print(f'Matriz resultado \\n {x - y}')\n",
    "print(f'\\nMatriz resultado \\n {np.subtract(x, y)}')"
   ]
  },
  {
   "cell_type": "code",
   "execution_count": null,
   "metadata": {},
   "outputs": [],
   "source": [
    "# Producto de elementos; ambos producen la matriz\n",
    "print(f'Matris X\\n{x}')\n",
    "print(f'\\nMatris Y\\n{y}')\n",
    "\n",
    "print(f'Matriz resultado \\n {x * y}')\n",
    "multiplicar = np.multiply(x, y)\n",
    "print(f'\\nMatriz resultado \\n {multiplicar}')"
   ]
  },
  {
   "cell_type": "code",
   "execution_count": null,
   "metadata": {},
   "outputs": [],
   "source": [
    "# División de elemetos; ambos producen la matriz\n",
    "print(f'Matris X\\n{x}')\n",
    "print(f'\\nMatris Y\\n{y}')\n",
    "\n",
    "print(f'Matriz resultado \\n {x / y}')\n",
    "\n",
    "otraMatriz = np.divide(x, y)\n",
    "print(f'\\nMatriz resultado \\n {otraMatriz}')"
   ]
  },
  {
   "cell_type": "code",
   "execution_count": 12,
   "metadata": {},
   "outputs": [
    {
     "name": "stdout",
     "output_type": "stream",
     "text": [
      "Matris X\n",
      "[[1 2]\n",
      " [3 4]]\n",
      "\n",
      "Matriz resultado \n",
      " [[1.         1.41421356]\n",
      " [1.73205081 2.        ]]\n"
     ]
    }
   ],
   "source": [
    "# Raíz cuadrada de elementos; produce la matriz\n",
    "print(f'Matris X\\n{x}')\n",
    "\n",
    "print(f'\\nMatriz resultado \\n {np.sqrt(x)}')"
   ]
  },
  {
   "cell_type": "markdown",
   "metadata": {},
   "source": [
    "Tenga en cuenta que **es una multiplicación por elementos, no una multiplicación de matrices**. En cambio, usamos la función dot para calcular productos internos de vectores, para multiplicar un vector por una matriz y para multiplicar matrices. dot está disponible como función en el módulo numpy y como método de instancia de objetos de matriz:"
   ]
  },
  {
   "cell_type": "code",
   "execution_count": 13,
   "metadata": {},
   "outputs": [
    {
     "name": "stdout",
     "output_type": "stream",
     "text": [
      "\n",
      "La suma de los productos internos es : 219\n",
      "\n",
      "La suma de los productos internos es : 219\n"
     ]
    }
   ],
   "source": [
    "# suma de productos internos de vectores\n",
    "import numpy as np\n",
    "\n",
    "v = np.array([9,10])\n",
    "w = np.array([11, 12])\n",
    "\n",
    "sumaProductos1 = v.dot(w)\n",
    "print(f'\\nLa suma de los productos internos es : {sumaProductos1}') #9*11+10*12 = 219\n",
    "\n",
    "# De otra forma\n",
    "sumaProductos2 = np.dot(v, w)\n",
    "print(f'\\nLa suma de los productos internos es : {sumaProductos2}') #9*11+10*12 = 219"
   ]
  },
  {
   "cell_type": "code",
   "execution_count": 14,
   "metadata": {},
   "outputs": [
    {
     "name": "stdout",
     "output_type": "stream",
     "text": [
      "\n",
      "La suma de los productos internos es : \n",
      "[[19 22]\n",
      " [43 50]]\n",
      "\n",
      "La suma de los productos internos es : \n",
      "[[19 22]\n",
      " [43 50]]\n"
     ]
    }
   ],
   "source": [
    "# En arreglo de 2x2\n",
    "x = np.array([[1,2],[3,4]])\n",
    "y = np.array([[5,6],[7,8]])\n",
    "\n",
    "sumaProductos1 = x.dot(y)\n",
    "print(f'\\nLa suma de los productos internos es : \\n{sumaProductos1}') # [1*5+2*7 = 19  1*6+2*8 = 22]  [3*5+4*7 = 43  3*6+4*8 = 50]\n",
    "\n",
    "# De otra forma\n",
    "sumaProductos2 = np.dot(x, y)\n",
    "print(f'\\nLa suma de los productos internos es : \\n{sumaProductos2}') # [1*5+2*7 = 19  1*6+2*8 = 22]  [3*5+4*7 = 43  3*6+4*8 = 50]"
   ]
  },
  {
   "cell_type": "markdown",
   "metadata": {},
   "source": [
    "Numpy proporciona muchas funciones útiles para realizar cálculos en matrices; uno de los más útiles es sum:"
   ]
  },
  {
   "cell_type": "code",
   "execution_count": 15,
   "metadata": {},
   "outputs": [
    {
     "name": "stdout",
     "output_type": "stream",
     "text": [
      "Suma de elementos de la matris X\n",
      "10\n",
      "\n",
      "Suma de cada columna \n",
      "[4 6]\n",
      "\n",
      "Suma de cada fila \n",
      "[3 7]\n"
     ]
    }
   ],
   "source": [
    "import numpy as np\n",
    "\n",
    "arreglo = [[1,2],\n",
    "           [3,4]]\n",
    "\n",
    "x = np.array(arreglo)\n",
    "\n",
    "# Calcular la suma de todos los elementos\n",
    "SumaElementos = np.sum(x)\n",
    "print(f'Suma de elementos de la matris X\\n{SumaElementos}') # 1+3 + 2+4 = 10\n",
    "\n",
    "# Calcula la suma de cada columna\n",
    "SumaColumnas = np.sum(x, axis = 0)\n",
    "print(f'\\nSuma de cada columna \\n{SumaColumnas}') # 1+3 2+4 Vertical imprime [4 6]\n",
    "\n",
    "# Calcula la suma de cada fila\n",
    "SumaFilas = np.sum(x, axis = 1)\n",
    "print(f'\\nSuma de cada fila \\n{SumaFilas}') # 1+2 3+4 Horizontal imprime [3 7]"
   ]
  },
  {
   "cell_type": "markdown",
   "metadata": {},
   "source": [
    "Puede encontrar la lista completa de funciones matemáticas proporcionadas por numpy en la documentación.\n",
    "\n",
    "https://numpy.org/doc/stable/reference/routines.math.html"
   ]
  },
  {
   "cell_type": "markdown",
   "metadata": {},
   "source": [
    "Además de calcular funciones matemáticas utilizando matrices, con frecuencia necesitamos remodelar o manipular datos en matrices. El ejemplo más simple de este tipo de operación es la transposición de una matriz; para transponer una matriz, simplemente use el **T** atributo de un objeto de matriz:"
   ]
  },
  {
   "cell_type": "code",
   "execution_count": 16,
   "metadata": {},
   "outputs": [
    {
     "name": "stdout",
     "output_type": "stream",
     "text": [
      "Matriz original \n",
      "[[1 2]\n",
      " [3 4]]\n",
      "\n",
      "Matriz Transpuesta \n",
      "[[1 3]\n",
      " [2 4]]\n"
     ]
    }
   ],
   "source": [
    "import numpy as np\n",
    "\n",
    "Arreglo = [\n",
    "    [1,2], \n",
    "    [3,4]\n",
    "]\n",
    "\n",
    "x = np.array(Arreglo)\n",
    "\n",
    "print(f'Matriz original \\n{x}')\n",
    "\n",
    "# Matriz Transpuesta => Atributo T\n",
    "print(f'\\nMatriz Transpuesta \\n{x.T}')"
   ]
  },
  {
   "cell_type": "code",
   "execution_count": 17,
   "metadata": {},
   "outputs": [
    {
     "name": "stdout",
     "output_type": "stream",
     "text": [
      "Matriz original \n",
      "[1 2 3]\n",
      "\n",
      "Matriz Transpuesta \n",
      "[1 2 3]\n"
     ]
    }
   ],
   "source": [
    "# Note que tomar la transposición de una matriz de rango 1 no hace nada:\n",
    "\n",
    "arreglo = [1,2,3]\n",
    "v = np.array(arreglo)\n",
    "\n",
    "print(f'Matriz original \\n{v}')\n",
    "\n",
    "# Matriz Transpuesta => Atributo T\n",
    "print(f'\\nMatriz Transpuesta \\n{v.T}')"
   ]
  },
  {
   "cell_type": "markdown",
   "metadata": {},
   "source": [
    "Numpy proporciona muchas más funciones para manipular matrices; puedes ver la lista completa en la documentación.\n",
    "https://numpy.org/doc/stable/reference/routines.array-manipulation.html"
   ]
  },
  {
   "cell_type": "markdown",
   "metadata": {},
   "source": [
    "# Broadcasting\n",
    "\n",
    "El Broadcasting es un mecanismo poderoso que permite a numpy trabajar con matrices de diferentes formas al realizar operaciones aritméticas. Con frecuencia tenemos una matriz más pequeña y una matriz más grande, y queremos usar la matriz más pequeña varias veces para realizar alguna operación en la matriz más grande.\n",
    "\n",
    "Por ejemplo, suponga que queremos agregar un vector constante a cada fila de una matriz. Podríamos hacerlo así:"
   ]
  },
  {
   "cell_type": "code",
   "execution_count": 18,
   "metadata": {},
   "outputs": [
    {
     "name": "stdout",
     "output_type": "stream",
     "text": [
      "Matriz original \n",
      "[[ 1  2  3]\n",
      " [ 4  5  6]\n",
      " [ 7  8  9]\n",
      " [10 11 12]]\n",
      "\n",
      "Cuerpo de la matriz (4, 3)\n",
      "\n",
      "Vector original \n",
      "[1 0 1]\n",
      "\n",
      "Cuerpo de la matriz (3,)\n",
      "\n",
      "Matriz resultado \n",
      "[[ 2  2  4]\n",
      " [ 5  5  7]\n",
      " [ 8  8 10]\n",
      " [11 11 13]]\n",
      "\n",
      "Cuerpo de la matriz (4, 3)\n",
      "\n"
     ]
    }
   ],
   "source": [
    "import numpy as np\n",
    "\n",
    "# Añadiremos el vector \"v\" a cada fila de la matriz \"x\", almacenando el resultado en la matriz \"y\"\n",
    "arreglo = [\n",
    "    [1,2,3], \n",
    "    [4,5,6], \n",
    "    [7,8,9], \n",
    "    [10,11,12]\n",
    "    ]\n",
    "\n",
    "x = np.array(arreglo) #4x3\n",
    "\n",
    "print(f'Matriz original \\n{x}')\n",
    "print(f'\\nCuerpo de la matriz {x.shape}\\n')\n",
    "\n",
    "v = np.array([1, 0, 1])\n",
    "\n",
    "print(f'Vector original \\n{v}')\n",
    "print(f'\\nCuerpo de la matriz {v.shape}')\n",
    "\n",
    "# Crear una matriz vacía con la misma forma que x con la función empty_like\n",
    "y = np.empty_like(x)\n",
    "\n",
    "# Agrega el vector \"v\" a cada fila de la matriz \"x\" con un bucle explícito.\n",
    "for i in range(4):\n",
    "    y[i, :] = x[i, :] + v\n",
    "print(f'\\nMatriz resultado \\n{y}')\n",
    "print(f'\\nCuerpo de la matriz {y.shape}\\n')"
   ]
  },
  {
   "cell_type": "markdown",
   "metadata": {},
   "source": [
    "Esto funciona; sin embargo, cuando la matriz x es muy grande, calcular un bucle explícito en Python podría ser lento. Tenga en cuenta que agregar el vector a cada fila de la matriz x es equivalente a formar una matriz vv apilando múltiples copias de v verticalmente, luego realizando la suma de elementos de x y vv. Podríamos implementar este enfoque de esta manera:"
   ]
  },
  {
   "cell_type": "code",
   "execution_count": null,
   "metadata": {},
   "outputs": [],
   "source": [
    "import numpy as np\n",
    "\n",
    "# Añadiremos el vector \"v\" a cada fila de la matriz \"x\", almacenando el resultado en la matriz \"y\"\n",
    "\n",
    "x = np.array(\n",
    "    [[1,2,3], \n",
    "     [4,5,6], \n",
    "     [7,8,9], \n",
    "     [10,11,12]\n",
    "]) #4x3\n",
    "\n",
    "print(f'Matriz original \\n{x}')\n",
    "print(f'Cuerpo de la matriz {x.shape}\\n')\n",
    "\n",
    "v = np.array([1, 0, 1])\n",
    "\n",
    "print(f'Vector original \\n{v}')\n",
    "print(f'Cuerpo de la matriz {v.shape}\\n')\n",
    "\n",
    "# Amontonar 4 copias de V una encima de la otra con la función tile\n",
    "vv = np.tile(v, (4, 1))\n",
    "print(f'Matriz original \\n{vv}')\n",
    "\n",
    "# sumar las 2 matrices desde el método .add de np\n",
    "print(f'\\nMatriz resultado \\n{np.add(x,vv)}')\n",
    "print(f'Cuerpo de la matriz {y.shape}\\n')"
   ]
  },
  {
   "cell_type": "markdown",
   "metadata": {},
   "source": [
    "# El Broadcasting de dos matrices juntas sigue estas reglas:\n",
    "\n",
    "1. Si las matrices no tienen el mismo rango, anteponga 1 a la forma de la matriz de rango inferior hasta que ambas formas tengan la misma longitud.\n",
    "\n",
    "2. Se dice que las dos matrices son compatibles en una dimensión si tienen el mismo tamaño en la dimensión, o si una de las matrices tiene el tamaño 1 en esa dimensión.\n",
    "\n",
    "3. Los arreglos se pueden transmitir juntos si son compatibles en todas las dimensiones.\n",
    "\n",
    "3. Después de la transmisión, cada matriz se comporta como si tuviese una forma igual al máximo de formas de las dos matrices de entrada.\n",
    "\n",
    "5. En cualquier dimensión donde una matriz tiene un tamaño 1 y la otra matriz tiene un tamaño mayor que 1, la primera matriz se comporta como si se hubiera copiado a lo largo de esa dimensión.\n",
    "\n",
    "Ver\n",
    "\n",
    "https://numpy.org/doc/stable/user/basics.broadcasting.html\n",
    "\n",
    "http://scipy.github.io/old-wiki/pages/EricsBroadcastingDoc\n",
    "\n",
    "Las funciones que apoyan el Broadcasting se conocen como funciones universales. Puede encontrar la lista de todas las funciones universales en la documentación.\n",
    "\n",
    "https://numpy.org/doc/stable/reference/ufuncs.html#available-ufuncs\n",
    "\n",
    "\n",
    "Asimismo, el Broadcasting suele hacer que su código sea más conciso y rápido, por lo que debe esforzarse por utilizarlo siempre que sea posible.\n",
    "\n",
    "Documentación Numpy\n",
    "Esta breve descripción general ha abordado muchas de las cosas importantes que necesita saber sobre numpy, pero está lejos de ser completa. Consulte la referencia de numpy para obtener más información sobre numpy.\n",
    "\n",
    "https://numpy.org/doc/stable/reference/"
   ]
  }
 ],
 "metadata": {
  "interpreter": {
   "hash": "323d1892a3217eb0f4db6041660d5c1546636e2d429706ca4ab8fde40b13a00b"
  },
  "kernelspec": {
   "display_name": "Python 3.10.2 64-bit",
   "language": "python",
   "name": "python3"
  },
  "language_info": {
   "codemirror_mode": {
    "name": "ipython",
    "version": 3
   },
   "file_extension": ".py",
   "mimetype": "text/x-python",
   "name": "python",
   "nbconvert_exporter": "python",
   "pygments_lexer": "ipython3",
   "version": "3.10.2"
  }
 },
 "nbformat": 4,
 "nbformat_minor": 4
}
